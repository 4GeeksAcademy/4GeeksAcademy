{
  "cells": [
    {
      "cell_type": "markdown",
      "metadata": {
        "id": "view-in-github",
        "colab_type": "text"
      },
      "source": [
        "<a href=\"https://colab.research.google.com/github/TatianaCC/4GeeksAcademy/blob/master/mean-std-with-python.es.ipynb\" target=\"_parent\"><img src=\"https://colab.research.google.com/assets/colab-badge.svg\" alt=\"Open In Colab\"/></a>"
      ]
    },
    {
      "cell_type": "markdown",
      "metadata": {
        "id": "y36nuoCplKRM"
      },
      "source": [
        "### Media y Desviación Estándar\n",
        "\n",
        "$$\\text{mean} = \\mu = \\frac{1}{n}\\sum_{i = 1}^n x_i$$\n",
        "\n",
        "$$\\text{standard deviation} = \\sigma = \\sqrt{\\frac{1}{n}\\sum_{i = 1}^n (x_i - \\mu)^2}$$"
      ]
    },
    {
      "cell_type": "code",
      "execution_count": 2,
      "metadata": {
        "colab": {
          "base_uri": "https://localhost:8080/"
        },
        "id": "_W3B7Lg0lKDS",
        "outputId": "81adbbd8-5ae7-4cd2-c12b-4ab51dcdb89e",
        "vscode": {
          "languageId": "python"
        }
      },
      "outputs": [
        {
          "output_type": "execute_result",
          "data": {
            "text/plain": [
              "7.0"
            ]
          },
          "metadata": {},
          "execution_count": 2
        }
      ],
      "source": [
        "import numpy as np\n",
        "#media de una lista\n",
        "x = [3, 5, 7, 9, 11]\n",
        "np.mean(x)"
      ]
    },
    {
      "cell_type": "code",
      "execution_count": 3,
      "metadata": {
        "colab": {
          "base_uri": "https://localhost:8080/"
        },
        "id": "F0H2cUZxlJ-i",
        "outputId": "182ab0ac-55e6-4d30-ec35-308c64d208e6",
        "vscode": {
          "languageId": "python"
        }
      },
      "outputs": [
        {
          "output_type": "execute_result",
          "data": {
            "text/plain": [
              "2.8284271247461903"
            ]
          },
          "metadata": {},
          "execution_count": 3
        }
      ],
      "source": [
        "#desviación estándar de una lista\n",
        "np.std(x)"
      ]
    },
    {
      "cell_type": "code",
      "execution_count": 8,
      "metadata": {
        "id": "1QLD9HNXlJ4O",
        "vscode": {
          "languageId": "python"
        }
      },
      "outputs": [],
      "source": [
        "from scipy import stats\n",
        "#distribución Binominal con n = 20, p = 0.5\n",
        "b = stats.binom(20, 0.5)"
      ]
    },
    {
      "cell_type": "code",
      "execution_count": 9,
      "metadata": {
        "colab": {
          "base_uri": "https://localhost:8080/"
        },
        "id": "N5Wt76YylJ1P",
        "outputId": "adbc7d38-f066-412c-ee14-38210fd9d8f6",
        "vscode": {
          "languageId": "python"
        }
      },
      "outputs": [
        {
          "output_type": "execute_result",
          "data": {
            "text/plain": [
              "10.0"
            ]
          },
          "metadata": {},
          "execution_count": 9
        }
      ],
      "source": [
        "#media\n",
        "b.mean()"
      ]
    },
    {
      "cell_type": "code",
      "execution_count": 13,
      "metadata": {
        "colab": {
          "base_uri": "https://localhost:8080/",
          "height": 448
        },
        "id": "PqPK-Ow1lJyD",
        "outputId": "bcdc6d44-7efc-4ad9-93aa-858e8e189aaa",
        "vscode": {
          "languageId": "python"
        }
      },
      "outputs": [
        {
          "output_type": "execute_result",
          "data": {
            "text/plain": [
              "<BarContainer object of 21 artists>"
            ]
          },
          "metadata": {},
          "execution_count": 13
        },
        {
          "output_type": "display_data",
          "data": {
            "text/plain": [
              "<Figure size 640x480 with 1 Axes>"
            ],
            "image/png": "[encoded data removed]"
          },
          "metadata": {}
        }
      ],
      "source": [
        "#gráfica\n",
        "import matplotlib.pyplot as plt\n",
        "plt.bar(range(21), b.pmf(range(21)))"
      ]
    },
    {
      "cell_type": "code",
      "execution_count": 20,
      "metadata": {
        "id": "a8KU1n9Mlg6J",
        "vscode": {
          "languageId": "python"
        }
      },
      "outputs": [],
      "source": [
        "#otro ejemplo\n",
        "#binomial n = 50, p = 0.3\n",
        "ex2 = stats.binom(50, 0.3)\n",
        "ex3 = stats.binom(20, 0.3)"
      ]
    },
    {
      "cell_type": "code",
      "execution_count": 21,
      "metadata": {
        "colab": {
          "base_uri": "https://localhost:8080/"
        },
        "id": "jgo80blnmWfR",
        "outputId": "faf4d19f-0aa6-42f2-befd-d09ef23da3f8",
        "vscode": {
          "languageId": "python"
        }
      },
      "outputs": [
        {
          "output_type": "execute_result",
          "data": {
            "text/plain": [
              "15.0"
            ]
          },
          "metadata": {},
          "execution_count": 21
        }
      ],
      "source": [
        "#media\n",
        "ex2.mean()"
      ]
    },
    {
      "cell_type": "code",
      "execution_count": 22,
      "metadata": {
        "colab": {
          "base_uri": "https://localhost:8080/"
        },
        "id": "U-ByFeFyuY8E",
        "outputId": "5ac5ea35-c0ae-452e-ed2e-d83d3c324661",
        "vscode": {
          "languageId": "python"
        }
      },
      "outputs": [
        {
          "output_type": "execute_result",
          "data": {
            "text/plain": [
              "6.0"
            ]
          },
          "metadata": {},
          "execution_count": 22
        }
      ],
      "source": [
        "ex3.mean()"
      ]
    },
    {
      "cell_type": "code",
      "execution_count": 23,
      "metadata": {
        "colab": {
          "base_uri": "https://localhost:8080/"
        },
        "id": "bfy3I2xeubzP",
        "outputId": "be86e9b3-357c-449d-fc32-f6588ae3e81d",
        "vscode": {
          "languageId": "python"
        }
      },
      "outputs": [
        {
          "output_type": "execute_result",
          "data": {
            "text/plain": [
              "2.0493901531919194"
            ]
          },
          "metadata": {},
          "execution_count": 23
        }
      ],
      "source": [
        "ex3.std()"
      ]
    },
    {
      "cell_type": "code",
      "execution_count": 24,
      "metadata": {
        "colab": {
          "base_uri": "https://localhost:8080/"
        },
        "id": "9tA96xDxmWZH",
        "outputId": "4f4065a0-030a-4477-bcf5-b235e05d89e7",
        "vscode": {
          "languageId": "python"
        }
      },
      "outputs": [
        {
          "output_type": "execute_result",
          "data": {
            "text/plain": [
              "3.24037034920393"
            ]
          },
          "metadata": {},
          "execution_count": 24
        }
      ],
      "source": [
        "#desviación\n",
        "ex2.std()"
      ]
    },
    {
      "cell_type": "code",
      "execution_count": 25,
      "metadata": {
        "colab": {
          "base_uri": "https://localhost:8080/",
          "height": 451
        },
        "id": "xWSDRiBpmZlP",
        "outputId": "d52a5ad5-e2d7-4c92-deb7-5a8e5892342e",
        "vscode": {
          "languageId": "python"
        }
      },
      "outputs": [
        {
          "output_type": "execute_result",
          "data": {
            "text/plain": [
              "<BarContainer object of 21 artists>"
            ]
          },
          "metadata": {},
          "execution_count": 25
        },
        {
          "output_type": "display_data",
          "data": {
            "text/plain": [
              "<Figure size 640x480 with 1 Axes>"
            ],
            "image/png": "[encoded data removed]"
          },
          "metadata": {}
        }
      ],
      "source": [
        "#gráfica\n",
        "plt.bar(range(51), ex2.pmf(range(51)))\n",
        "plt.bar(range(21), ex3.pmf(range(21)))"
      ]
    }
  ],
  "metadata": {
    "colab": {
      "name": "calc_distribution_review.ipynb",
      "provenance": [],
      "include_colab_link": true
    },
    "kernelspec": {
      "display_name": "Python 3",
      "name": "python3"
    }
  },
  "nbformat": 4,
  "nbformat_minor": 0
}