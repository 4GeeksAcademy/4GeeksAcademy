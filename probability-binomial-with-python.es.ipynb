{
  "cells": [
    {
      "cell_type": "markdown",
      "metadata": {
        "id": "view-in-github",
        "colab_type": "text"
      },
      "source": [
        "<a href=\"https://colab.research.google.com/github/TatianaCC/4GeeksAcademy/blob/master/probability-binomial-with-python.es.ipynb\" target=\"_parent\"><img src=\"https://colab.research.google.com/assets/colab-badge.svg\" alt=\"Open In Colab\"/></a>"
      ]
    },
    {
      "cell_type": "markdown",
      "metadata": {
        "id": "8LjUD8x0AGuh"
      },
      "source": [
        "### Origen en los Juegos\n",
        "\n",
        "Muchos historiadores de probabilidad señalan el surgimiento de una teoría de probabilidad vinculada a intentos humanos para entender juegos de azar. Comenzamos con un ejemplo temprano llamado Senet que es al menos tan antiguo como el año 3000 aC. Aquí, los movimientos de los jugadores se deciden dejando caer 4 paletas con dos caras de colores. Los jugadores pueden moverse según la cantidad de paletas de colores que estén boca arriba. Nuestro objetivo es explorar los resultados probables de las caídas para comenzar a comprender la probabilidad.\n",
        "\n",
        "<center>\n",
        "    <img src = https://upload.wikimedia.org/wikipedia/commons/thumb/0/0d/Gaming_Board_Inscribed_for_Amenhotep_III_with_Separate_Sliding_Drawer%2C_ca._1390-1353_B.C.E.%2C49.56a-b.jpg/520px-Gaming_Board_Inscribed_for_Amenhotep_III_with_Separate_Sliding_Drawer%2C_ca._1390-1353_B.C.E.%2C49.56a-b.jpg width = 50% />\n",
        "</center>"
      ]
    },
    {
      "cell_type": "markdown",
      "metadata": {
        "id": "IOUJw0bLAGuh"
      },
      "source": [
        "**PROBLEMA**\n",
        "\n",
        "La tabla que está a continuación empieza a explorar estas posibles combinaciones. Vamos a ver mas adelante ejemplos con más posibles combinaciones, pero esto nos ayudará a empezar.\n",
        "\n",
        "| Paletas | # Maneras de obtener 0 blancas | 1 blanca | 2 blancas | 3 blancas | 4 blancas | 5 blancas |\n",
        "| ------  | ------  | ------  | ------  | ------  | ------  | ------  |\n",
        "| 1 | 1 | 1 | na | na | na | na |\n",
        "| 2 | 1 | 2 | 1 | na | na | na |\n",
        "| 3 | 1 | 3 | 3 | 1 | na | na |\n",
        "| 4 | 1 | 4 | 6  | 4 | 1 | na |\n",
        "| 5 | ? | ? | ?  | ? | ? | ? |\n",
        "| 6 | ? | ? | ?  | ? | ? | ? |"
      ]
    },
    {
      "cell_type": "markdown",
      "metadata": {
        "id": "HTzcaeuQAGuh"
      },
      "source": [
        "### Distribución binomial\n",
        "\n",
        "El ejemplo anterior es un ejemplo de un tipo más general de distribución de eventos. Tenemos 4 paletas de dos caras y las trataremos como 4 pruebas de Bernoulli. Para determinar la probabilidad de un resultado, debemos:\n",
        "\n",
        "- Contar cuántas maneras hay de que ocurra este resultado específico.\n",
        "- Multiplicar esto por la probabilidad de éxitos y fracasos.\n",
        "\n",
        "Como función, tendríamos entradas que determinan el resultado (éxito o fracaso, rojo o blanco, cara o cruz, etc.), número de éxitos y fracasos, y la probabilidad de un éxito. A continuación tenemos la forma funcional:\n",
        "\n",
        "$$f(k, n, p) = \\Pr(k;n,p)=\\Pr(X=k)={\\binom {n}{k}}p^{k}(1-p)^{n-k}$$\n",
        "\n",
        "Esto se leería de la siguiente manera:\n",
        "\n",
        "- $\\binom {n}{k}$ cuenta el número de formas en que puede ocurrir un resultado. Por ejemplo, $\\binom{4}{2}$ podría interpretarse como cuántas formas hay de obtener dos paletas blancas de cuatro en total.\n",
        "- $p^k$ es la probabilidad de éxito elevada a la cantidad de éxitos. Por ejemplo, $\\frac{1}{2}^2$ se interpretaría como la probabilidad de obtener dos paletas blancas.\n",
        "- $(1 - p)^k$ es la probabilidad de falla $n-k$ veces. Por ejemplo, $(1 - \\frac{1}{2})^2$ se puede interpretar como la probabilidad de obtener una paleta negra en dos de cuatro intentos."
      ]
    },
    {
      "cell_type": "markdown",
      "metadata": {
        "id": "hzd3J1owAGui"
      },
      "source": [
        "### Usando la computadora"
      ]
    },
    {
      "cell_type": "code",
      "execution_count": 1,
      "metadata": {
        "id": "BRjfikMeAGui"
      },
      "outputs": [],
      "source": [
        "from scipy.special import comb"
      ]
    },
    {
      "cell_type": "code",
      "execution_count": 2,
      "metadata": {
        "colab": {
          "base_uri": "https://localhost:8080/"
        },
        "id": "9x7dblDbAGui",
        "outputId": "f23f5cae-1af5-4ca9-b636-a08445af3c35"
      },
      "outputs": [
        {
          "output_type": "execute_result",
          "data": {
            "text/plain": [
              "6.0"
            ]
          },
          "metadata": {},
          "execution_count": 2
        }
      ],
      "source": [
        "#formas de elegir 2 cosas de 4\n",
        "comb(4, 2)"
      ]
    },
    {
      "cell_type": "code",
      "execution_count": 3,
      "metadata": {
        "colab": {
          "base_uri": "https://localhost:8080/"
        },
        "id": "enG_SZLFAGui",
        "outputId": "d581b97d-77fe-4a44-bdd3-c07e6b5ac22d"
      },
      "outputs": [
        {
          "output_type": "execute_result",
          "data": {
            "text/plain": [
              "0.25"
            ]
          },
          "metadata": {},
          "execution_count": 3
        }
      ],
      "source": [
        "#probabilidad de éxito al número de éxitos\n",
        "(1/2)**2"
      ]
    },
    {
      "cell_type": "code",
      "execution_count": 4,
      "metadata": {
        "colab": {
          "base_uri": "https://localhost:8080/"
        },
        "id": "hJa5UBSBAGui",
        "outputId": "b4f5a6b8-dae2-461a-99fd-455222071fb9"
      },
      "outputs": [
        {
          "output_type": "execute_result",
          "data": {
            "text/plain": [
              "0.25"
            ]
          },
          "metadata": {},
          "execution_count": 4
        }
      ],
      "source": [
        "#probabilidad de fallas a número de fallas\n",
        "(1/2)**2"
      ]
    },
    {
      "cell_type": "code",
      "execution_count": 5,
      "metadata": {
        "colab": {
          "base_uri": "https://localhost:8080/"
        },
        "id": "64sfPZlhAGui",
        "outputId": "6ce4cef5-9b30-4fc3-9631-f114a81987d9"
      },
      "outputs": [
        {
          "output_type": "execute_result",
          "data": {
            "text/plain": [
              "0.375"
            ]
          },
          "metadata": {},
          "execution_count": 5
        }
      ],
      "source": [
        "#ponlo todo junto\n",
        "n_choose_k = comb(4, 2)\n",
        "p_to_the_k = (1/2)**2\n",
        "one_minus_p_to_the_n_minus_k = (1/2)**2\n",
        "#probability of getting 2 white sticks from four\n",
        "n_choose_k*p_to_the_k*one_minus_p_to_the_n_minus_k"
      ]
    },
    {
      "cell_type": "markdown",
      "metadata": {
        "id": "4Ulze-FgAGuj"
      },
      "source": [
        "### Problemas\n",
        "\n",
        "Supongamos que, en cambio, jugamos el juego de Senet usando 5 paletas.\n",
        "\n",
        "1. ¿De cuántas maneras hay de obtener tres paletas blancas?\n",
        "2. ¿Cuál es la probabilidad de que obtengamos tres paletas blancas?\n",
        "3. Supongamos que lanzamos 10 monedas. ¿Cuántos resultados diferentes contienen exactamente tres caras?\n",
        "4. Supongamos que lanzamos 20 monedas. ¿Cuántos resultados diferentes contienen exactamente tres caras?\n",
        "5. Completa las próximas dos filas de la tabla para Senet. ¿Reconoces un patrón?"
      ]
    },
    {
      "cell_type": "code",
      "source": [
        "# Ejercicio 1\n",
        "from scipy.special import comb\n",
        "\n",
        "n = 5\n",
        "com3_5 = comb(5,3)\n",
        "print('Formas de obtener 3 paletas blancas: {:.2f}'.format(com3_5))\n",
        "\n",
        "# Ejercicio 2\n",
        "p = 1/2\n",
        "n_exitos = 3\n",
        "p3 = p**n_exitos\n",
        "print('Probabilidad de obtener 3 paletas blancas: {:.2f}'.format(p3))"
      ],
      "metadata": {
        "id": "DHD_kXCiT32P",
        "outputId": "760ae929-1a94-49cd-be82-b0b6cb722fbf",
        "colab": {
          "base_uri": "https://localhost:8080/"
        }
      },
      "execution_count": 8,
      "outputs": [
        {
          "output_type": "stream",
          "name": "stdout",
          "text": [
            "Formas de obtener 3 paletas blancas: 10.00\n",
            "Probabilidad de obtener 3 paletas blancas: 0.12\n"
          ]
        }
      ]
    },
    {
      "cell_type": "code",
      "source": [
        "# Ejercicio 3\n",
        "com3_10 = comb(10,3)\n",
        "print('Formas de obtener 3 caras en 10 monedas: {:.2f}'.format(com3_10))\n",
        "# Ejercicio 4\n",
        "com3_20 = comb(20,3)\n",
        "print('Formas de obtener 3 caras en 20 monedas: {:.2f}'.format(com3_20))"
      ],
      "metadata": {
        "id": "nAs98HYpU9dW",
        "outputId": "9f07b416-c3fb-4329-f4a1-0ce80393f410",
        "colab": {
          "base_uri": "https://localhost:8080/"
        }
      },
      "execution_count": 10,
      "outputs": [
        {
          "output_type": "stream",
          "name": "stdout",
          "text": [
            "Formas de obtener 3 caras en 10 monedas: 120.00\n",
            "Formas de obtener 3 caras en 20 monedas: 1140.00\n"
          ]
        }
      ]
    },
    {
      "cell_type": "code",
      "source": [
        "# Ejercicio 5\n",
        "for i in range(0,6):\n",
        "  s5 = comb(5,i)\n",
        "  if s5 != 0.0:\n",
        "    print('Formas de obtener '+str(i)+' paletas blancas con 5 paletas: {:.2f}'.format(s5))\n",
        "  else:\n",
        "    print('Formas de obtener '+str(i)+' paletas blancas con 5 paletas: Se piden más paletas blancas de las que hay')"
      ],
      "metadata": {
        "id": "d8hELuBlV7Oc",
        "outputId": "7fa6d323-16e3-449a-9197-2efbcd419f99",
        "colab": {
          "base_uri": "https://localhost:8080/"
        }
      },
      "execution_count": 21,
      "outputs": [
        {
          "output_type": "stream",
          "name": "stdout",
          "text": [
            "Formas de obtener 0 paletas blancas con 5 paletas: 1.00\n",
            "Formas de obtener 1 paletas blancas con 5 paletas: 5.00\n",
            "Formas de obtener 2 paletas blancas con 5 paletas: 10.00\n",
            "Formas de obtener 3 paletas blancas con 5 paletas: 10.00\n",
            "Formas de obtener 4 paletas blancas con 5 paletas: 5.00\n",
            "Formas de obtener 5 paletas blancas con 5 paletas: 1.00\n"
          ]
        }
      ]
    },
    {
      "cell_type": "code",
      "source": [
        "for i in range(0,6):\n",
        "  s6 = comb(6,i)\n",
        "  if s6 != 0.0:\n",
        "    print('Formas de obtener '+str(i)+' paletas blancas con 6 paletas: {:.2f}'.format(s6))\n",
        "  else:\n",
        "    print('Formas de obtener '+str(i)+' paletas blancas con 6 paletas: Se piden más paletas blancas de las que hay')"
      ],
      "metadata": {
        "id": "I1jXXfPVXivX",
        "outputId": "551ca42e-6418-4a91-b00f-6870ea15e9bd",
        "colab": {
          "base_uri": "https://localhost:8080/"
        }
      },
      "execution_count": 23,
      "outputs": [
        {
          "output_type": "stream",
          "name": "stdout",
          "text": [
            "Formas de obtener 0 paletas blancas con 6 paletas: 1.00\n",
            "Formas de obtener 1 paletas blancas con 6 paletas: 6.00\n",
            "Formas de obtener 2 paletas blancas con 6 paletas: 15.00\n",
            "Formas de obtener 3 paletas blancas con 6 paletas: 20.00\n",
            "Formas de obtener 4 paletas blancas con 6 paletas: 15.00\n",
            "Formas de obtener 5 paletas blancas con 6 paletas: 6.00\n"
          ]
        }
      ]
    },
    {
      "cell_type": "markdown",
      "source": [
        "| Paletas | # Maneras de obtener 0 blancas | 1 blanca | 2 blancas | 3 blancas | 4 blancas | 5 blancas |\n",
        "| ------  | ------  | ------  | ------  | ------  | ------  | ------  |\n",
        "| 1 | 1 | 1 | na | na | na | na |\n",
        "| 2 | 1 | 2 | 1 | na | na | na |\n",
        "| 3 | 1 | 3 | 3 | 1 | na | na |\n",
        "| 4 | 1 | 4 | 6  | 4 | 1 | na |\n",
        "| 5 | 1 | 5 | 10  | 10 | 5 | 1 |\n",
        "| 6 | 1 | 6 | 15  | 20 | 15 | 6 |"
      ],
      "metadata": {
        "id": "y7yBd-a1Xcbc"
      }
    },
    {
      "cell_type": "markdown",
      "source": [
        "Se sigue una distribución normal o gaussiana"
      ],
      "metadata": {
        "id": "b9CMQbPKX_PF"
      }
    }
  ],
  "metadata": {
    "colab": {
      "provenance": [],
      "include_colab_link": true
    },
    "kernelspec": {
      "display_name": "Python 3",
      "language": "python",
      "name": "python3"
    },
    "language_info": {
      "codemirror_mode": {
        "name": "ipython",
        "version": 3
      },
      "file_extension": ".py",
      "mimetype": "text/x-python",
      "name": "python",
      "nbconvert_exporter": "python",
      "pygments_lexer": "ipython3",
      "version": "3.8.2"
    }
  },
  "nbformat": 4,
  "nbformat_minor": 0
}