{
  "cells": [
    {
      "cell_type": "markdown",
      "metadata": {
        "id": "view-in-github",
        "colab_type": "text"
      },
      "source": [
        "<a href=\"https://colab.research.google.com/github/TatianaCC/4GeeksAcademy/blob/master/plotting-distributions.ipynb\" target=\"_parent\"><img src=\"https://colab.research.google.com/assets/colab-badge.svg\" alt=\"Open In Colab\"/></a>"
      ]
    },
    {
      "cell_type": "markdown",
      "metadata": {
        "id": "qVk7QlVRAGuj"
      },
      "source": [
        "### Plotting Distributions\n",
        "\n",
        "The fourth row of our sennet table contained the values:\n",
        "\n",
        "$$1 ~ 4 ~ 6 ~ 4 ~ 1$$\n",
        "\n",
        "We can draw a plot of this using bars to represent the counts of each outcome."
      ]
    },
    {
      "cell_type": "code",
      "execution_count": 1,
      "metadata": {
        "id": "dZCweRSwAGuk"
      },
      "outputs": [],
      "source": [
        "bars = ['no white', 'one white', 'two white', 'three white', 'four white']\n",
        "counts = [1, 4, 6, 4, 1]"
      ]
    },
    {
      "cell_type": "code",
      "execution_count": 3,
      "metadata": {
        "colab": {
          "base_uri": "https://localhost:8080/",
          "height": 452
        },
        "id": "krmqSQl5AGuk",
        "outputId": "1a796232-4e18-4488-ce68-8573aeceb71b"
      },
      "outputs": [
        {
          "output_type": "display_data",
          "data": {
            "text/plain": [
              "<Figure size 640x480 with 1 Axes>"
            ],
            "image/png": "[encoded data removed]"
          },
          "metadata": {}
        }
      ],
      "source": [
        "import matplotlib.pyplot as plt\n",
        "\n",
        "plt.bar(bars, counts)\n",
        "plt.title('Counts for each outcome with four two sided sticks');"
      ]
    },
    {
      "cell_type": "markdown",
      "metadata": {
        "id": "HobSAnYuAGuk"
      },
      "source": [
        "Using this plot, we come back to the problem of determining the probability of a given outcome or outcomes.  Here, we can interpret this probability as the relative area of a given bar to the overall count.  For example, we consider each bar having width of one unit, and height of the count.  Thus, we have a total area of:\n",
        "\n",
        "$$\\textbf{TOTAL AREA} = 1 + 4 + 6 + 4 + 1 = 16$$\n",
        "\n",
        "This is the total number of possible outcomes.  Thus, determining the probability of a specific outcome is as simple as dividing the total area of our bars by the area under the event of interest.\n",
        "\n",
        "$$P(\\text{two white}) = \\frac{\\text{area of bar for two white}}{\\text{total area}} = \\frac{6}{16}$$"
      ]
    },
    {
      "cell_type": "markdown",
      "metadata": {
        "id": "-HetZHuPAGuk"
      },
      "source": [
        "### Problems\n",
        "\n",
        "1. Use the plot above to determine the probability of zero white sticks.\n",
        "2. Use the plot above to determine the probability of one white stick?\n",
        "3. What is the probability of one, two, *or* three white sticks and how do we use the graph to determine this."
      ]
    },
    {
      "cell_type": "code",
      "source": [
        "# Total area=total events\n",
        "n = sum(counts)\n",
        "n_nowhite = 1\n",
        "p0 = n_nowhite/n\n",
        "print('Probability of no get white stick: {:.2f}'.format(p0))\n",
        "\n",
        "n_1white = 4\n",
        "p1 = n_1white/n\n",
        "print('Probability of get 1 white stick: {:.2f}'.format(p1))\n",
        "\n"
      ],
      "metadata": {
        "id": "nN_YJ-8PdoMH",
        "outputId": "8230cb05-10d2-4706-baeb-f288c1bfb31c",
        "colab": {
          "base_uri": "https://localhost:8080/"
        }
      },
      "execution_count": 6,
      "outputs": [
        {
          "output_type": "stream",
          "name": "stdout",
          "text": [
            "Probability of no get white stick: 0.06\n",
            "Probability of get 1 white stick: 0.25\n"
          ]
        }
      ]
    },
    {
      "cell_type": "code",
      "source": [
        "n_1white = 4\n",
        "p1 = n_1white/n\n",
        "n_2white = 6\n",
        "p2 = n_2white/n\n",
        "n_3white = 4\n",
        "p3 = n_3white/n\n",
        "\n",
        "p_or = p1+p2+p3\n",
        "print('Probability of get 1,2 or 3 white sticks: {:.2f}'.format(p_or))"
      ],
      "metadata": {
        "id": "oZfVISXMfXaf",
        "outputId": "71aab954-aacf-4fcb-d2cc-8cb19b10542b",
        "colab": {
          "base_uri": "https://localhost:8080/"
        }
      },
      "execution_count": 7,
      "outputs": [
        {
          "output_type": "stream",
          "name": "stdout",
          "text": [
            "Probability of get 1,2 or 3 white sticks: 0.88\n"
          ]
        }
      ]
    }
  ],
  "metadata": {
    "colab": {
      "provenance": [],
      "include_colab_link": true
    },
    "kernelspec": {
      "display_name": "Python 3",
      "language": "python",
      "name": "python3"
    },
    "language_info": {
      "codemirror_mode": {
        "name": "ipython",
        "version": 3
      },
      "file_extension": ".py",
      "mimetype": "text/x-python",
      "name": "python",
      "nbconvert_exporter": "python",
      "pygments_lexer": "ipython3",
      "version": "3.8.2"
    }
  },
  "nbformat": 4,
  "nbformat_minor": 0
}