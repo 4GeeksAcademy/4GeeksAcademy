{
  "cells": [
    {
      "cell_type": "markdown",
      "id": "bdfbcacc",
      "metadata": {
        "id": "bdfbcacc"
      },
      "source": [
        "![Pandas logo](https://github.com/4GeeksAcademy/machine-learning-prework/blob/main/03-pandas/assets/pandas_logo.png?raw=true)\n",
        "\n",
        "## Introducción a Pandas en Python\n",
        "\n",
        "**Pandas** es una librería de código abierto que proporciona estructuras de datos y está diseñado para manejar y analizar datos tabulares en Python. Pandas se basa en NumPy, lo que le permite integrarse bien en el ecosistema de la ciencia de los datos junto a otras librerías como `Scikit-learn` y `Matplotlib`.\n",
        "\n",
        "En concreto, los puntos clave de esta librería son:\n",
        "\n",
        "- **Estructuras de datos**: Esta librería proporciona dos estructuras para trabajar con datos. Estos son las `Series` que son arrays unidimensionales etiquetados, similares a un vector, lista o secuencia y que es capaz de contener cualquier tipo de datos, y los `DataFrames`, que es una estructura bidimensional etiquetada con columnas que pueden ser de diferentes tipos, similar a una hoja de cálculo o a una tabla SQL.\n",
        "- **Manipulación de datos**: Pandas permite llevar a cabo un exhaustivo análisis de datos a través de funciones que pueden aplicarse directamente sobre sus estructuras de datos. Estas operaciones incluyen control de datos faltantes, filtrado de datos, fusión, combinación y unión de datos de diferentes fuentes...\n",
        "- **Eficiencia**: Todas las operaciones y/o funciones que se apliquen sobre las estructuras de datos son vectorizadas para mejorar el rendimiento en comparación con los bucles tradicionales e iteradores de Python.\n",
        "\n",
        "Pandas es una herramienta fundamental para cualquier desarrollador que trabaje con datos en Python, ya que proporciona una amplia variedad de herramientas para la exploración, limpieza y transformación de datos, haciendo que el proceso de análisis sea más eficiente y efectivo."
      ]
    },
    {
      "cell_type": "markdown",
      "id": "40631cd6",
      "metadata": {
        "id": "40631cd6"
      },
      "source": [
        "### Estructuras de datos\n",
        "\n",
        "Pandas proporciona dos estructuras de datos principales: `Series` y `DataFrames`.\n",
        "\n",
        "#### Series\n",
        "\n",
        "Una **serie** en Pandas es una estructura de datos unidimensional etiquetada. Es similar a un array de 1D de NumPy, pero tiene un índice que permite el acceso a los valores por etiqueta. Una serie puede contener cualquier tipo de datos: enteros, cadenas, objetos de Python...\n",
        "\n",
        "![Ejemplo de Serie](https://github.com/4GeeksAcademy/machine-learning-prework/blob/main/03-pandas/assets/series.PNG?raw=true)\n",
        "\n",
        "Una serie en Pandas tiene dos partes diferenciadas:\n",
        "\n",
        "- **Índice** (*index*): Un array de etiquetas asociado a los datos.\n",
        "- **Valor** (*value*): Un array de datos.\n",
        "\n",
        "Una serie puede ser creada utilizando la clase `Series` de la librería con una lista de elementos como argumento. Por ejemplo:"
      ]
    },
    {
      "cell_type": "code",
      "execution_count": null,
      "id": "21653d4f",
      "metadata": {
        "id": "21653d4f",
        "outputId": "9d1d2351-acda-422e-c802-9cc65a2d1e05"
      },
      "outputs": [
        {
          "data": {
            "text/plain": [
              "0    1\n",
              "1    2\n",
              "2    3\n",
              "3    4\n",
              "4    5\n",
              "dtype: int64"
            ]
          },
          "execution_count": 1,
          "metadata": {},
          "output_type": "execute_result"
        }
      ],
      "source": [
        "import pandas as pd\n",
        "\n",
        "serie = pd.Series([1, 2, 3, 4, 5])\n",
        "serie"
      ]
    },
    {
      "cell_type": "markdown",
      "id": "d1c2dda1",
      "metadata": {
        "id": "d1c2dda1"
      },
      "source": [
        "Esto creará una serie con los elementos 1, 2, 3, 4 y 5. Además, al no haber incluido información sobre los índices, se genera uno automático empezando en 0. Si quisiéramos crear una nueva serie con un índice concreto se programaría como sigue:"
      ]
    },
    {
      "cell_type": "code",
      "execution_count": null,
      "id": "2d4c091d",
      "metadata": {
        "id": "2d4c091d",
        "outputId": "697a80e8-792e-4ed4-8a6e-caef65a17bfb"
      },
      "outputs": [
        {
          "data": {
            "text/plain": [
              "a    1\n",
              "b    2\n",
              "c    3\n",
              "d    4\n",
              "e    5\n",
              "dtype: int64"
            ]
          },
          "execution_count": 2,
          "metadata": {},
          "output_type": "execute_result"
        }
      ],
      "source": [
        "serie = pd.Series([1, 2, 3, 4, 5], index = [\"a\", \"b\", \"c\", \"d\", \"e\"])\n",
        "serie"
      ]
    },
    {
      "cell_type": "markdown",
      "id": "f7588c91",
      "metadata": {
        "id": "f7588c91"
      },
      "source": [
        "De esta forma, la serie anterior tiene un índice compuesto por letras.\n",
        "\n",
        "Ambas series almacenan los mismos valores, pero la forma en la que se accede puede variar según el índice.\n",
        "\n",
        "En una serie se puede acceder a sus elementos por índice o por posición (esto último es lo que hacíamos en NumPy). A continuación se muestran algunas operaciones que se pueden realizar utilizando la serie anterior:"
      ]
    },
    {
      "cell_type": "code",
      "execution_count": null,
      "id": "0f90b9e7",
      "metadata": {
        "id": "0f90b9e7",
        "outputId": "1974f37b-dd52-4372-e688-c1066328cb46"
      },
      "outputs": [
        {
          "name": "stdout",
          "output_type": "stream",
          "text": [
            "3\n",
            "3\n",
            "a    1\n",
            "b    7\n",
            "c    3\n",
            "d    4\n",
            "e    5\n",
            "dtype: int64\n",
            "a    11\n",
            "b    17\n",
            "c    13\n",
            "d    14\n",
            "e    15\n",
            "dtype: int64\n",
            "70\n"
          ]
        }
      ],
      "source": [
        "# Acceder al tercer elemento\n",
        "print(serie[\"c\"]) # Por índice\n",
        "print(serie[2]) # Por posición\n",
        "\n",
        "# Cambiar el valor del segundo elemento\n",
        "serie[\"b\"] = 7\n",
        "print(serie)\n",
        "\n",
        "# Sumar 10 a todos los elementos\n",
        "serie += 10\n",
        "print(serie)\n",
        "\n",
        "# Calcular la suma de los elementos\n",
        "sum_all = serie.sum()\n",
        "print(sum_all)"
      ]
    },
    {
      "cell_type": "markdown",
      "id": "e4fe3649",
      "metadata": {
        "id": "e4fe3649"
      },
      "source": [
        "#### DataFrame\n",
        "\n",
        "Un **DataFrame** en Pandas es una estructura de datos bidimensional etiquetada. Es similar a un array de 2D de NumPy, pero tiene un índice que permite el acceso a los valores por etiqueta por fila y columna.\n",
        "\n",
        "![Ejemplo de DataFrame](https://github.com/4GeeksAcademy/machine-learning-prework/blob/main/03-pandas/assets/dataframe.PNG?raw=true)\n",
        "\n",
        "Un DataFrame en Pandas tiene varias partes diferenciadas:\n",
        "\n",
        "- **Datos** (*data*): Una matriz de valores y que pueden ser de distinto tipo por columna.\n",
        "- **Índice de fila** (*row index*): Un array de etiquetas asociado a las filas.\n",
        "- **Índice de columna** (*column index*): Un array de etiquetas asociado a las columnas.\n",
        "\n",
        "Un DataFrame puede verse como un conjunto de series unidas en una estructura tabular, con un índice por fila en común y un índice de columna propio de cada serie.\n",
        "\n",
        "![Series y DataFrame](https://github.com/4GeeksAcademy/machine-learning-prework/blob/main/03-pandas/assets/series_dataframe.png?raw=true?raw=true)\n",
        "\n",
        "Un DataFrame puede ser creado utilizando la clase `DataFrame`. Por ejemplo:"
      ]
    },
    {
      "cell_type": "code",
      "execution_count": null,
      "id": "3947a09a",
      "metadata": {
        "id": "3947a09a",
        "outputId": "c73ae7e9-1ab6-4ee9-f7e8-b1b63e43da4e"
      },
      "outputs": [
        {
          "data": {
            "text/html": [
              "<div>\n",
              "<style scoped>\n",
              "    .dataframe tbody tr th:only-of-type {\n",
              "        vertical-align: middle;\n",
              "    }\n",
              "\n",
              "    .dataframe tbody tr th {\n",
              "        vertical-align: top;\n",
              "    }\n",
              "\n",
              "    .dataframe thead th {\n",
              "        text-align: right;\n",
              "    }\n",
              "</style>\n",
              "<table border=\"1\" class=\"dataframe\">\n",
              "  <thead>\n",
              "    <tr style=\"text-align: right;\">\n",
              "      <th></th>\n",
              "      <th>0</th>\n",
              "      <th>1</th>\n",
              "      <th>2</th>\n",
              "    </tr>\n",
              "  </thead>\n",
              "  <tbody>\n",
              "    <tr>\n",
              "      <th>0</th>\n",
              "      <td>1</td>\n",
              "      <td>2</td>\n",
              "      <td>3</td>\n",
              "    </tr>\n",
              "    <tr>\n",
              "      <th>1</th>\n",
              "      <td>4</td>\n",
              "      <td>5</td>\n",
              "      <td>6</td>\n",
              "    </tr>\n",
              "    <tr>\n",
              "      <th>2</th>\n",
              "      <td>7</td>\n",
              "      <td>8</td>\n",
              "      <td>9</td>\n",
              "    </tr>\n",
              "  </tbody>\n",
              "</table>\n",
              "</div>"
            ],
            "text/plain": [
              "   0  1  2\n",
              "0  1  2  3\n",
              "1  4  5  6\n",
              "2  7  8  9"
            ]
          },
          "execution_count": 4,
          "metadata": {},
          "output_type": "execute_result"
        }
      ],
      "source": [
        "dataframe = pd.DataFrame([[1, 2, 3], [4, 5, 6], [7, 8, 9]])\n",
        "dataframe"
      ]
    },
    {
      "cell_type": "markdown",
      "id": "ccf0e435",
      "metadata": {
        "id": "ccf0e435"
      },
      "source": [
        "Esto creará un DataFrame con tres filas y tres columnas cada fila. Al igual que sucedía con las series, un DataFrame generará índices automáticos para filas y columnas si no se pasan como argumento en el constructor de la clase. Si quisiéramos crear un nuevo DataFrame con índices concretos para filas y columnas se programaría como sigue:"
      ]
    },
    {
      "cell_type": "code",
      "execution_count": null,
      "id": "92f62a5c",
      "metadata": {
        "id": "92f62a5c",
        "outputId": "7d79d75a-541c-4d07-8fbd-9fb603821973"
      },
      "outputs": [
        {
          "data": {
            "text/html": [
              "<div>\n",
              "<style scoped>\n",
              "    .dataframe tbody tr th:only-of-type {\n",
              "        vertical-align: middle;\n",
              "    }\n",
              "\n",
              "    .dataframe tbody tr th {\n",
              "        vertical-align: top;\n",
              "    }\n",
              "\n",
              "    .dataframe thead th {\n",
              "        text-align: right;\n",
              "    }\n",
              "</style>\n",
              "<table border=\"1\" class=\"dataframe\">\n",
              "  <thead>\n",
              "    <tr style=\"text-align: right;\">\n",
              "      <th></th>\n",
              "      <th>col A</th>\n",
              "      <th>col B</th>\n",
              "      <th>col C</th>\n",
              "    </tr>\n",
              "  </thead>\n",
              "  <tbody>\n",
              "    <tr>\n",
              "      <th>a</th>\n",
              "      <td>1</td>\n",
              "      <td>4</td>\n",
              "      <td>7</td>\n",
              "    </tr>\n",
              "    <tr>\n",
              "      <th>b</th>\n",
              "      <td>2</td>\n",
              "      <td>5</td>\n",
              "      <td>8</td>\n",
              "    </tr>\n",
              "    <tr>\n",
              "      <th>c</th>\n",
              "      <td>3</td>\n",
              "      <td>6</td>\n",
              "      <td>9</td>\n",
              "    </tr>\n",
              "  </tbody>\n",
              "</table>\n",
              "</div>"
            ],
            "text/plain": [
              "   col A  col B  col C\n",
              "a      1      4      7\n",
              "b      2      5      8\n",
              "c      3      6      9"
            ]
          },
          "execution_count": 5,
          "metadata": {},
          "output_type": "execute_result"
        }
      ],
      "source": [
        "data = {\n",
        "    \"col A\": [1, 2, 3],\n",
        "    \"col B\": [4, 5, 6],\n",
        "    \"col C\": [7, 8, 9]\n",
        "}\n",
        "\n",
        "dataframe = pd.DataFrame(data, index = [\"a\", \"b\", \"c\"])\n",
        "dataframe"
      ]
    },
    {
      "cell_type": "markdown",
      "id": "758e57bd",
      "metadata": {
        "id": "758e57bd"
      },
      "source": [
        "De esta forma se proporciona un índice personalizado para las columnas (etiquetando las filas dentro de un diccionario) y para las filas (con el argumento `index` tal y como sucedía con las series).\n",
        "\n",
        "En un DataFrame se puede acceder a sus elementos por índice o por posición. A continuación se muestran algunas operaciones que se pueden realizar utilizando el DataFrame anterior:"
      ]
    },
    {
      "cell_type": "code",
      "execution_count": null,
      "id": "258c47ff",
      "metadata": {
        "id": "258c47ff",
        "outputId": "7b8465c8-7daf-483c-b2ea-24c82473ed1d"
      },
      "outputs": [
        {
          "name": "stdout",
          "output_type": "stream",
          "text": [
            "a    1\n",
            "b    2\n",
            "c    3\n",
            "Name: col A, dtype: int64\n",
            "a    1\n",
            "b    2\n",
            "c    3\n",
            "Name: col A, dtype: int64\n",
            "a    1\n",
            "b    2\n",
            "c    3\n",
            "Name: col A, dtype: int64\n",
            "col A    1\n",
            "col B    4\n",
            "col C    7\n",
            "Name: a, dtype: int64\n",
            "col A    1\n",
            "col B    4\n",
            "col C    7\n",
            "Name: a, dtype: int64\n",
            "1\n",
            "1\n",
            "   col A  col B  col C  col D\n",
            "a      1      4      7     10\n",
            "b      2      5      8     11\n",
            "c      3      6      9     12\n",
            "   col A  col B  col C  col D\n",
            "a      1      4      7     10\n",
            "b      2      5      8     11\n",
            "c      3      6      9     12\n",
            "d     13     14     15     16\n",
            "   col A  col B  col C  col D\n",
            "a     10      4      7     10\n",
            "b     20      5      8     11\n",
            "c     30      6      9     12\n",
            "d    130     14     15     16\n",
            "col A    190\n",
            "col B     29\n",
            "col C     39\n",
            "col D     49\n",
            "dtype: int64\n"
          ]
        }
      ],
      "source": [
        "# Acceder a todos los datos de una columna\n",
        "print(dataframe[\"col A\"]) # Por índice\n",
        "print(dataframe.loc[:,\"col A\"]) # Por índice\n",
        "print(dataframe.iloc[:,0]) # Por posición\n",
        "\n",
        "# Acceder a todos los datos de una fila\n",
        "print(dataframe.loc[\"a\"]) # Por índice\n",
        "print(dataframe.iloc[0]) # Por posición\n",
        "\n",
        "# Acceder a un elemento (fila, columna) concreto\n",
        "print(dataframe.loc[\"a\", \"col A\"]) # Por índice\n",
        "print(dataframe.iloc[0, 0]) # Por posición\n",
        "\n",
        "# Crear una nueva columna\n",
        "dataframe[\"col D\"] = [10, 11, 12]\n",
        "print(dataframe)\n",
        "\n",
        "# Crear una nueva fila\n",
        "dataframe.loc[\"d\"] = [13, 14, 15, 16]\n",
        "print(dataframe)\n",
        "\n",
        "# Multiplicar por 10 los elementos de una columna\n",
        "dataframe[\"col A\"] *= 10\n",
        "print(dataframe)\n",
        "\n",
        "# Calcular la suma de todos los elementos\n",
        "sum_all = dataframe.sum()\n",
        "print(sum_all)"
      ]
    },
    {
      "cell_type": "markdown",
      "id": "1ac3bdaa",
      "metadata": {
        "id": "1ac3bdaa"
      },
      "source": [
        "### Funciones\n",
        "\n",
        "Pandas proporciona una gran cantidad de funciones predefinidas y que se pueden aplicar sobre las estructuras de datos vistas anteriormente. Algunas de las más utilizadas en el análisis de datos son:"
      ]
    },
    {
      "cell_type": "code",
      "execution_count": null,
      "id": "9a54370c",
      "metadata": {
        "id": "9a54370c",
        "outputId": "750cd4b6-0c6f-4f21-de71-d5781854e867"
      },
      "outputs": [
        {
          "name": "stdout",
          "output_type": "stream",
          "text": [
            "Suma de series: 0    5\n",
            "1    7\n",
            "2    9\n",
            "dtype: int64\n",
            "Suma de DataFrames:     0   1   2\n",
            "0   8  10  12\n",
            "1  14  16  18\n",
            "Media: 2.0\n",
            "Mediana: 2.0\n",
            "Número de elementos: 3\n",
            "Desviación estándar: 1.0\n",
            "Varianza: 1.0\n",
            "Máximo valor: 3\n",
            "Mínimo valor: 1\n",
            "Correlación: 1.0\n",
            "Resumen estadístico: count    3.0\n",
            "mean     2.0\n",
            "std      1.0\n",
            "min      1.0\n",
            "25%      1.5\n",
            "50%      2.0\n",
            "75%      2.5\n",
            "max      3.0\n",
            "dtype: float64\n"
          ]
        }
      ],
      "source": [
        "import pandas as pd\n",
        "\n",
        "s1 = pd.Series([1, 2, 3])\n",
        "s2 = pd.Series([4, 5, 6])\n",
        "d1 = pd.DataFrame([[1, 2, 3], [4, 5, 6]])\n",
        "d2 = pd.DataFrame([[7, 8, 9], [10, 11, 12]])\n",
        "\n",
        "# Operaciones Aritméticas\n",
        "print(\"Suma de series:\", s1.add(s2))\n",
        "print(\"Suma de DataFrames:\", d1.add(d2))\n",
        "\n",
        "# Operaciones Estadísticas\n",
        "# Se pueden aplicar de igual forma a los DataFrames\n",
        "print(\"Media:\", s1.mean())\n",
        "print(\"Mediana:\", s1.median())\n",
        "print(\"Número de elementos:\", s1.count())\n",
        "print(\"Desviación estándar:\", s1.std())\n",
        "print(\"Varianza:\", s1.var())\n",
        "print(\"Máximo valor:\", s1.max())\n",
        "print(\"Mínimo valor:\", s1.min())\n",
        "print(\"Correlación:\", s1.corr(s2))\n",
        "print(\"Resumen estadístico:\", s1.describe())"
      ]
    },
    {
      "cell_type": "markdown",
      "id": "1837dc19",
      "metadata": {
        "id": "1837dc19"
      },
      "source": [
        "#### Funciones personalizadas\n",
        "\n",
        "Además de las funciones predefinidas de Pandas, también se pueden definir y aplicar otras a las estructuras de datos. Para ello, tenemos que programar la función para que reciba un valor (o una columna o fila en el caso de un DataFrame) y devuelva otro modificado, y referenciarla con `apply`.\n",
        "\n",
        "Además, esta función permite utilizar **expresiones lambda** (*lambda expressions*) para la declaración anónima de funciones.\n",
        "\n",
        "A continuación se muestra cómo aplicar funciones a las series:"
      ]
    },
    {
      "cell_type": "code",
      "execution_count": null,
      "id": "282d22bb",
      "metadata": {
        "id": "282d22bb",
        "outputId": "a73447cd-0d82-49b4-d582-f5c070ba72c2"
      },
      "outputs": [
        {
          "name": "stdout",
          "output_type": "stream",
          "text": [
            "0     1\n",
            "1     4\n",
            "2     9\n",
            "3    16\n",
            "dtype: int64\n",
            "0     1\n",
            "1     4\n",
            "2     9\n",
            "3    16\n",
            "dtype: int64\n"
          ]
        }
      ],
      "source": [
        "import pandas as pd\n",
        "s = pd.Series([1, 2, 3, 4])\n",
        "\n",
        "# Definición explícita de la función\n",
        "def squared(x):\n",
        "    return x ** 2\n",
        "s1 = s.apply(squared)\n",
        "print(s1)\n",
        "\n",
        "# Definición anónima de la función\n",
        "s2 = s.apply(lambda x: x ** 2)\n",
        "print(s2)"
      ]
    },
    {
      "cell_type": "markdown",
      "id": "40e3a3db",
      "metadata": {
        "id": "40e3a3db"
      },
      "source": [
        "A continuación se muestra cómo aplicar funciones a un DataFrame, que puede hacerse por fila, por columna o por elementos, similar a las series:"
      ]
    },
    {
      "cell_type": "code",
      "execution_count": null,
      "id": "7c96f45d",
      "metadata": {
        "id": "7c96f45d",
        "outputId": "9c7af20a-3d0e-4ad8-bfa3-65cd25f86c7a"
      },
      "outputs": [
        {
          "name": "stdout",
          "output_type": "stream",
          "text": [
            "   A  B\n",
            "0  1  4\n",
            "1  4  5\n",
            "2  9  6\n",
            "   A   B\n",
            "0  1  16\n",
            "1  4   5\n",
            "2  9   6\n",
            "    A    B\n",
            "0   1  256\n",
            "1  16   25\n",
            "2  81   36\n"
          ]
        }
      ],
      "source": [
        "df = pd.DataFrame({\n",
        "    \"A\": [1, 2, 3],\n",
        "    \"B\": [4, 5, 6]\n",
        "})\n",
        "\n",
        "# Aplicar función a lo largo de una columna\n",
        "df[\"A\"] = df[\"A\"].apply(lambda x: x ** 2)\n",
        "print(df)\n",
        "\n",
        "# Aplicar función a lo largo de una fila\n",
        "df.loc[0] = df.loc[0].apply(lambda x: x ** 2)\n",
        "print(df)\n",
        "\n",
        "# Aplicar función a todos los elementos\n",
        "df = df.applymap(lambda x: x ** 2)\n",
        "print(df)"
      ]
    },
    {
      "cell_type": "markdown",
      "id": "3acb43c7",
      "metadata": {
        "id": "3acb43c7"
      },
      "source": [
        "`apply` es más flexible que otras funciones vectorizadas de Pandas, pero puede ser más lenta, especialmente cuando se aplica a grandes conjuntos de datos. Siempre es importante explorar las funciones incorporadas de Pandas o NumPy primero, ya que suelen ser más eficientes que las que podríamos llegar a implementar nosotros.\n",
        "\n",
        "Además, esta función puede devolver resultados de diferentes formas, dependiendo de la función aplicada y de cómo esté configurada."
      ]
    },
    {
      "cell_type": "markdown",
      "id": "a9f764b6",
      "metadata": {
        "id": "a9f764b6"
      },
      "source": [
        "## Ejercicios\n",
        "\n",
        "Haz clic en el botón \"Abrir en Colab\" que se encuentra al principio de esta lección, para poder realizar los ejercicios en Google Collab.\n",
        "\n",
        "En el siguiente enlace puedes conseguir las [soluciones a los ejercicios de pandas python](https://4geeks.com/lesson/pandas-exercises-and-solutions) que encontraras mas abajo.\n",
        "\n",
        "> 🔥 We also recommend you to complete this [interactive and self-corrected Pandas tutorial](https://4geeks.com/interactive-exercise/pandas-tutorial-and-exercises) accompanied by our AI mentor Rigobot, who will answer all your questions instantly.\n",
        "\n",
        "### Creación de series y DataFrames"
      ]
    },
    {
      "cell_type": "markdown",
      "id": "e3c20b3d",
      "metadata": {
        "id": "e3c20b3d"
      },
      "source": [
        "#### Ejercicio Pandas 01: Crea una serie a partir de una lista, de un array de NumPy y de un diccionario (★☆☆)\n",
        "\n",
        "> NOTA: Revisa la clase `pd.Series` (https://pandas.pydata.org/docs/reference/api/pandas.Series.html)"
      ]
    },
    {
      "cell_type": "code",
      "execution_count": 1,
      "id": "8a758bcf",
      "metadata": {
        "colab": {
          "base_uri": "https://localhost:8080/"
        },
        "id": "8a758bcf",
        "outputId": "4b210af3-28d9-4bd0-a1b1-ce427e4fbb8d"
      },
      "outputs": [
        {
          "output_type": "stream",
          "name": "stdout",
          "text": [
            "0     1\n",
            "1     2\n",
            "2     3\n",
            "3     4\n",
            "4     5\n",
            "5     6\n",
            "6     7\n",
            "7     8\n",
            "8     9\n",
            "9    10\n",
            "dtype: int64\n",
            "0     1\n",
            "1     2\n",
            "2     3\n",
            "3     4\n",
            "4     5\n",
            "5     6\n",
            "6     7\n",
            "7     8\n",
            "8     9\n",
            "9    10\n",
            "dtype: int64\n",
            "a     1\n",
            "b     2\n",
            "c     3\n",
            "d     4\n",
            "e     5\n",
            "f     6\n",
            "g     7\n",
            "h     8\n",
            "i     9\n",
            "j    10\n",
            "dtype: int64\n"
          ]
        }
      ],
      "source": [
        "import numpy as np\n",
        "import pandas as pd\n",
        "\n",
        "lista = [1,2,3,4,5,6,7,8,9,10]\n",
        "array = np.array([1,2,3,4,5,6,7,8,9,10])\n",
        "diccionario = {'a':1, 'b':2, 'c':3, 'd':4, 'e':5, 'f':6, 'g':7, 'h':8, 'i':9, 'j':10}\n",
        "\n",
        "serie_lista = pd.Series(lista)\n",
        "serie_array = pd.Series(array)\n",
        "serie_diccionario = pd.Series(diccionario)\n",
        "\n",
        "print(serie_lista)\n",
        "print(serie_array)\n",
        "print(serie_diccionario)"
      ]
    },
    {
      "cell_type": "markdown",
      "id": "cb8185b8",
      "metadata": {
        "id": "cb8185b8"
      },
      "source": [
        "#### Ejercicio Pandas 02: Crea un DataFrame a partir de un array de NumPy, de un diccionario y de una lista de tuplas (★☆☆)\n",
        "\n",
        "> NOTA: Revisa la clase `pd.DataFrame` (https://pandas.pydata.org/docs/reference/api/pandas.DataFrame.html)"
      ]
    },
    {
      "cell_type": "code",
      "execution_count": 8,
      "id": "16cc6699",
      "metadata": {
        "colab": {
          "base_uri": "https://localhost:8080/"
        },
        "id": "16cc6699",
        "outputId": "96e98fbd-dbd5-440b-a835-3d39bbb310e3"
      },
      "outputs": [
        {
          "output_type": "stream",
          "name": "stdout",
          "text": [
            "   0  1  2\n",
            "0  1  2  3\n",
            "1  4  5  6\n",
            "2  7  8  9\n",
            "   0  1  2\n",
            "0  1  2  3\n",
            "1  4  5  6\n",
            "2  7  8  9\n",
            "   a  b  c  d  e  f  g  h  i   j\n",
            "0  1  2  3  4  5  6  7  8  9  10\n",
            "1  1  2  3  4  5  6  7  8  9  10\n",
            "2  1  2  3  4  5  6  7  8  9  10\n",
            "3  1  2  3  4  5  6  7  8  9  10\n",
            "4  1  2  3  4  5  6  7  8  9  10\n",
            "5  1  2  3  4  5  6  7  8  9  10\n",
            "6  1  2  3  4  5  6  7  8  9  10\n",
            "7  1  2  3  4  5  6  7  8  9  10\n",
            "8  1  2  3  4  5  6  7  8  9  10\n",
            "9  1  2  3  4  5  6  7  8  9  10\n"
          ]
        }
      ],
      "source": [
        "lista_tuplas = [(1,2,3),(4,5,6),(7,8,9)]\n",
        "array = np.array([[1,2,3],[4,5,6],[7,8,9]])\n",
        "diccionario = {'a':1, 'b':2, 'c':3, 'd':4, 'e':5, 'f':6, 'g':7, 'h':8, 'i':9, 'j':10}\n",
        "\n",
        "dataframe_lista_tuplas = pd.DataFrame(lista_tuplas)\n",
        "dataframe_array = pd.DataFrame(array)\n",
        "index_for_dict = range(len(diccionario))\n",
        "dataframe_diccionario = pd.DataFrame(diccionario, index=index_for_dict)\n",
        "\n",
        "print(dataframe_lista_tuplas)\n",
        "print(dataframe_array)\n",
        "print(dataframe_diccionario)"
      ]
    },
    {
      "cell_type": "markdown",
      "id": "96424fb7",
      "metadata": {
        "id": "96424fb7"
      },
      "source": [
        "#### Ejercicio Pandas 03: Crea 2 series y utilízalas para construir un DataFrame (★☆☆)\n",
        "\n",
        "> NOTA: Revisa las funciones `pd.concat` (https://pandas.pydata.org/docs/reference/api/pandas.concat.html) y `pd.Series.to_frame` (https://pandas.pydata.org/docs/reference/api/pandas.Series.to_frame.html)"
      ]
    },
    {
      "cell_type": "code",
      "execution_count": 27,
      "id": "934e60d7",
      "metadata": {
        "colab": {
          "base_uri": "https://localhost:8080/"
        },
        "id": "934e60d7",
        "outputId": "47fe1b5e-3073-4602-d434-7510b110fe33"
      },
      "outputs": [
        {
          "output_type": "stream",
          "name": "stdout",
          "text": [
            "   0   1\n",
            "0  1   6\n",
            "1  2   7\n",
            "2  3   8\n",
            "3  4   9\n",
            "4  5  10\n"
          ]
        }
      ],
      "source": [
        "s1 = pd.Series([1,2,3,4,5])\n",
        "s2 = pd.Series([6,7,8,9,10])\n",
        "data_frame = pd.concat([s1, s2], axis =1)\n",
        "print(data_frame)"
      ]
    },
    {
      "cell_type": "markdown",
      "id": "8caafb43",
      "metadata": {
        "id": "8caafb43"
      },
      "source": [
        "### Filtrado y actualización"
      ]
    },
    {
      "cell_type": "markdown",
      "id": "1499a0a6",
      "metadata": {
        "id": "1499a0a6"
      },
      "source": [
        "#### Ejercicio Pandas 04: Utiliza las series creadas en el ejercicio anterior y selecciona las posiciones de los elementos de la primera serie que están en la segunda (★★☆)\n",
        "\n",
        "> NOTA: Revisa la función `pd.Series.isin` (https://pandas.pydata.org/docs/reference/api/pandas.Series.isin.html)"
      ]
    },
    {
      "cell_type": "code",
      "execution_count": 31,
      "id": "5683a253",
      "metadata": {
        "colab": {
          "base_uri": "https://localhost:8080/"
        },
        "id": "5683a253",
        "outputId": "1086b15a-bd7c-48fc-f581-6bdd72e077ed"
      },
      "outputs": [
        {
          "output_type": "stream",
          "name": "stdout",
          "text": [
            "Index([], dtype='int64')\n"
          ]
        }
      ],
      "source": [
        "s1 = pd.Series([1,2,3,4,5])\n",
        "s2 = pd.Series([6,7,8,9,10])\n",
        "filtering_results = s1.isin(s2)\n",
        "indices = s1[filtering_results].index\n",
        "\n",
        "print(indices)"
      ]
    },
    {
      "cell_type": "markdown",
      "id": "4303b614",
      "metadata": {
        "id": "4303b614"
      },
      "source": [
        "#### Ejercicio Pandas 05: Utiliza las series creadas en el ejercicio 03 y lista los elementos no comunes entre ambas (★★☆)"
      ]
    },
    {
      "cell_type": "code",
      "execution_count": 32,
      "id": "477e01f4",
      "metadata": {
        "colab": {
          "base_uri": "https://localhost:8080/"
        },
        "id": "477e01f4",
        "outputId": "30e1be34-b74b-4d60-df33-62d322124b62"
      },
      "outputs": [
        {
          "output_type": "stream",
          "name": "stdout",
          "text": [
            "Index([0, 1, 2, 3, 4], dtype='int64')\n"
          ]
        }
      ],
      "source": [
        "s1 = pd.Series([1,2,3,4,5])\n",
        "s2 = pd.Series([6,7,8,9,10])\n",
        "filtering_results = s1.isin(s2)\n",
        "indices = s1[~filtering_results].index\n",
        "\n",
        "print(indices)"
      ]
    },
    {
      "cell_type": "markdown",
      "id": "4e7ad59c",
      "metadata": {
        "id": "4e7ad59c"
      },
      "source": [
        "#### Ejercicio 06: Crea un DataFrame de números aleatorios con 5 columnas y 10 filas y ordena una de sus columnas de menor a mayor (★★☆)\n",
        "\n",
        "> NOTA: Revisa la función `pd.DataFrame.sort_values` (https://pandas.pydata.org/docs/reference/api/pandas.DataFrame.sort_values.html)"
      ]
    },
    {
      "cell_type": "code",
      "execution_count": 40,
      "id": "82de9a71",
      "metadata": {
        "colab": {
          "base_uri": "https://localhost:8080/",
          "height": 554
        },
        "id": "82de9a71",
        "outputId": "55b0b99f-0799-4bbf-ae48-8ce7c566f934"
      },
      "outputs": [
        {
          "output_type": "stream",
          "name": "stdout",
          "text": [
            "    A   B   C   D   E\n",
            "0  10  81  55  49   2\n",
            "1  37  15  58  29  38\n",
            "2  66  64  18  46  40\n",
            "3  10  30  30  22  11\n",
            "4   6  98  35   1  20\n",
            "5  41  88  32  86  69\n",
            "6  29  47  39  62  58\n",
            "7  97  32  41   8  77\n",
            "8   6  94  54  55  17\n",
            "9  61  52  35  45  37\n"
          ]
        },
        {
          "output_type": "execute_result",
          "data": {
            "text/plain": [
              "    A   B   C   D   E\n",
              "4   6  98  35   1  20\n",
              "8   6  94  54  55  17\n",
              "3  10  30  30  22  11\n",
              "0  10  81  55  49   2\n",
              "6  29  47  39  62  58\n",
              "1  37  15  58  29  38\n",
              "5  41  88  32  86  69\n",
              "9  61  52  35  45  37\n",
              "2  66  64  18  46  40\n",
              "7  97  32  41   8  77"
            ],
            "text/html": [
              "\n",
              "  <div id=\"df-becb0007-1f45-4f90-85a3-9e915c65c5e8\" class=\"colab-df-container\">\n",
              "    <div>\n",
              "<style scoped>\n",
              "    .dataframe tbody tr th:only-of-type {\n",
              "        vertical-align: middle;\n",
              "    }\n",
              "\n",
              "    .dataframe tbody tr th {\n",
              "        vertical-align: top;\n",
              "    }\n",
              "\n",
              "    .dataframe thead th {\n",
              "        text-align: right;\n",
              "    }\n",
              "</style>\n",
              "<table border=\"1\" class=\"dataframe\">\n",
              "  <thead>\n",
              "    <tr style=\"text-align: right;\">\n",
              "      <th></th>\n",
              "      <th>A</th>\n",
              "      <th>B</th>\n",
              "      <th>C</th>\n",
              "      <th>D</th>\n",
              "      <th>E</th>\n",
              "    </tr>\n",
              "  </thead>\n",
              "  <tbody>\n",
              "    <tr>\n",
              "      <th>4</th>\n",
              "      <td>6</td>\n",
              "      <td>98</td>\n",
              "      <td>35</td>\n",
              "      <td>1</td>\n",
              "      <td>20</td>\n",
              "    </tr>\n",
              "    <tr>\n",
              "      <th>8</th>\n",
              "      <td>6</td>\n",
              "      <td>94</td>\n",
              "      <td>54</td>\n",
              "      <td>55</td>\n",
              "      <td>17</td>\n",
              "    </tr>\n",
              "    <tr>\n",
              "      <th>3</th>\n",
              "      <td>10</td>\n",
              "      <td>30</td>\n",
              "      <td>30</td>\n",
              "      <td>22</td>\n",
              "      <td>11</td>\n",
              "    </tr>\n",
              "    <tr>\n",
              "      <th>0</th>\n",
              "      <td>10</td>\n",
              "      <td>81</td>\n",
              "      <td>55</td>\n",
              "      <td>49</td>\n",
              "      <td>2</td>\n",
              "    </tr>\n",
              "    <tr>\n",
              "      <th>6</th>\n",
              "      <td>29</td>\n",
              "      <td>47</td>\n",
              "      <td>39</td>\n",
              "      <td>62</td>\n",
              "      <td>58</td>\n",
              "    </tr>\n",
              "    <tr>\n",
              "      <th>1</th>\n",
              "      <td>37</td>\n",
              "      <td>15</td>\n",
              "      <td>58</td>\n",
              "      <td>29</td>\n",
              "      <td>38</td>\n",
              "    </tr>\n",
              "    <tr>\n",
              "      <th>5</th>\n",
              "      <td>41</td>\n",
              "      <td>88</td>\n",
              "      <td>32</td>\n",
              "      <td>86</td>\n",
              "      <td>69</td>\n",
              "    </tr>\n",
              "    <tr>\n",
              "      <th>9</th>\n",
              "      <td>61</td>\n",
              "      <td>52</td>\n",
              "      <td>35</td>\n",
              "      <td>45</td>\n",
              "      <td>37</td>\n",
              "    </tr>\n",
              "    <tr>\n",
              "      <th>2</th>\n",
              "      <td>66</td>\n",
              "      <td>64</td>\n",
              "      <td>18</td>\n",
              "      <td>46</td>\n",
              "      <td>40</td>\n",
              "    </tr>\n",
              "    <tr>\n",
              "      <th>7</th>\n",
              "      <td>97</td>\n",
              "      <td>32</td>\n",
              "      <td>41</td>\n",
              "      <td>8</td>\n",
              "      <td>77</td>\n",
              "    </tr>\n",
              "  </tbody>\n",
              "</table>\n",
              "</div>\n",
              "    <div class=\"colab-df-buttons\">\n",
              "\n",
              "  <div class=\"colab-df-container\">\n",
              "    <button class=\"colab-df-convert\" onclick=\"convertToInteractive('df-becb0007-1f45-4f90-85a3-9e915c65c5e8')\"\n",
              "            title=\"Convert this dataframe to an interactive table.\"\n",
              "            style=\"display:none;\">\n",
              "\n",
              "  <svg xmlns=\"http://www.w3.org/2000/svg\" height=\"24px\" viewBox=\"0 -960 960 960\">\n",
              "    <path d=\"M120-120v-720h720v720H120Zm60-500h600v-160H180v160Zm220 220h160v-160H400v160Zm0 220h160v-160H400v160ZM180-400h160v-160H180v160Zm440 0h160v-160H620v160ZM180-180h160v-160H180v160Zm440 0h160v-160H620v160Z\"/>\n",
              "  </svg>\n",
              "    </button>\n",
              "\n",
              "  <style>\n",
              "    .colab-df-container {\n",
              "      display:flex;\n",
              "      gap: 12px;\n",
              "    }\n",
              "\n",
              "    .colab-df-convert {\n",
              "      background-color: #E8F0FE;\n",
              "      border: none;\n",
              "      border-radius: 50%;\n",
              "      cursor: pointer;\n",
              "      display: none;\n",
              "      fill: #1967D2;\n",
              "      height: 32px;\n",
              "      padding: 0 0 0 0;\n",
              "      width: 32px;\n",
              "    }\n",
              "\n",
              "    .colab-df-convert:hover {\n",
              "      background-color: #E2EBFA;\n",
              "      box-shadow: 0px 1px 2px rgba(60, 64, 67, 0.3), 0px 1px 3px 1px rgba(60, 64, 67, 0.15);\n",
              "      fill: #174EA6;\n",
              "    }\n",
              "\n",
              "    .colab-df-buttons div {\n",
              "      margin-bottom: 4px;\n",
              "    }\n",
              "\n",
              "    [theme=dark] .colab-df-convert {\n",
              "      background-color: #3B4455;\n",
              "      fill: #D2E3FC;\n",
              "    }\n",
              "\n",
              "    [theme=dark] .colab-df-convert:hover {\n",
              "      background-color: #434B5C;\n",
              "      box-shadow: 0px 1px 3px 1px rgba(0, 0, 0, 0.15);\n",
              "      filter: drop-shadow(0px 1px 2px rgba(0, 0, 0, 0.3));\n",
              "      fill: #FFFFFF;\n",
              "    }\n",
              "  </style>\n",
              "\n",
              "    <script>\n",
              "      const buttonEl =\n",
              "        document.querySelector('#df-becb0007-1f45-4f90-85a3-9e915c65c5e8 button.colab-df-convert');\n",
              "      buttonEl.style.display =\n",
              "        google.colab.kernel.accessAllowed ? 'block' : 'none';\n",
              "\n",
              "      async function convertToInteractive(key) {\n",
              "        const element = document.querySelector('#df-becb0007-1f45-4f90-85a3-9e915c65c5e8');\n",
              "        const dataTable =\n",
              "          await google.colab.kernel.invokeFunction('convertToInteractive',\n",
              "                                                    [key], {});\n",
              "        if (!dataTable) return;\n",
              "\n",
              "        const docLinkHtml = 'Like what you see? Visit the ' +\n",
              "          '<a target=\"_blank\" href=https://colab.research.google.com/notebooks/data_table.ipynb>data table notebook</a>'\n",
              "          + ' to learn more about interactive tables.';\n",
              "        element.innerHTML = '';\n",
              "        dataTable['output_type'] = 'display_data';\n",
              "        await google.colab.output.renderOutput(dataTable, element);\n",
              "        const docLink = document.createElement('div');\n",
              "        docLink.innerHTML = docLinkHtml;\n",
              "        element.appendChild(docLink);\n",
              "      }\n",
              "    </script>\n",
              "  </div>\n",
              "\n",
              "\n",
              "    <div id=\"df-2bb63972-07c7-46ec-8a20-8dcadbb7fd3b\">\n",
              "      <button class=\"colab-df-quickchart\" onclick=\"quickchart('df-2bb63972-07c7-46ec-8a20-8dcadbb7fd3b')\"\n",
              "                title=\"Suggest charts\"\n",
              "                style=\"display:none;\">\n",
              "\n",
              "<svg xmlns=\"http://www.w3.org/2000/svg\" height=\"24px\"viewBox=\"0 0 24 24\"\n",
              "     width=\"24px\">\n",
              "    <g>\n",
              "        <path d=\"M19 3H5c-1.1 0-2 .9-2 2v14c0 1.1.9 2 2 2h14c1.1 0 2-.9 2-2V5c0-1.1-.9-2-2-2zM9 17H7v-7h2v7zm4 0h-2V7h2v10zm4 0h-2v-4h2v4z\"/>\n",
              "    </g>\n",
              "</svg>\n",
              "      </button>\n",
              "\n",
              "<style>\n",
              "  .colab-df-quickchart {\n",
              "      --bg-color: #E8F0FE;\n",
              "      --fill-color: #1967D2;\n",
              "      --hover-bg-color: #E2EBFA;\n",
              "      --hover-fill-color: #174EA6;\n",
              "      --disabled-fill-color: #AAA;\n",
              "      --disabled-bg-color: #DDD;\n",
              "  }\n",
              "\n",
              "  [theme=dark] .colab-df-quickchart {\n",
              "      --bg-color: #3B4455;\n",
              "      --fill-color: #D2E3FC;\n",
              "      --hover-bg-color: #434B5C;\n",
              "      --hover-fill-color: #FFFFFF;\n",
              "      --disabled-bg-color: #3B4455;\n",
              "      --disabled-fill-color: #666;\n",
              "  }\n",
              "\n",
              "  .colab-df-quickchart {\n",
              "    background-color: var(--bg-color);\n",
              "    border: none;\n",
              "    border-radius: 50%;\n",
              "    cursor: pointer;\n",
              "    display: none;\n",
              "    fill: var(--fill-color);\n",
              "    height: 32px;\n",
              "    padding: 0;\n",
              "    width: 32px;\n",
              "  }\n",
              "\n",
              "  .colab-df-quickchart:hover {\n",
              "    background-color: var(--hover-bg-color);\n",
              "    box-shadow: 0 1px 2px rgba(60, 64, 67, 0.3), 0 1px 3px 1px rgba(60, 64, 67, 0.15);\n",
              "    fill: var(--button-hover-fill-color);\n",
              "  }\n",
              "\n",
              "  .colab-df-quickchart-complete:disabled,\n",
              "  .colab-df-quickchart-complete:disabled:hover {\n",
              "    background-color: var(--disabled-bg-color);\n",
              "    fill: var(--disabled-fill-color);\n",
              "    box-shadow: none;\n",
              "  }\n",
              "\n",
              "  .colab-df-spinner {\n",
              "    border: 2px solid var(--fill-color);\n",
              "    border-color: transparent;\n",
              "    border-bottom-color: var(--fill-color);\n",
              "    animation:\n",
              "      spin 1s steps(1) infinite;\n",
              "  }\n",
              "\n",
              "  @keyframes spin {\n",
              "    0% {\n",
              "      border-color: transparent;\n",
              "      border-bottom-color: var(--fill-color);\n",
              "      border-left-color: var(--fill-color);\n",
              "    }\n",
              "    20% {\n",
              "      border-color: transparent;\n",
              "      border-left-color: var(--fill-color);\n",
              "      border-top-color: var(--fill-color);\n",
              "    }\n",
              "    30% {\n",
              "      border-color: transparent;\n",
              "      border-left-color: var(--fill-color);\n",
              "      border-top-color: var(--fill-color);\n",
              "      border-right-color: var(--fill-color);\n",
              "    }\n",
              "    40% {\n",
              "      border-color: transparent;\n",
              "      border-right-color: var(--fill-color);\n",
              "      border-top-color: var(--fill-color);\n",
              "    }\n",
              "    60% {\n",
              "      border-color: transparent;\n",
              "      border-right-color: var(--fill-color);\n",
              "    }\n",
              "    80% {\n",
              "      border-color: transparent;\n",
              "      border-right-color: var(--fill-color);\n",
              "      border-bottom-color: var(--fill-color);\n",
              "    }\n",
              "    90% {\n",
              "      border-color: transparent;\n",
              "      border-bottom-color: var(--fill-color);\n",
              "    }\n",
              "  }\n",
              "</style>\n",
              "\n",
              "      <script>\n",
              "        async function quickchart(key) {\n",
              "          const quickchartButtonEl =\n",
              "            document.querySelector('#' + key + ' button');\n",
              "          quickchartButtonEl.disabled = true;  // To prevent multiple clicks.\n",
              "          quickchartButtonEl.classList.add('colab-df-spinner');\n",
              "          try {\n",
              "            const charts = await google.colab.kernel.invokeFunction(\n",
              "                'suggestCharts', [key], {});\n",
              "          } catch (error) {\n",
              "            console.error('Error during call to suggestCharts:', error);\n",
              "          }\n",
              "          quickchartButtonEl.classList.remove('colab-df-spinner');\n",
              "          quickchartButtonEl.classList.add('colab-df-quickchart-complete');\n",
              "        }\n",
              "        (() => {\n",
              "          let quickchartButtonEl =\n",
              "            document.querySelector('#df-2bb63972-07c7-46ec-8a20-8dcadbb7fd3b button');\n",
              "          quickchartButtonEl.style.display =\n",
              "            google.colab.kernel.accessAllowed ? 'block' : 'none';\n",
              "        })();\n",
              "      </script>\n",
              "    </div>\n",
              "\n",
              "    </div>\n",
              "  </div>\n"
            ],
            "application/vnd.google.colaboratory.intrinsic+json": {
              "type": "dataframe",
              "summary": "{\n  \"name\": \"pd\",\n  \"rows\": 10,\n  \"fields\": [\n    {\n      \"column\": \"A\",\n      \"properties\": {\n        \"dtype\": \"number\",\n        \"std\": 30,\n        \"min\": 6,\n        \"max\": 97,\n        \"num_unique_values\": 8,\n        \"samples\": [\n          10,\n          61,\n          6\n        ],\n        \"semantic_type\": \"\",\n        \"description\": \"\"\n      }\n    },\n    {\n      \"column\": \"B\",\n      \"properties\": {\n        \"dtype\": \"number\",\n        \"std\": 29,\n        \"min\": 15,\n        \"max\": 98,\n        \"num_unique_values\": 10,\n        \"samples\": [\n          64,\n          94,\n          15\n        ],\n        \"semantic_type\": \"\",\n        \"description\": \"\"\n      }\n    },\n    {\n      \"column\": \"C\",\n      \"properties\": {\n        \"dtype\": \"number\",\n        \"std\": 12,\n        \"min\": 18,\n        \"max\": 58,\n        \"num_unique_values\": 9,\n        \"samples\": [\n          18,\n          54,\n          58\n        ],\n        \"semantic_type\": \"\",\n        \"description\": \"\"\n      }\n    },\n    {\n      \"column\": \"D\",\n      \"properties\": {\n        \"dtype\": \"number\",\n        \"std\": 25,\n        \"min\": 1,\n        \"max\": 86,\n        \"num_unique_values\": 10,\n        \"samples\": [\n          46,\n          55,\n          29\n        ],\n        \"semantic_type\": \"\",\n        \"description\": \"\"\n      }\n    },\n    {\n      \"column\": \"E\",\n      \"properties\": {\n        \"dtype\": \"number\",\n        \"std\": 25,\n        \"min\": 2,\n        \"max\": 77,\n        \"num_unique_values\": 10,\n        \"samples\": [\n          40,\n          17,\n          38\n        ],\n        \"semantic_type\": \"\",\n        \"description\": \"\"\n      }\n    }\n  ]\n}"
            }
          },
          "metadata": {},
          "execution_count": 40
        }
      ],
      "source": [
        "data_frame = pd.DataFrame(np.random.randint(0,100,size=(10, 5)), columns=list('ABCDE'))\n",
        "print(data_frame)\n",
        "\n",
        "pd.DataFrame.sort_values(data_frame, by='A',ascending= True)"
      ]
    },
    {
      "cell_type": "markdown",
      "id": "09f77d6a",
      "metadata": {
        "id": "09f77d6a"
      },
      "source": [
        "#### Ejercicio Pandas 07: Modifica el nombre de las 5 columnas del DataFrame anterior por el siguiente formato: `N_column` donde `N` es el número de la columna (★★☆)\n",
        "\n",
        "> NOTA: Revisa la función `pd.DataFrame.sort_values` (https://pandas.pydata.org/docs/reference/api/pandas.DataFrame.sort_values.html)"
      ]
    },
    {
      "cell_type": "code",
      "execution_count": 51,
      "id": "6c65fe4f",
      "metadata": {
        "colab": {
          "base_uri": "https://localhost:8080/"
        },
        "id": "6c65fe4f",
        "outputId": "3be85e52-dadc-4d8b-e365-2bc1c229b362"
      },
      "outputs": [
        {
          "output_type": "stream",
          "name": "stdout",
          "text": [
            "    A   B   C   D   E\n",
            "0  55  33  58  13  66\n",
            "1   1  55  96  23  62\n",
            "2  50  77  78   4  78\n",
            "3  20   7   4  43  25\n",
            "4  41   6  22  60  14\n",
            "5  62  29  33  81  17\n",
            "6  24  59  31  59  75\n",
            "7  11   6   6  58  50\n",
            "8  19  90   8  67  42\n",
            "9  54  19  10   4  58\n",
            "   N_0  N_1  N_2  N_3  N_4\n",
            "0   55   33   58   13   66\n",
            "1    1   55   96   23   62\n",
            "2   50   77   78    4   78\n",
            "3   20    7    4   43   25\n",
            "4   41    6   22   60   14\n",
            "5   62   29   33   81   17\n",
            "6   24   59   31   59   75\n",
            "7   11    6    6   58   50\n",
            "8   19   90    8   67   42\n",
            "9   54   19   10    4   58\n"
          ]
        }
      ],
      "source": [
        "data_frame = pd.DataFrame(np.random.randint(0,100,size=(10, 5)), columns=list('ABCDE'))\n",
        "print(data_frame)\n",
        "N_column = 0\n",
        "for i in range(len(data_frame.columns)):\n",
        "    data_frame = data_frame.rename(columns={data_frame.columns[i]:f'N_{N_column}'})\n",
        "    N_column += 1\n",
        "print(data_frame)"
      ]
    },
    {
      "cell_type": "markdown",
      "id": "c0e940f8",
      "metadata": {
        "id": "c0e940f8"
      },
      "source": [
        "#### Ejercicio Pandas 08: Modifica el índice de las filas del DataFrame del ejercicio 06 (★★☆)\n",
        "\n",
        "> NOTA: Revisa la función `pd.DataFrame.sort_values` (https://pandas.pydata.org/docs/reference/api/pandas.DataFrame.sort_values.html)"
      ]
    },
    {
      "cell_type": "code",
      "execution_count": 56,
      "id": "820dc7a5",
      "metadata": {
        "colab": {
          "base_uri": "https://localhost:8080/",
          "height": 554
        },
        "id": "820dc7a5",
        "outputId": "bf1ed25d-4354-4c0c-98c7-3cdb6724ad46"
      },
      "outputs": [
        {
          "output_type": "stream",
          "name": "stdout",
          "text": [
            "    A   B   C   D   E\n",
            "0  60  20  16  28   6\n",
            "1  70  69  71  48  31\n",
            "2  89  54  45  74  60\n",
            "3  75  99  61   2  77\n",
            "4  87  30  41  31  68\n",
            "5  11  61  99  77  50\n",
            "6  66  21  91  27  86\n",
            "7  21  20  56  96  97\n",
            "8  58   7  11  39  79\n",
            "9  99  28  27  32  62\n"
          ]
        },
        {
          "output_type": "execute_result",
          "data": {
            "text/plain": [
              "        A   B   C   D   E\n",
              "0_row  60  20  16  28   6\n",
              "1_row  70  69  71  48  31\n",
              "2_row  89  54  45  74  60\n",
              "3_row  75  99  61   2  77\n",
              "4_row  87  30  41  31  68\n",
              "5_row  11  61  99  77  50\n",
              "6_row  66  21  91  27  86\n",
              "7_row  21  20  56  96  97\n",
              "8_row  58   7  11  39  79\n",
              "9_row  99  28  27  32  62"
            ],
            "text/html": [
              "\n",
              "  <div id=\"df-d38b620c-a910-4a21-8e07-211c14ecdec0\" class=\"colab-df-container\">\n",
              "    <div>\n",
              "<style scoped>\n",
              "    .dataframe tbody tr th:only-of-type {\n",
              "        vertical-align: middle;\n",
              "    }\n",
              "\n",
              "    .dataframe tbody tr th {\n",
              "        vertical-align: top;\n",
              "    }\n",
              "\n",
              "    .dataframe thead th {\n",
              "        text-align: right;\n",
              "    }\n",
              "</style>\n",
              "<table border=\"1\" class=\"dataframe\">\n",
              "  <thead>\n",
              "    <tr style=\"text-align: right;\">\n",
              "      <th></th>\n",
              "      <th>A</th>\n",
              "      <th>B</th>\n",
              "      <th>C</th>\n",
              "      <th>D</th>\n",
              "      <th>E</th>\n",
              "    </tr>\n",
              "  </thead>\n",
              "  <tbody>\n",
              "    <tr>\n",
              "      <th>0_row</th>\n",
              "      <td>60</td>\n",
              "      <td>20</td>\n",
              "      <td>16</td>\n",
              "      <td>28</td>\n",
              "      <td>6</td>\n",
              "    </tr>\n",
              "    <tr>\n",
              "      <th>1_row</th>\n",
              "      <td>70</td>\n",
              "      <td>69</td>\n",
              "      <td>71</td>\n",
              "      <td>48</td>\n",
              "      <td>31</td>\n",
              "    </tr>\n",
              "    <tr>\n",
              "      <th>2_row</th>\n",
              "      <td>89</td>\n",
              "      <td>54</td>\n",
              "      <td>45</td>\n",
              "      <td>74</td>\n",
              "      <td>60</td>\n",
              "    </tr>\n",
              "    <tr>\n",
              "      <th>3_row</th>\n",
              "      <td>75</td>\n",
              "      <td>99</td>\n",
              "      <td>61</td>\n",
              "      <td>2</td>\n",
              "      <td>77</td>\n",
              "    </tr>\n",
              "    <tr>\n",
              "      <th>4_row</th>\n",
              "      <td>87</td>\n",
              "      <td>30</td>\n",
              "      <td>41</td>\n",
              "      <td>31</td>\n",
              "      <td>68</td>\n",
              "    </tr>\n",
              "    <tr>\n",
              "      <th>5_row</th>\n",
              "      <td>11</td>\n",
              "      <td>61</td>\n",
              "      <td>99</td>\n",
              "      <td>77</td>\n",
              "      <td>50</td>\n",
              "    </tr>\n",
              "    <tr>\n",
              "      <th>6_row</th>\n",
              "      <td>66</td>\n",
              "      <td>21</td>\n",
              "      <td>91</td>\n",
              "      <td>27</td>\n",
              "      <td>86</td>\n",
              "    </tr>\n",
              "    <tr>\n",
              "      <th>7_row</th>\n",
              "      <td>21</td>\n",
              "      <td>20</td>\n",
              "      <td>56</td>\n",
              "      <td>96</td>\n",
              "      <td>97</td>\n",
              "    </tr>\n",
              "    <tr>\n",
              "      <th>8_row</th>\n",
              "      <td>58</td>\n",
              "      <td>7</td>\n",
              "      <td>11</td>\n",
              "      <td>39</td>\n",
              "      <td>79</td>\n",
              "    </tr>\n",
              "    <tr>\n",
              "      <th>9_row</th>\n",
              "      <td>99</td>\n",
              "      <td>28</td>\n",
              "      <td>27</td>\n",
              "      <td>32</td>\n",
              "      <td>62</td>\n",
              "    </tr>\n",
              "  </tbody>\n",
              "</table>\n",
              "</div>\n",
              "    <div class=\"colab-df-buttons\">\n",
              "\n",
              "  <div class=\"colab-df-container\">\n",
              "    <button class=\"colab-df-convert\" onclick=\"convertToInteractive('df-d38b620c-a910-4a21-8e07-211c14ecdec0')\"\n",
              "            title=\"Convert this dataframe to an interactive table.\"\n",
              "            style=\"display:none;\">\n",
              "\n",
              "  <svg xmlns=\"http://www.w3.org/2000/svg\" height=\"24px\" viewBox=\"0 -960 960 960\">\n",
              "    <path d=\"M120-120v-720h720v720H120Zm60-500h600v-160H180v160Zm220 220h160v-160H400v160Zm0 220h160v-160H400v160ZM180-400h160v-160H180v160Zm440 0h160v-160H620v160ZM180-180h160v-160H180v160Zm440 0h160v-160H620v160Z\"/>\n",
              "  </svg>\n",
              "    </button>\n",
              "\n",
              "  <style>\n",
              "    .colab-df-container {\n",
              "      display:flex;\n",
              "      gap: 12px;\n",
              "    }\n",
              "\n",
              "    .colab-df-convert {\n",
              "      background-color: #E8F0FE;\n",
              "      border: none;\n",
              "      border-radius: 50%;\n",
              "      cursor: pointer;\n",
              "      display: none;\n",
              "      fill: #1967D2;\n",
              "      height: 32px;\n",
              "      padding: 0 0 0 0;\n",
              "      width: 32px;\n",
              "    }\n",
              "\n",
              "    .colab-df-convert:hover {\n",
              "      background-color: #E2EBFA;\n",
              "      box-shadow: 0px 1px 2px rgba(60, 64, 67, 0.3), 0px 1px 3px 1px rgba(60, 64, 67, 0.15);\n",
              "      fill: #174EA6;\n",
              "    }\n",
              "\n",
              "    .colab-df-buttons div {\n",
              "      margin-bottom: 4px;\n",
              "    }\n",
              "\n",
              "    [theme=dark] .colab-df-convert {\n",
              "      background-color: #3B4455;\n",
              "      fill: #D2E3FC;\n",
              "    }\n",
              "\n",
              "    [theme=dark] .colab-df-convert:hover {\n",
              "      background-color: #434B5C;\n",
              "      box-shadow: 0px 1px 3px 1px rgba(0, 0, 0, 0.15);\n",
              "      filter: drop-shadow(0px 1px 2px rgba(0, 0, 0, 0.3));\n",
              "      fill: #FFFFFF;\n",
              "    }\n",
              "  </style>\n",
              "\n",
              "    <script>\n",
              "      const buttonEl =\n",
              "        document.querySelector('#df-d38b620c-a910-4a21-8e07-211c14ecdec0 button.colab-df-convert');\n",
              "      buttonEl.style.display =\n",
              "        google.colab.kernel.accessAllowed ? 'block' : 'none';\n",
              "\n",
              "      async function convertToInteractive(key) {\n",
              "        const element = document.querySelector('#df-d38b620c-a910-4a21-8e07-211c14ecdec0');\n",
              "        const dataTable =\n",
              "          await google.colab.kernel.invokeFunction('convertToInteractive',\n",
              "                                                    [key], {});\n",
              "        if (!dataTable) return;\n",
              "\n",
              "        const docLinkHtml = 'Like what you see? Visit the ' +\n",
              "          '<a target=\"_blank\" href=https://colab.research.google.com/notebooks/data_table.ipynb>data table notebook</a>'\n",
              "          + ' to learn more about interactive tables.';\n",
              "        element.innerHTML = '';\n",
              "        dataTable['output_type'] = 'display_data';\n",
              "        await google.colab.output.renderOutput(dataTable, element);\n",
              "        const docLink = document.createElement('div');\n",
              "        docLink.innerHTML = docLinkHtml;\n",
              "        element.appendChild(docLink);\n",
              "      }\n",
              "    </script>\n",
              "  </div>\n",
              "\n",
              "\n",
              "    <div id=\"df-3363caae-8e0e-4e01-aaf4-2ff73bcbd0aa\">\n",
              "      <button class=\"colab-df-quickchart\" onclick=\"quickchart('df-3363caae-8e0e-4e01-aaf4-2ff73bcbd0aa')\"\n",
              "                title=\"Suggest charts\"\n",
              "                style=\"display:none;\">\n",
              "\n",
              "<svg xmlns=\"http://www.w3.org/2000/svg\" height=\"24px\"viewBox=\"0 0 24 24\"\n",
              "     width=\"24px\">\n",
              "    <g>\n",
              "        <path d=\"M19 3H5c-1.1 0-2 .9-2 2v14c0 1.1.9 2 2 2h14c1.1 0 2-.9 2-2V5c0-1.1-.9-2-2-2zM9 17H7v-7h2v7zm4 0h-2V7h2v10zm4 0h-2v-4h2v4z\"/>\n",
              "    </g>\n",
              "</svg>\n",
              "      </button>\n",
              "\n",
              "<style>\n",
              "  .colab-df-quickchart {\n",
              "      --bg-color: #E8F0FE;\n",
              "      --fill-color: #1967D2;\n",
              "      --hover-bg-color: #E2EBFA;\n",
              "      --hover-fill-color: #174EA6;\n",
              "      --disabled-fill-color: #AAA;\n",
              "      --disabled-bg-color: #DDD;\n",
              "  }\n",
              "\n",
              "  [theme=dark] .colab-df-quickchart {\n",
              "      --bg-color: #3B4455;\n",
              "      --fill-color: #D2E3FC;\n",
              "      --hover-bg-color: #434B5C;\n",
              "      --hover-fill-color: #FFFFFF;\n",
              "      --disabled-bg-color: #3B4455;\n",
              "      --disabled-fill-color: #666;\n",
              "  }\n",
              "\n",
              "  .colab-df-quickchart {\n",
              "    background-color: var(--bg-color);\n",
              "    border: none;\n",
              "    border-radius: 50%;\n",
              "    cursor: pointer;\n",
              "    display: none;\n",
              "    fill: var(--fill-color);\n",
              "    height: 32px;\n",
              "    padding: 0;\n",
              "    width: 32px;\n",
              "  }\n",
              "\n",
              "  .colab-df-quickchart:hover {\n",
              "    background-color: var(--hover-bg-color);\n",
              "    box-shadow: 0 1px 2px rgba(60, 64, 67, 0.3), 0 1px 3px 1px rgba(60, 64, 67, 0.15);\n",
              "    fill: var(--button-hover-fill-color);\n",
              "  }\n",
              "\n",
              "  .colab-df-quickchart-complete:disabled,\n",
              "  .colab-df-quickchart-complete:disabled:hover {\n",
              "    background-color: var(--disabled-bg-color);\n",
              "    fill: var(--disabled-fill-color);\n",
              "    box-shadow: none;\n",
              "  }\n",
              "\n",
              "  .colab-df-spinner {\n",
              "    border: 2px solid var(--fill-color);\n",
              "    border-color: transparent;\n",
              "    border-bottom-color: var(--fill-color);\n",
              "    animation:\n",
              "      spin 1s steps(1) infinite;\n",
              "  }\n",
              "\n",
              "  @keyframes spin {\n",
              "    0% {\n",
              "      border-color: transparent;\n",
              "      border-bottom-color: var(--fill-color);\n",
              "      border-left-color: var(--fill-color);\n",
              "    }\n",
              "    20% {\n",
              "      border-color: transparent;\n",
              "      border-left-color: var(--fill-color);\n",
              "      border-top-color: var(--fill-color);\n",
              "    }\n",
              "    30% {\n",
              "      border-color: transparent;\n",
              "      border-left-color: var(--fill-color);\n",
              "      border-top-color: var(--fill-color);\n",
              "      border-right-color: var(--fill-color);\n",
              "    }\n",
              "    40% {\n",
              "      border-color: transparent;\n",
              "      border-right-color: var(--fill-color);\n",
              "      border-top-color: var(--fill-color);\n",
              "    }\n",
              "    60% {\n",
              "      border-color: transparent;\n",
              "      border-right-color: var(--fill-color);\n",
              "    }\n",
              "    80% {\n",
              "      border-color: transparent;\n",
              "      border-right-color: var(--fill-color);\n",
              "      border-bottom-color: var(--fill-color);\n",
              "    }\n",
              "    90% {\n",
              "      border-color: transparent;\n",
              "      border-bottom-color: var(--fill-color);\n",
              "    }\n",
              "  }\n",
              "</style>\n",
              "\n",
              "      <script>\n",
              "        async function quickchart(key) {\n",
              "          const quickchartButtonEl =\n",
              "            document.querySelector('#' + key + ' button');\n",
              "          quickchartButtonEl.disabled = true;  // To prevent multiple clicks.\n",
              "          quickchartButtonEl.classList.add('colab-df-spinner');\n",
              "          try {\n",
              "            const charts = await google.colab.kernel.invokeFunction(\n",
              "                'suggestCharts', [key], {});\n",
              "          } catch (error) {\n",
              "            console.error('Error during call to suggestCharts:', error);\n",
              "          }\n",
              "          quickchartButtonEl.classList.remove('colab-df-spinner');\n",
              "          quickchartButtonEl.classList.add('colab-df-quickchart-complete');\n",
              "        }\n",
              "        (() => {\n",
              "          let quickchartButtonEl =\n",
              "            document.querySelector('#df-3363caae-8e0e-4e01-aaf4-2ff73bcbd0aa button');\n",
              "          quickchartButtonEl.style.display =\n",
              "            google.colab.kernel.accessAllowed ? 'block' : 'none';\n",
              "        })();\n",
              "      </script>\n",
              "    </div>\n",
              "\n",
              "  <div id=\"id_ab8b52a2-f180-4fd5-bf69-43c55666ebd4\">\n",
              "    <style>\n",
              "      .colab-df-generate {\n",
              "        background-color: #E8F0FE;\n",
              "        border: none;\n",
              "        border-radius: 50%;\n",
              "        cursor: pointer;\n",
              "        display: none;\n",
              "        fill: #1967D2;\n",
              "        height: 32px;\n",
              "        padding: 0 0 0 0;\n",
              "        width: 32px;\n",
              "      }\n",
              "\n",
              "      .colab-df-generate:hover {\n",
              "        background-color: #E2EBFA;\n",
              "        box-shadow: 0px 1px 2px rgba(60, 64, 67, 0.3), 0px 1px 3px 1px rgba(60, 64, 67, 0.15);\n",
              "        fill: #174EA6;\n",
              "      }\n",
              "\n",
              "      [theme=dark] .colab-df-generate {\n",
              "        background-color: #3B4455;\n",
              "        fill: #D2E3FC;\n",
              "      }\n",
              "\n",
              "      [theme=dark] .colab-df-generate:hover {\n",
              "        background-color: #434B5C;\n",
              "        box-shadow: 0px 1px 3px 1px rgba(0, 0, 0, 0.15);\n",
              "        filter: drop-shadow(0px 1px 2px rgba(0, 0, 0, 0.3));\n",
              "        fill: #FFFFFF;\n",
              "      }\n",
              "    </style>\n",
              "    <button class=\"colab-df-generate\" onclick=\"generateWithVariable('data_frame')\"\n",
              "            title=\"Generate code using this dataframe.\"\n",
              "            style=\"display:none;\">\n",
              "\n",
              "  <svg xmlns=\"http://www.w3.org/2000/svg\" height=\"24px\"viewBox=\"0 0 24 24\"\n",
              "       width=\"24px\">\n",
              "    <path d=\"M7,19H8.4L18.45,9,17,7.55,7,17.6ZM5,21V16.75L18.45,3.32a2,2,0,0,1,2.83,0l1.4,1.43a1.91,1.91,0,0,1,.58,1.4,1.91,1.91,0,0,1-.58,1.4L9.25,21ZM18.45,9,17,7.55Zm-12,3A5.31,5.31,0,0,0,4.9,8.1,5.31,5.31,0,0,0,1,6.5,5.31,5.31,0,0,0,4.9,4.9,5.31,5.31,0,0,0,6.5,1,5.31,5.31,0,0,0,8.1,4.9,5.31,5.31,0,0,0,12,6.5,5.46,5.46,0,0,0,6.5,12Z\"/>\n",
              "  </svg>\n",
              "    </button>\n",
              "    <script>\n",
              "      (() => {\n",
              "      const buttonEl =\n",
              "        document.querySelector('#id_ab8b52a2-f180-4fd5-bf69-43c55666ebd4 button.colab-df-generate');\n",
              "      buttonEl.style.display =\n",
              "        google.colab.kernel.accessAllowed ? 'block' : 'none';\n",
              "\n",
              "      buttonEl.onclick = () => {\n",
              "        google.colab.notebook.generateWithVariable('data_frame');\n",
              "      }\n",
              "      })();\n",
              "    </script>\n",
              "  </div>\n",
              "\n",
              "    </div>\n",
              "  </div>\n"
            ],
            "application/vnd.google.colaboratory.intrinsic+json": {
              "type": "dataframe",
              "variable_name": "data_frame",
              "summary": "{\n  \"name\": \"data_frame\",\n  \"rows\": 10,\n  \"fields\": [\n    {\n      \"column\": \"A\",\n      \"properties\": {\n        \"dtype\": \"number\",\n        \"std\": 28,\n        \"min\": 11,\n        \"max\": 99,\n        \"num_unique_values\": 10,\n        \"samples\": [\n          58,\n          70,\n          11\n        ],\n        \"semantic_type\": \"\",\n        \"description\": \"\"\n      }\n    },\n    {\n      \"column\": \"B\",\n      \"properties\": {\n        \"dtype\": \"number\",\n        \"std\": 28,\n        \"min\": 7,\n        \"max\": 99,\n        \"num_unique_values\": 9,\n        \"samples\": [\n          7,\n          69,\n          61\n        ],\n        \"semantic_type\": \"\",\n        \"description\": \"\"\n      }\n    },\n    {\n      \"column\": \"C\",\n      \"properties\": {\n        \"dtype\": \"number\",\n        \"std\": 29,\n        \"min\": 11,\n        \"max\": 99,\n        \"num_unique_values\": 10,\n        \"samples\": [\n          11,\n          71,\n          99\n        ],\n        \"semantic_type\": \"\",\n        \"description\": \"\"\n      }\n    },\n    {\n      \"column\": \"D\",\n      \"properties\": {\n        \"dtype\": \"number\",\n        \"std\": 28,\n        \"min\": 2,\n        \"max\": 96,\n        \"num_unique_values\": 10,\n        \"samples\": [\n          39,\n          48,\n          77\n        ],\n        \"semantic_type\": \"\",\n        \"description\": \"\"\n      }\n    },\n    {\n      \"column\": \"E\",\n      \"properties\": {\n        \"dtype\": \"number\",\n        \"std\": 27,\n        \"min\": 6,\n        \"max\": 97,\n        \"num_unique_values\": 10,\n        \"samples\": [\n          79,\n          31,\n          50\n        ],\n        \"semantic_type\": \"\",\n        \"description\": \"\"\n      }\n    }\n  ]\n}"
            }
          },
          "metadata": {},
          "execution_count": 56
        }
      ],
      "source": [
        "data_frame = pd.DataFrame(np.random.randint(0,100,size=(10, 5)), columns=list('ABCDE'))\n",
        "print(data_frame)\n",
        "data_frame.index = [f\"{i}_row\" for i in range(10)]\n",
        "data_frame"
      ]
    }
  ],
  "metadata": {
    "kernelspec": {
      "display_name": "Python 3",
      "language": "python",
      "name": "python3"
    },
    "language_info": {
      "codemirror_mode": {
        "name": "ipython",
        "version": 3
      },
      "file_extension": ".py",
      "mimetype": "text/x-python",
      "name": "python",
      "nbconvert_exporter": "python",
      "pygments_lexer": "ipython3",
      "version": "3.11.4"
    },
    "colab": {
      "provenance": []
    }
  },
  "nbformat": 4,
  "nbformat_minor": 5
}