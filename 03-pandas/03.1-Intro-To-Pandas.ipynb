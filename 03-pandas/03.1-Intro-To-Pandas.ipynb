{
  "cells": [
    {
      "cell_type": "markdown",
      "id": "bdfbcacc",
      "metadata": {
        "id": "bdfbcacc"
      },
      "source": [
        "![Pandas logo](https://github.com/4GeeksAcademy/machine-learning-prework/blob/main/03-pandas/assets/pandas_logo.png?raw=true)\n",
        "\n",
        "## Introduction to Python Pandas\n",
        "\n",
        "**Pandas** is an open-source python library that provides data structures and is designed to handle and analyze tabular data in Python. Pandas is based on NumPy, which allows it to integrate well into the data science ecosystem alongside other libraries such as `Scikit-learn` and `Matplotlib`.\n",
        "\n",
        "Specifically, the key points of this library are:\n",
        "\n",
        "- **Data structures**: This library provides two structures for working with data. These are the `Series` which are labeled one-dimensional arrays, similar to a vector, list or sequence and which is able to contain any type of data, and the `DataFrames`, which is a labeled two-dimensional structure with columns that can be of different types, similar to a spreadsheet or a SQL table.\n",
        "- **Data manipulation**: Pandas allows you to carry out an exhaustive data analysis through functions that can be applied directly on your data structures. These operations include missing data control, data filtering, merging, combining and joining data from different sources...\n",
        "- **Efficiency**: All operations and/or functions that are applied on data structures are vectorized to improve performance compared to traditional Python loops and iterators.\n",
        "\n",
        "Pandas is a fundamental tool for any developer working with data in Python, as it provides a wide variety of tools for data exploration, cleaning and transformation, making the analysis process more efficient and effective."
      ]
    },
    {
      "cell_type": "markdown",
      "id": "40631cd6",
      "metadata": {
        "id": "40631cd6"
      },
      "source": [
        "### Data Structures in Python Pandas\n",
        "\n",
        "Pandas provides two main data structures: `Series` and `DataFrames`.\n",
        "\n",
        "#### Series\n",
        "\n",
        "A **series** in Pandas is a one-dimensional labeled data structure. It is similar to a 1D array in NumPy, but has an index that allows access to the values by label. A series can contain any kind of data: integers, strings, Python objects...\n",
        "\n",
        "![Example of a series](https://github.com/4GeeksAcademy/machine-learning-prework/blob/main/03-pandas/assets/series.PNG?raw=true)\n",
        "\n",
        "A Pandas series has two distinct parts:\n",
        "\n",
        "- **Index** (*index*): An array of tags associated with the data.\n",
        "- **Value** (*value*): An array of data.\n",
        "\n",
        "A series can be created using the `Series` class of the library with a list of elements as an argument. For example:"
      ]
    },
    {
      "cell_type": "code",
      "execution_count": null,
      "id": "21653d4f",
      "metadata": {
        "id": "21653d4f",
        "outputId": "8b53b92e-fea1-4b6e-a21c-80a20cf74a41"
      },
      "outputs": [
        {
          "data": {
            "text/plain": [
              "0    1\n",
              "1    2\n",
              "2    3\n",
              "3    4\n",
              "4    5\n",
              "dtype: int64"
            ]
          },
          "execution_count": 1,
          "metadata": {},
          "output_type": "execute_result"
        }
      ],
      "source": [
        "import pandas as pd\n",
        "\n",
        "serie = pd.Series([1, 2, 3, 4, 5])\n",
        "serie"
      ]
    },
    {
      "cell_type": "markdown",
      "id": "d1c2dda1",
      "metadata": {
        "id": "d1c2dda1"
      },
      "source": [
        "This will create a series with elements 1, 2, 3, 4 and 5. In addition, since we have not included information about the indexes, an automatic index is generated starting at 0:"
      ]
    },
    {
      "cell_type": "code",
      "execution_count": null,
      "id": "2d4c091d",
      "metadata": {
        "id": "2d4c091d",
        "outputId": "c560557c-6e89-4bd7-cf9c-16ded999c48b"
      },
      "outputs": [
        {
          "data": {
            "text/plain": [
              "a    1\n",
              "b    2\n",
              "c    3\n",
              "d    4\n",
              "e    5\n",
              "dtype: int64"
            ]
          },
          "execution_count": 2,
          "metadata": {},
          "output_type": "execute_result"
        }
      ],
      "source": [
        "serie = pd.Series([1, 2, 3, 4, 5], index = [\"a\", \"b\", \"c\", \"d\", \"e\"])\n",
        "serie"
      ]
    },
    {
      "cell_type": "markdown",
      "id": "f7588c91",
      "metadata": {
        "id": "f7588c91"
      },
      "source": [
        "Thus, the previous series has an index composed of letters.\n",
        "\n",
        "Both series store the same values, but the way they are accessed may vary according to the index.\n",
        "\n",
        "In a series, its elements can be accessed by index or by position (the latter is what we did in NumPy). Below are some operations that can be performed using the above series:"
      ]
    },
    {
      "cell_type": "code",
      "execution_count": null,
      "id": "0f90b9e7",
      "metadata": {
        "id": "0f90b9e7",
        "outputId": "baa62d2a-7446-49ca-8839-cc9a98f79b91"
      },
      "outputs": [
        {
          "name": "stdout",
          "output_type": "stream",
          "text": [
            "3\n",
            "3\n",
            "a    1\n",
            "b    7\n",
            "c    3\n",
            "d    4\n",
            "e    5\n",
            "dtype: int64\n",
            "a    11\n",
            "b    17\n",
            "c    13\n",
            "d    14\n",
            "e    15\n",
            "dtype: int64\n",
            "70\n"
          ]
        }
      ],
      "source": [
        "# Access the third element\n",
        "print(serie[\"c\"]) # By index\n",
        "print(serie[2]) # By position\n",
        "\n",
        "# Change the value of the second element\n",
        "serie[\"b\"] = 7\n",
        "print(serie)\n",
        "\n",
        "# Add 10 to all elements\n",
        "serie += 10\n",
        "print(serie)\n",
        "\n",
        "# Calculate the sum of the elements\n",
        "sum_all = serie.sum()\n",
        "print(sum_all)"
      ]
    },
    {
      "cell_type": "markdown",
      "id": "e4fe3649",
      "metadata": {
        "id": "e4fe3649"
      },
      "source": [
        "#### Pandas DataFrame\n",
        "\n",
        "A **DataFrame** in Pandas is a two-dimensional labeled data structure. It is similar to a 2D array in NumPy, but has an index that allows access to the values per label, per row, and column.\n",
        "\n",
        "![Example of a DataFrame](https://github.com/4GeeksAcademy/machine-learning-prework/blob/main/03-pandas/assets/dataframe.PNG?raw=true)\n",
        "\n",
        "A DataFrame in Pandas has several differentiated parts:\n",
        "\n",
        "- **Data** (*data*): An array of values that can be of different types per column.\n",
        "- **Row index** (*row index*): An array of labels associated to the rows.\n",
        "- **Column index** (*column index*): An array of labels associated to the columns.\n",
        "\n",
        "A DataFrame can be seen as a set of series joined in a tabular structure, with an index per row in common and a column index specific to each series.\n",
        "\n",
        "![Series and DataFrames](https://github.com/4GeeksAcademy/machine-learning-prework/blob/main/03-pandas/assets/series_dataframe.png?raw=true?raw=true)\n",
        "\n",
        "A DataFrame can be created using the `DataFrame` class. For example:"
      ]
    },
    {
      "cell_type": "code",
      "execution_count": null,
      "id": "3947a09a",
      "metadata": {
        "id": "3947a09a",
        "outputId": "bea1e32c-a816-44af-febf-45c507e7dcb4"
      },
      "outputs": [
        {
          "data": {
            "text/html": [
              "<div>\n",
              "<style scoped>\n",
              "    .dataframe tbody tr th:only-of-type {\n",
              "        vertical-align: middle;\n",
              "    }\n",
              "\n",
              "    .dataframe tbody tr th {\n",
              "        vertical-align: top;\n",
              "    }\n",
              "\n",
              "    .dataframe thead th {\n",
              "        text-align: right;\n",
              "    }\n",
              "</style>\n",
              "<table border=\"1\" class=\"dataframe\">\n",
              "  <thead>\n",
              "    <tr style=\"text-align: right;\">\n",
              "      <th></th>\n",
              "      <th>0</th>\n",
              "      <th>1</th>\n",
              "      <th>2</th>\n",
              "    </tr>\n",
              "  </thead>\n",
              "  <tbody>\n",
              "    <tr>\n",
              "      <th>0</th>\n",
              "      <td>1</td>\n",
              "      <td>2</td>\n",
              "      <td>3</td>\n",
              "    </tr>\n",
              "    <tr>\n",
              "      <th>1</th>\n",
              "      <td>4</td>\n",
              "      <td>5</td>\n",
              "      <td>6</td>\n",
              "    </tr>\n",
              "    <tr>\n",
              "      <th>2</th>\n",
              "      <td>7</td>\n",
              "      <td>8</td>\n",
              "      <td>9</td>\n",
              "    </tr>\n",
              "  </tbody>\n",
              "</table>\n",
              "</div>"
            ],
            "text/plain": [
              "   0  1  2\n",
              "0  1  2  3\n",
              "1  4  5  6\n",
              "2  7  8  9"
            ]
          },
          "execution_count": 4,
          "metadata": {},
          "output_type": "execute_result"
        }
      ],
      "source": [
        "dataframe = pd.DataFrame([[1, 2, 3], [4, 5, 6], [7, 8, 9]])\n",
        "dataframe"
      ]
    },
    {
      "cell_type": "markdown",
      "id": "ccf0e435",
      "metadata": {
        "id": "ccf0e435"
      },
      "source": [
        "This will create a DataFrame with three rows and three columns for each row. As was the case with series, a DataFrame will generate automatic indexes for rows and columns if they are not passed as arguments in the constructor of the class. If we wanted to create a new DataFrame with concrete indexes for rows and columns, it would be programmed as follows:"
      ]
    },
    {
      "cell_type": "code",
      "execution_count": null,
      "id": "92f62a5c",
      "metadata": {
        "id": "92f62a5c",
        "outputId": "d2b13702-b00f-4c55-ce0d-6982c820d5fd"
      },
      "outputs": [
        {
          "data": {
            "text/html": [
              "<div>\n",
              "<style scoped>\n",
              "    .dataframe tbody tr th:only-of-type {\n",
              "        vertical-align: middle;\n",
              "    }\n",
              "\n",
              "    .dataframe tbody tr th {\n",
              "        vertical-align: top;\n",
              "    }\n",
              "\n",
              "    .dataframe thead th {\n",
              "        text-align: right;\n",
              "    }\n",
              "</style>\n",
              "<table border=\"1\" class=\"dataframe\">\n",
              "  <thead>\n",
              "    <tr style=\"text-align: right;\">\n",
              "      <th></th>\n",
              "      <th>col A</th>\n",
              "      <th>col B</th>\n",
              "      <th>col C</th>\n",
              "    </tr>\n",
              "  </thead>\n",
              "  <tbody>\n",
              "    <tr>\n",
              "      <th>a</th>\n",
              "      <td>1</td>\n",
              "      <td>4</td>\n",
              "      <td>7</td>\n",
              "    </tr>\n",
              "    <tr>\n",
              "      <th>b</th>\n",
              "      <td>2</td>\n",
              "      <td>5</td>\n",
              "      <td>8</td>\n",
              "    </tr>\n",
              "    <tr>\n",
              "      <th>c</th>\n",
              "      <td>3</td>\n",
              "      <td>6</td>\n",
              "      <td>9</td>\n",
              "    </tr>\n",
              "  </tbody>\n",
              "</table>\n",
              "</div>"
            ],
            "text/plain": [
              "   col A  col B  col C\n",
              "a      1      4      7\n",
              "b      2      5      8\n",
              "c      3      6      9"
            ]
          },
          "execution_count": 5,
          "metadata": {},
          "output_type": "execute_result"
        }
      ],
      "source": [
        "data = {\n",
        "    \"col A\": [1, 2, 3],\n",
        "    \"col B\": [4, 5, 6],\n",
        "    \"col C\": [7, 8, 9]\n",
        "}\n",
        "\n",
        "dataframe = pd.DataFrame(data, index = [\"a\", \"b\", \"c\"])\n",
        "dataframe"
      ]
    },
    {
      "cell_type": "markdown",
      "id": "758e57bd",
      "metadata": {
        "id": "758e57bd"
      },
      "source": [
        "In this way, a custom index is provided for the columns (labeling the rows within a dictionary) and for the rows (with the `index` argument, as was the case with the series).\n",
        "\n",
        "In a DataFrame its elements can be accessed by index or by position. Below are some operations that can be performed using the above DataFrame:"
      ]
    },
    {
      "cell_type": "code",
      "execution_count": null,
      "id": "258c47ff",
      "metadata": {
        "id": "258c47ff",
        "outputId": "8db81679-4154-468c-d9b8-d4da7e037b4b"
      },
      "outputs": [
        {
          "name": "stdout",
          "output_type": "stream",
          "text": [
            "a    1\n",
            "b    2\n",
            "c    3\n",
            "Name: col A, dtype: int64\n",
            "a    1\n",
            "b    2\n",
            "c    3\n",
            "Name: col A, dtype: int64\n",
            "a    1\n",
            "b    2\n",
            "c    3\n",
            "Name: col A, dtype: int64\n",
            "col A    1\n",
            "col B    4\n",
            "col C    7\n",
            "Name: a, dtype: int64\n",
            "col A    1\n",
            "col B    4\n",
            "col C    7\n",
            "Name: a, dtype: int64\n",
            "1\n",
            "1\n",
            "   col A  col B  col C  col D\n",
            "a      1      4      7     10\n",
            "b      2      5      8     11\n",
            "c      3      6      9     12\n",
            "   col A  col B  col C  col D\n",
            "a      1      4      7     10\n",
            "b      2      5      8     11\n",
            "c      3      6      9     12\n",
            "d     13     14     15     16\n",
            "   col A  col B  col C  col D\n",
            "a     10      4      7     10\n",
            "b     20      5      8     11\n",
            "c     30      6      9     12\n",
            "d    130     14     15     16\n",
            "col A    190\n",
            "col B     29\n",
            "col C     39\n",
            "col D     49\n",
            "dtype: int64\n"
          ]
        }
      ],
      "source": [
        "# Access all the data in a column\n",
        "print(dataframe[\"col A\"]) # By index\n",
        "print(dataframe.loc[:,\"col A\"]) # By index\n",
        "print(dataframe.iloc[:,0]) # By position\n",
        "\n",
        "# Access all the data in a row\n",
        "print(dataframe.loc[\"a\"]) # By index\n",
        "print(dataframe.iloc[0]) # By position\n",
        "\n",
        "# Access to a specific element (row, column)\n",
        "print(dataframe.loc[\"a\", \"col A\"]) # By index\n",
        "print(dataframe.iloc[0, 0]) # By position\n",
        "\n",
        "# Create a new column\n",
        "dataframe[\"col D\"] = [10, 11, 12]\n",
        "print(dataframe)\n",
        "\n",
        "# Create a new row\n",
        "dataframe.loc[\"d\"] = [13, 14, 15, 16]\n",
        "print(dataframe)\n",
        "\n",
        "# Multiply by 10 the elements of a column\n",
        "dataframe[\"col A\"] *= 10\n",
        "print(dataframe)\n",
        "\n",
        "# Calculate the sum of all elements\n",
        "sum_all = dataframe.sum()\n",
        "print(sum_all)"
      ]
    },
    {
      "cell_type": "markdown",
      "id": "1ac3bdaa",
      "metadata": {
        "id": "1ac3bdaa"
      },
      "source": [
        "### Functions in Python Pandas\n",
        "\n",
        "Pandas provide a large number of predefined functions that can be applied on the data structures seen above. Some of the most used in data analysis are:"
      ]
    },
    {
      "cell_type": "code",
      "execution_count": null,
      "id": "9a54370c",
      "metadata": {
        "id": "9a54370c",
        "outputId": "43e81cc9-1b5c-495b-fb19-51ae2db8702f"
      },
      "outputs": [
        {
          "name": "stdout",
          "output_type": "stream",
          "text": [
            "Sum of series: 0    5\n",
            "1    7\n",
            "2    9\n",
            "dtype: int64\n",
            "Sum of DataFrames:     0   1   2\n",
            "0   8  10  12\n",
            "1  14  16  18\n",
            "Mean: 2.0\n",
            "Mediaa: 2.0\n",
            "Number of elements: 3\n",
            "Standard derviation: 1.0\n",
            "Variance: 1.0\n",
            "Maximum value: 3\n",
            "Minimum value: 1\n",
            "Correlation: 1.0\n",
            "Statistic summary: count    3.0\n",
            "mean     2.0\n",
            "std      1.0\n",
            "min      1.0\n",
            "25%      1.5\n",
            "50%      2.0\n",
            "75%      2.5\n",
            "max      3.0\n",
            "dtype: float64\n"
          ]
        }
      ],
      "source": [
        "import pandas as pd\n",
        "\n",
        "s1 = pd.Series([1, 2, 3])\n",
        "s2 = pd.Series([4, 5, 6])\n",
        "d1 = pd.DataFrame([[1, 2, 3], [4, 5, 6]])\n",
        "d2 = pd.DataFrame([[7, 8, 9], [10, 11, 12]])\n",
        "\n",
        "# Arithmetic Operations\n",
        "print(\"Sum of series:\", s1.add(s2))\n",
        "print(\"Sum of DataFrames:\", d1.add(d2))\n",
        "\n",
        "# Statistical Operations\n",
        "# They can be applied in the same way to DataFrames\n",
        "print(\"Mean:\", s1.mean())\n",
        "print(\"Median:\", s1.median())\n",
        "print(\"Number of elements:\", s1.count())\n",
        "print(\"Standard deviation:\", s1.std())\n",
        "print(\"Variance:\", s1.var())\n",
        "print(\"Maximum value:\", s1.max())\n",
        "print(\"Minimum value:\", s1.min())\n",
        "print(\"Correlation:\", s1.corr(s2))\n",
        "print(\"Statistic summary:\", s1.describe())"
      ]
    },
    {
      "cell_type": "markdown",
      "id": "1837dc19",
      "metadata": {
        "id": "1837dc19"
      },
      "source": [
        "#### Pandas allows you to use custom python functions (including lambda)\n",
        "\n",
        "In addition to the Pandas predefined functions, we can also define and apply others to the data structures. To do this, we have to program the function to receive a value (or a column or row in the case of a DataFrame) and return another modified one, and reference it with `apply`.\n",
        "\n",
        "In addition, this function allows using **lambda expressions** for the anonymous declaration of functions.\n",
        "\n",
        "The following shows how to apply functions to series:"
      ]
    },
    {
      "cell_type": "code",
      "execution_count": null,
      "id": "282d22bb",
      "metadata": {
        "id": "282d22bb",
        "outputId": "a8d67d83-c6ea-467a-9872-a94491e4b905"
      },
      "outputs": [
        {
          "name": "stdout",
          "output_type": "stream",
          "text": [
            "0     1\n",
            "1     4\n",
            "2     9\n",
            "3    16\n",
            "dtype: int64\n",
            "0     1\n",
            "1     4\n",
            "2     9\n",
            "3    16\n",
            "dtype: int64\n"
          ]
        }
      ],
      "source": [
        "import pandas as pd\n",
        "s = pd.Series([1, 2, 3, 4])\n",
        "\n",
        "# Explicit definition of the function\n",
        "def squared(x):\n",
        "    return x ** 2\n",
        "s1 = s.apply(squared)\n",
        "print(s1)\n",
        "\n",
        "# Anonymous definition of the function\n",
        "s2 = s.apply(lambda x: x ** 2)\n",
        "print(s2)"
      ]
    },
    {
      "cell_type": "markdown",
      "id": "40e3a3db",
      "metadata": {
        "id": "40e3a3db"
      },
      "source": [
        "The following shows how to apply functions to a DataFrame, which can be done by row, by column or by elements, similar to series:"
      ]
    },
    {
      "cell_type": "code",
      "execution_count": null,
      "id": "7c96f45d",
      "metadata": {
        "id": "7c96f45d",
        "outputId": "1bdc242f-b17d-40ab-fca6-d698369a04fc"
      },
      "outputs": [
        {
          "name": "stdout",
          "output_type": "stream",
          "text": [
            "   A  B\n",
            "0  1  4\n",
            "1  4  5\n",
            "2  9  6\n",
            "   A   B\n",
            "0  1  16\n",
            "1  4   5\n",
            "2  9   6\n",
            "    A    B\n",
            "0   1  256\n",
            "1  16   25\n",
            "2  81   36\n"
          ]
        }
      ],
      "source": [
        "df = pd.DataFrame({\n",
        "    \"A\": [1, 2, 3],\n",
        "    \"B\": [4, 5, 6]\n",
        "})\n",
        "\n",
        "# Apply function along a column\n",
        "df[\"A\"] = df[\"A\"].apply(lambda x: x ** 2)\n",
        "print(df)\n",
        "\n",
        "# Apply function along a row\n",
        "df.loc[0] = df.loc[0].apply(lambda x: x ** 2)\n",
        "print(df)\n",
        "\n",
        "# Apply function to all elements\n",
        "df = df.applymap(lambda x: x ** 2)\n",
        "print(df)"
      ]
    },
    {
      "cell_type": "markdown",
      "id": "3acb43c7",
      "metadata": {
        "id": "3acb43c7"
      },
      "source": [
        "`apply` is more flexible than other vectorized Pandas functions, but can be slower, especially when applied to large data sets. It is always important to explore the Pandas or NumPy built-in functions first, as they are usually more efficient than the ones we could implement ourselves.\n",
        "\n",
        "Also, this function can return results in different ways, depending on the function applied and how it is configured."
      ]
    },
    {
      "cell_type": "markdown",
      "id": "a9f764b6",
      "metadata": {
        "id": "a9f764b6"
      },
      "source": [
        "## Start practicing the Pandas syntax in python righ now!\n",
        "\n",
        "> Click on Open in Colab to do the exercises\n",
        "\n",
        "> 🛟 Solutions: In this link you can find the [solutions for the following pandas exercises](https://4geeks.com/lesson/pandas-exercises-and-solutions).\n",
        "\n",
        "\n",
        "\n",
        "### Creation of Series and Pandas DataFrames"
      ]
    },
    {
      "cell_type": "markdown",
      "id": "e3c20b3d",
      "metadata": {
        "id": "e3c20b3d"
      },
      "source": [
        "#### Pandas Exercise 01: Create a Series from a list, a NumPy array and a dictionary (★☆☆)\n",
        "\n",
        "> NOTE: Review the class `pd.Series` (https://pandas.pydata.org/docs/reference/api/pandas.Series.html)"
      ]
    },
    {
      "cell_type": "code",
      "execution_count": 1,
      "id": "8a758bcf",
      "metadata": {
        "id": "8a758bcf",
        "outputId": "34d29ac0-e71e-4846-9382-4a024e283459",
        "colab": {
          "base_uri": "https://localhost:8080/"
        }
      },
      "outputs": [
        {
          "output_type": "stream",
          "name": "stdout",
          "text": [
            "0     1\n",
            "1     2\n",
            "2     3\n",
            "3     4\n",
            "4     5\n",
            "5     6\n",
            "6     7\n",
            "7     8\n",
            "8     9\n",
            "9    10\n",
            "dtype: int64\n",
            "0     1\n",
            "1     2\n",
            "2     3\n",
            "3     4\n",
            "4     5\n",
            "5     6\n",
            "6     7\n",
            "7     8\n",
            "8     9\n",
            "9    10\n",
            "dtype: int64\n",
            "a    1\n",
            "b    2\n",
            "c    3\n",
            "dtype: int64\n"
          ]
        }
      ],
      "source": [
        "import pandas as pd\n",
        "import numpy as np\n",
        "\n",
        "print(pd.Series([1, 2, 3, 4, 5, 6, 7, 8, 9, 10]))\n",
        "print(pd.Series(np.array([1, 2, 3, 4, 5, 6, 7, 8, 9, 10])))\n",
        "print(pd.Series({'a': 1, 'b': 2, 'c': 3}))"
      ]
    },
    {
      "cell_type": "markdown",
      "id": "cb8185b8",
      "metadata": {
        "id": "cb8185b8"
      },
      "source": [
        "#### Pandas Exercise 02: Create a DataFrame from a NumPy array, a dictionary and a list of tuples (★☆☆)\n",
        "\n",
        "> NOTE: Review the class `pd.DataFrame` (https://pandas.pydata.org/docs/reference/api/pandas.DataFrame.html)"
      ]
    },
    {
      "cell_type": "code",
      "execution_count": 5,
      "id": "16cc6699",
      "metadata": {
        "id": "16cc6699",
        "outputId": "a4037b5b-1ad6-4334-a545-472999cb2489",
        "colab": {
          "base_uri": "https://localhost:8080/"
        }
      },
      "outputs": [
        {
          "output_type": "stream",
          "name": "stdout",
          "text": [
            "   0\n",
            "0  1\n",
            "1  2\n",
            "2  3\n",
            "3  4\n",
            "   a  b  c\n",
            "0  1  4  7\n",
            "1  2  5  8\n",
            "2  3  6  9\n",
            "   0  1  2  3\n",
            "0  1  2  3  4\n",
            "1  5  6  7  8\n"
          ]
        }
      ],
      "source": [
        "import pandas as pd\n",
        "import numpy as np\n",
        "\n",
        "print(pd.DataFrame(np.array([1, 2, 3, 4])))\n",
        "print(pd.DataFrame({\"a\": [1, 2, 3], \"b\": [4, 5, 6], \"c\": [7, 8 , 9]}))\n",
        "print(pd.DataFrame([(1, 2, 3, 4), (5, 6 , 7 , 8)]))\n"
      ]
    },
    {
      "cell_type": "markdown",
      "id": "96424fb7",
      "metadata": {
        "id": "96424fb7"
      },
      "source": [
        "#### Pandas Exercise 03: Create 2 Series and use them to build a DataFrame (★☆☆)\n",
        "\n",
        "> NOTE: Review the functions `pd.concat` (https://pandas.pydata.org/docs/reference/api/pandas.concat.html) and `pd.Series.to_frame` (https://pandas.pydata.org/docs/reference/api/pandas.Series.to_frame.html)"
      ]
    },
    {
      "cell_type": "code",
      "execution_count": 19,
      "id": "36ff398e",
      "metadata": {
        "id": "36ff398e",
        "outputId": "2a60eb4d-666a-42ed-b7ae-434ea64093f7",
        "colab": {
          "base_uri": "https://localhost:8080/"
        }
      },
      "outputs": [
        {
          "output_type": "stream",
          "name": "stdout",
          "text": [
            "   0\n",
            "0  8\n",
            "1  5\n",
            "2  6\n",
            "3  2\n",
            "4  8\n",
            "5  5\n",
            "6  6\n",
            "7  6\n",
            "8  2\n",
            "9  9\n",
            "0  9\n",
            "1  7\n",
            "2  5\n",
            "3  9\n",
            "4  5\n",
            "5  2\n",
            "6  5\n",
            "7  9\n",
            "8  9\n",
            "9  7\n"
          ]
        }
      ],
      "source": [
        "import numpy as np\n",
        "import pandas as pd\n",
        "\n",
        "s_1 = pd.Series(np.random.randint(1, 10, 10))\n",
        "s_2 = pd.Series(np.random.randint(1, 10, 10))\n",
        "print(pd.concat([s_1, s_2]).to_frame())\n"
      ]
    },
    {
      "cell_type": "markdown",
      "id": "8caafb43",
      "metadata": {
        "id": "8caafb43"
      },
      "source": [
        "### Filtering and updating"
      ]
    },
    {
      "cell_type": "markdown",
      "id": "1499a0a6",
      "metadata": {
        "id": "1499a0a6"
      },
      "source": [
        "#### Exercise 04: Use the Series created in the previous exercise and select the positions of the elements of the first Series that are in the second Series (★★☆)\n",
        "\n",
        "> NOTE: Review the function `pd.Series.isin` (https://pandas.pydata.org/docs/reference/api/pandas.Series.isin.html)"
      ]
    },
    {
      "cell_type": "code",
      "execution_count": 25,
      "id": "5683a253",
      "metadata": {
        "id": "5683a253",
        "outputId": "bceb9cd0-4cb4-4f3d-e948-97cb626c3810",
        "colab": {
          "base_uri": "https://localhost:8080/"
        }
      },
      "outputs": [
        {
          "output_type": "stream",
          "name": "stdout",
          "text": [
            "First Series:\n",
            "0    1\n",
            "1    8\n",
            "2    4\n",
            "3    9\n",
            "4    4\n",
            "5    6\n",
            "6    6\n",
            "7    3\n",
            "8    1\n",
            "9    7\n",
            "dtype: int64\n",
            "Second Series:\n",
            "0    4\n",
            "1    2\n",
            "2    5\n",
            "3    3\n",
            "4    3\n",
            "5    6\n",
            "6    3\n",
            "7    9\n",
            "8    4\n",
            "9    7\n",
            "dtype: int64\n",
            "0    False\n",
            "1    False\n",
            "2     True\n",
            "3     True\n",
            "4     True\n",
            "5     True\n",
            "6     True\n",
            "7     True\n",
            "8    False\n",
            "9     True\n",
            "dtype: bool\n"
          ]
        }
      ],
      "source": [
        "import numpy as np\n",
        "import pandas as pd\n",
        "\n",
        "s_1 = pd.Series(np.random.randint(1, 10, 10))\n",
        "s_2 = pd.Series(np.random.randint(1, 10, 10))\n",
        "print(f\"First Series:\\n{s_1}\")\n",
        "print(f\"Second Series:\\n{s_2}\")\n",
        "\n",
        "print(s_1.isin(s_2))"
      ]
    },
    {
      "cell_type": "markdown",
      "id": "4303b614",
      "metadata": {
        "id": "4303b614"
      },
      "source": [
        "#### Pandas Exercise 05: Use the series created in exercise 03 and list the elements that are not common between both series (★★☆)"
      ]
    },
    {
      "cell_type": "code",
      "execution_count": 27,
      "id": "477e01f4",
      "metadata": {
        "id": "477e01f4",
        "outputId": "eb9c52ba-bf9d-4d19-eeb3-f9aa8bbdca06",
        "colab": {
          "base_uri": "https://localhost:8080/"
        }
      },
      "outputs": [
        {
          "output_type": "stream",
          "name": "stdout",
          "text": [
            "0    2\n",
            "1    3\n",
            "2    5\n",
            "3    7\n",
            "4    8\n",
            "dtype: int64\n"
          ]
        }
      ],
      "source": [
        "import numpy as np\n",
        "import pandas as pd\n",
        "\n",
        "s_1 = pd.Series(np.random.randint(1, 10, 10))\n",
        "s_2 = pd.Series(np.random.randint(1, 10, 10))\n",
        "\n",
        "non_common_elements = pd.Series(list(set(s_1).symmetric_difference(set(s_2))))\n",
        "print(non_common_elements)\n"
      ]
    },
    {
      "cell_type": "markdown",
      "id": "4e7ad59c",
      "metadata": {
        "id": "4e7ad59c"
      },
      "source": [
        "#### Pandas Exercise 06: Create a DataFrame of random numbers with 5 columns and 10 rows and sort one of its columns from smallest to largest (★★☆)\n",
        "\n",
        "> NOTE: Review the function `pd.DataFrame.sort_values` (https://pandas.pydata.org/docs/reference/api/pandas.DataFrame.sort_values.html)"
      ]
    },
    {
      "cell_type": "code",
      "execution_count": 40,
      "id": "82de9a71",
      "metadata": {
        "id": "82de9a71",
        "outputId": "88b09a59-09cf-47c2-bcf2-d5ce7223968f",
        "colab": {
          "base_uri": "https://localhost:8080/"
        }
      },
      "outputs": [
        {
          "output_type": "stream",
          "name": "stdout",
          "text": [
            "          A         B         C         D         E\n",
            "0  0.423234  0.127124  0.939492  0.109326  0.718684\n",
            "1  0.221435  0.713820  0.273427  0.795823  0.247683\n",
            "2  0.793511  0.802372  0.029012  0.530931  0.396678\n",
            "3  0.238440  0.207845  0.519200  0.815831  0.981522\n",
            "4  0.915501  0.763963  0.735315  0.389371  0.793791\n",
            "5  0.049200  0.734609  0.790140  0.390412  0.159919\n",
            "6  0.842433  0.633006  0.264461  0.193814  0.252516\n",
            "7  0.731566  0.470483  0.012227  0.486389  0.013984\n",
            "8  0.881501  0.861416  0.313164  0.980190  0.979860\n",
            "9  0.173236  0.174094  0.388434  0.304523  0.411278\n",
            "\n",
            "Sorted\n",
            ":           A         B         C         D         E\n",
            "0  0.423234  0.127124  0.939492  0.109326  0.718684\n",
            "9  0.173236  0.174094  0.388434  0.304523  0.411278\n",
            "3  0.238440  0.207845  0.519200  0.815831  0.981522\n",
            "7  0.731566  0.470483  0.012227  0.486389  0.013984\n",
            "6  0.842433  0.633006  0.264461  0.193814  0.252516\n",
            "1  0.221435  0.713820  0.273427  0.795823  0.247683\n",
            "5  0.049200  0.734609  0.790140  0.390412  0.159919\n",
            "4  0.915501  0.763963  0.735315  0.389371  0.793791\n",
            "2  0.793511  0.802372  0.029012  0.530931  0.396678\n",
            "8  0.881501  0.861416  0.313164  0.980190  0.979860\n"
          ]
        }
      ],
      "source": [
        "import numpy as np\n",
        "import pandas as pd\n",
        "\n",
        "data_frame = pd.DataFrame(np.random.rand(10, 5), columns=[\"A\", \"B\", \"C\", \"D\", \"E\"])\n",
        "print(data_frame)\n",
        "\n",
        "print(f\"\\nSorted\\n: {data_frame.sort_values(by='B')}\")"
      ]
    },
    {
      "cell_type": "markdown",
      "id": "09f77d6a",
      "metadata": {
        "id": "09f77d6a"
      },
      "source": [
        "#### Pandas Exercise 07: Modify the name of the 5 columns of the above DataFrame to the following format: `N_column` where `N` is the column number (★★☆)\n",
        "\n",
        "> NOTE: Review the function `pd.DataFrame.sort_values` (https://pandas.pydata.org/docs/reference/api/pandas.DataFrame.sort_values.html)"
      ]
    },
    {
      "cell_type": "code",
      "execution_count": 41,
      "id": "6c65fe4f",
      "metadata": {
        "id": "6c65fe4f",
        "outputId": "68dd5841-d1e7-4e95-ac79-c3291b3752f3",
        "colab": {
          "base_uri": "https://localhost:8080/"
        }
      },
      "outputs": [
        {
          "output_type": "stream",
          "name": "stdout",
          "text": [
            "          A         B         C         D         E\n",
            "0  0.567593  0.217692  0.673339  0.254494  0.008074\n",
            "1  0.581521  0.132955  0.238331  0.574383  0.452637\n",
            "2  0.542043  0.528961  0.594541  0.098631  0.421474\n",
            "3  0.709673  0.778598  0.934210  0.831077  0.030084\n",
            "4  0.454106  0.575629  0.672398  0.080727  0.532670\n",
            "5  0.268456  0.602892  0.257060  0.446268  0.669584\n",
            "6  0.595184  0.099306  0.440230  0.250305  0.568656\n",
            "7  0.677748  0.553229  0.350116  0.408129  0.398830\n",
            "8  0.564344  0.365482  0.166222  0.183185  0.472447\n",
            "9  0.463391  0.975358  0.764082  0.057217  0.395680\n",
            "\n",
            "Sorted\n",
            ":    1_column  2_column  3_column  4_column  5_column\n",
            "6  0.595184  0.099306  0.440230  0.250305  0.568656\n",
            "1  0.581521  0.132955  0.238331  0.574383  0.452637\n",
            "0  0.567593  0.217692  0.673339  0.254494  0.008074\n",
            "8  0.564344  0.365482  0.166222  0.183185  0.472447\n",
            "2  0.542043  0.528961  0.594541  0.098631  0.421474\n",
            "7  0.677748  0.553229  0.350116  0.408129  0.398830\n",
            "4  0.454106  0.575629  0.672398  0.080727  0.532670\n",
            "5  0.268456  0.602892  0.257060  0.446268  0.669584\n",
            "3  0.709673  0.778598  0.934210  0.831077  0.030084\n",
            "9  0.463391  0.975358  0.764082  0.057217  0.395680\n"
          ]
        }
      ],
      "source": [
        "import numpy as np\n",
        "import pandas as pd\n",
        "\n",
        "data_frame = pd.DataFrame(np.random.rand(10, 5), columns=[\"A\", \"B\", \"C\", \"D\", \"E\"])\n",
        "print(data_frame)\n",
        "\n",
        "data_frame.columns = data_frame.columns = [f\"{i+1}_column\" for i in range(len(data_frame.columns))]\n",
        "\n",
        "print(f\"\\nSorted\\n: {data_frame.sort_values(by='2_column')}\")"
      ]
    },
    {
      "cell_type": "markdown",
      "id": "c0e940f8",
      "metadata": {
        "id": "c0e940f8"
      },
      "source": [
        "#### Pandas Exercise 08: Modify the index of the rows of the DataFrame of exercise 06 (★★☆)\n",
        "\n",
        "> NOTE: Review the function `pd.DataFrame.sort_values` (https://pandas.pydata.org/docs/reference/api/pandas.DataFrame.sort_values.html)"
      ]
    },
    {
      "cell_type": "code",
      "execution_count": 45,
      "id": "820dc7a5",
      "metadata": {
        "id": "820dc7a5",
        "outputId": "6de7f2a8-340f-4e9e-9d20-b15515e42b7e",
        "colab": {
          "base_uri": "https://localhost:8080/"
        }
      },
      "outputs": [
        {
          "output_type": "stream",
          "name": "stdout",
          "text": [
            "          A         B         C         D         E\n",
            "0  0.737757  0.636751  0.487605  0.185477  0.786780\n",
            "1  0.842027  0.022087  0.417790  0.892566  0.998234\n",
            "2  0.544924  0.062190  0.985123  0.232281  0.640625\n",
            "3  0.352525  0.229693  0.877487  0.573159  0.301299\n",
            "4  0.264237  0.700992  0.099718  0.747037  0.731498\n",
            "5  0.216031  0.747736  0.794067  0.937348  0.196024\n",
            "6  0.561522  0.769021  0.766751  0.338023  0.644105\n",
            "7  0.181505  0.999173  0.505392  0.717143  0.365422\n",
            "8  0.689478  0.546813  0.915750  0.164110  0.559506\n",
            "9  0.789806  0.668443  0.732288  0.466470  0.138587\n",
            "\n",
            "Sorted\n",
            ":           A         B         C         D         E\n",
            "b  0.842027  0.022087  0.417790  0.892566  0.998234\n",
            "c  0.544924  0.062190  0.985123  0.232281  0.640625\n",
            "d  0.352525  0.229693  0.877487  0.573159  0.301299\n",
            "i  0.689478  0.546813  0.915750  0.164110  0.559506\n",
            "a  0.737757  0.636751  0.487605  0.185477  0.786780\n",
            "j  0.789806  0.668443  0.732288  0.466470  0.138587\n",
            "e  0.264237  0.700992  0.099718  0.747037  0.731498\n",
            "f  0.216031  0.747736  0.794067  0.937348  0.196024\n",
            "g  0.561522  0.769021  0.766751  0.338023  0.644105\n",
            "h  0.181505  0.999173  0.505392  0.717143  0.365422\n"
          ]
        }
      ],
      "source": [
        "import numpy as np\n",
        "import pandas as pd\n",
        "\n",
        "data_frame = pd.DataFrame(np.random.rand(10, 5), columns=[\"A\", \"B\", \"C\", \"D\", \"E\"])\n",
        "print(data_frame)\n",
        "\n",
        "data_frame.index = [\"a\", \"b\", \"c\", \"d\", \"e\", \"f\", \"g\", \"h\", \"i\", \"j\"]\n",
        "\n",
        "print(f\"\\nSorted\\n: {data_frame.sort_values(by='B')}\")"
      ]
    }
  ],
  "metadata": {
    "kernelspec": {
      "display_name": "Python 3",
      "language": "python",
      "name": "python3"
    },
    "language_info": {
      "codemirror_mode": {
        "name": "ipython",
        "version": 3
      },
      "file_extension": ".py",
      "mimetype": "text/x-python",
      "name": "python",
      "nbconvert_exporter": "python",
      "pygments_lexer": "ipython3",
      "version": "3.11.4"
    },
    "colab": {
      "provenance": []
    }
  },
  "nbformat": 4,
  "nbformat_minor": 5
}