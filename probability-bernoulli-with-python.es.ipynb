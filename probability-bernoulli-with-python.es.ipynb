{
  "cells": [
    {
      "cell_type": "markdown",
      "metadata": {
        "id": "view-in-github",
        "colab_type": "text"
      },
      "source": [
        "<a href=\"https://colab.research.google.com/github/TatianaCC/4GeeksAcademy/blob/master/probability-bernoulli-with-python.es.ipynb\" target=\"_parent\"><img src=\"https://colab.research.google.com/assets/colab-badge.svg\" alt=\"Open In Colab\"/></a>"
      ]
    },
    {
      "cell_type": "markdown",
      "metadata": {
        "id": "nh__WW5eAGue"
      },
      "source": [
        "# Introducción a Probabilidad\n",
        "\n",
        "*La probabilidad de un evento es un número entre 0 y 1, donde en términos generales, el 0 indica la imposibilidad del evento, mientras que el 1 indica la certeza. Mientras más alta sea la probabilidad de un evento, es más probable que suceda. Un simple ejemplo es el lanzamiento de una moneda justa (imparcial). Ya que la moneda es \"justa\", ambos resultados (cara o cruz) son igualmente probables; la probabilidad de se salga \"cara\", es la misma de que salga \"cruz\", y ya no es posible que salga otro resultado, la probabilidad de que salga \"cara\" o \"sello\" es 1/2 (que también se escribe como 0.5 o 50%)* --- [Fuente](https://en.wikipedia.org/wiki/Probability#:~:text=Probability%20is%20the%20branch%20of,event%20and%201%20indicates%20certainty.)"
      ]
    },
    {
      "cell_type": "code",
      "execution_count": 1,
      "metadata": {
        "id": "EuF3SZnUAGue"
      },
      "outputs": [],
      "source": [
        "import matplotlib.pyplot as plt\n",
        "import numpy as np\n",
        "import pandas as pd"
      ]
    },
    {
      "cell_type": "markdown",
      "metadata": {
        "id": "LlAJdHFgAGue"
      },
      "source": [
        "## Ejemplo: Lanzar Monedas\n",
        "\n",
        "Considera el ejemplo de lanzar una moneda justa para afianzar nuestro vocabulario y símbolos. Vamos a decir que la probabilidad de obtener cara es el total de formas en que este evento suceda dividido entre el número de todos los resultados posibles\n",
        "\n",
        "**EJEMPLO I**: Una moneda justa\n",
        "\n",
        "Con una moneda justa, tenemos resultados de cara o cruz. El resultado de interés es de cara o cruz. Nosotros diríamos que la probabilidad de cada uno es $\\frac{1}{2}$:\n",
        "\n",
        "$$P(\\text{cara}) = \\frac{1}{2} \\quad P(\\text{sello}) = \\frac{1}{2}$$\n",
        "\n",
        "Ten en cuenta que estas probabilidades suman 1."
      ]
    },
    {
      "cell_type": "markdown",
      "metadata": {
        "id": "n-h85_v3AGue"
      },
      "source": [
        "**EJEMPLO II**: Una moneda injusta\n",
        "\n",
        "Un ejemplo de una moneda injusta sería cualquier cosa que no tenga la misma probabilidad. Por ejemplo:\n",
        "\n",
        "$$P(\\text{cara}) = \\frac{6}{10} \\quad P(\\text{sello}) = \\frac{4}{10}$$"
      ]
    },
    {
      "cell_type": "code",
      "execution_count": 2,
      "metadata": {
        "colab": {
          "base_uri": "https://localhost:8080/",
          "height": 456
        },
        "id": "qpjlVffZAGue",
        "outputId": "dd05a6d7-86b2-4267-de75-08c03f72a77b"
      },
      "outputs": [
        {
          "output_type": "display_data",
          "data": {
            "text/plain": [
              "<Figure size 2000x500 with 2 Axes>"
            ],
            "image/png": "[encoded data removed]"
          },
          "metadata": {}
        }
      ],
      "source": [
        "import scipy.stats as stats\n",
        "fig, ax = plt.subplots(1, 2, figsize = (20, 5))\n",
        "fair_coin = stats.bernoulli(.5).pmf([0, 1])\n",
        "ax[0].bar(['heads', 'tails'], fair_coin, color=['gray', 'white'], edgecolor = 'black')\n",
        "ax[0].set_title('Probabilities for a Fair Coin');\n",
        "\n",
        "unfair_coin = stats.bernoulli(.4).pmf([0, 1])\n",
        "ax[1].bar(['heads', 'tails'], unfair_coin, color = ['gray', 'white'], edgecolor = 'black')\n",
        "ax[1].set_title('Probabilities for an Unfair Coin');"
      ]
    },
    {
      "cell_type": "markdown",
      "metadata": {
        "id": "Bj3lEIqSAGuf",
        "vscode": {
          "languageId": "plaintext"
        }
      },
      "source": [
        "### Función de Probablidades de Masa\n",
        "\n",
        "Podemos describir este tipo de evento como una función. Específicamente, una situación en la cual hay dos posibles resultados con una probabilidad asociada a cada uno. Esto se llama una distribución de *bernoulli*, y la forma funcional es:\n",
        "\n",
        "$$f(k;p)=pk+(1-p)(1-k)\\quad {\\text{for }}k\\in \\{0,1\\}$$"
      ]
    },
    {
      "cell_type": "markdown",
      "metadata": {
        "id": "tyEv6UmsAGuf"
      },
      "source": [
        "En nuestro ejemplo de una moneda injusta, si consideramos cara como 0 y sello como 1 ($k$), tendríamos:\n",
        "\n",
        "$$f(0, .4) = .4*0 + (1 - .4)(1 - 0)$$\n",
        "\n"
      ]
    },
    {
      "cell_type": "markdown",
      "metadata": {
        "id": "THV-KaywAGuf"
      },
      "source": [
        "que es igual a 0.6.  De forma similar, la probabilidad de sello ($k = 0$):\n",
        "\n",
        "$$f(1, .4) = .4 * 1 + (1 - 1)(1 - 1)$$\n",
        "\n",
        "que es igual a 0.4."
      ]
    },
    {
      "cell_type": "code",
      "execution_count": 3,
      "metadata": {
        "id": "19KM3ng6AGug"
      },
      "outputs": [],
      "source": [
        "def bernoulli(k, p):\n",
        "    return p*k + (1-p)*(1 - k)"
      ]
    },
    {
      "cell_type": "code",
      "execution_count": 4,
      "metadata": {
        "colab": {
          "base_uri": "https://localhost:8080/"
        },
        "id": "qTUJ-D5yAGug",
        "outputId": "3961f9cc-3b99-4bc7-a896-93af450316aa"
      },
      "outputs": [
        {
          "output_type": "execute_result",
          "data": {
            "text/plain": [
              "0.6"
            ]
          },
          "metadata": {},
          "execution_count": 4
        }
      ],
      "source": [
        "bernoulli(0, 0.4)"
      ]
    },
    {
      "cell_type": "code",
      "execution_count": 5,
      "metadata": {
        "colab": {
          "base_uri": "https://localhost:8080/"
        },
        "id": "MymmHDp6AGug",
        "outputId": "86c4982f-db42-408b-adc6-a7e59e5e375e"
      },
      "outputs": [
        {
          "output_type": "execute_result",
          "data": {
            "text/plain": [
              "0.4"
            ]
          },
          "metadata": {},
          "execution_count": 5
        }
      ],
      "source": [
        "bernoulli(1, 0.4)"
      ]
    },
    {
      "cell_type": "markdown",
      "metadata": {
        "id": "gqwMxdVTAGug"
      },
      "source": [
        "### PROBLEMAS\n",
        "\n",
        "1. Supongamos que una bolsa contiene 8 metras rojas y 3 metras azules.\n",
        " - Cual es la probabilidad de escoger una metra roja de un sorteo aleatori0?\n",
        " - Una metra azul?\n",
        "2. Supongamos que una bolsa contiene 4 metras rojas, 7 metras amarillas y 2 metras azules.\n",
        " - Cual es la probabilidad de seleccionar una metra roja *o* una metra amarilla?\n",
        " - Cual es la probabilidad de seleccionar una metra amarilla *o* una metra azul ?\n",
        " - De cuantas maneras puedes seleccionar 2 colores de metras de la bolsa?\n",
        "3. Supongamos que una bolsa contiene 10 metras rojas y 7 azules.\n",
        " - Supongamos que seleccionas una metra de la bolsa, cual es la probabilidad de que sea roja?\n",
        " - Supongamos que seleccionas una metra azul, vuelves a colocarla en la bolsa y seleccionas otra metra. Cual es la probabilidad que la segunda metra sea azul?\n",
        " - Supongamos que seleccionas una metra azul, no devuelves la metra a la bolsa y seleccionas otra metra. Cual es la probabilidad que la segunda metra sea azul?"
      ]
    },
    {
      "cell_type": "code",
      "source": [
        "# Ejercicio 1\n",
        "n1_r = 8\n",
        "n1_a = 3\n",
        "n1 = n1_r + n1_a\n",
        "\n",
        "p1_r = n1_r/n1\n",
        "p1_a = n1_a/n1\n",
        "print('Probabilidad de escoger metra roja: {:.2f}'.format(p1_r))\n",
        "print('Probabilidad de escoger metra azul: {:.2f}'.format(p1_a))"
      ],
      "metadata": {
        "id": "HicAojwFLy2z",
        "outputId": "a863869a-15aa-4e2f-d00b-744612ce3cdc",
        "colab": {
          "base_uri": "https://localhost:8080/"
        }
      },
      "execution_count": 7,
      "outputs": [
        {
          "output_type": "stream",
          "name": "stdout",
          "text": [
            "Probabilidad de escoger metra roja: 0.73\n",
            "Probabilidad de escoger metra azul: 0.27\n"
          ]
        }
      ]
    },
    {
      "cell_type": "code",
      "source": [
        "# Ejercicio 2\n",
        "n2_r = 4\n",
        "n2_am = 7\n",
        "n2_a = 2\n",
        "n2 = n2_r+n2_am+n2_a\n",
        "\n",
        "p2_ram = (n2_r/n2) + (n2_am/n2)\n",
        "print('Probabilidad de escoger metra roja o amarilla: {:.2f}'.format(p2_ram))\n",
        "p2_ama = (n2_am/n2) + (n2_a/n2)\n",
        "print('Probabilidad de escoger metra amarilla o azul: {:.2f}'.format(p2_ama))\n",
        "\n",
        "# Combinatoria de escoger 2 colores\n",
        "#(3sup2)=3! / 2!(3-2)!\n",
        "import math as m\n",
        "com = (m.factorial(3))/(m.factorial(2)*(m.factorial(3-2)))\n",
        "print('Formas de escoger dos colores: {:.2f}'.format(com))"
      ],
      "metadata": {
        "id": "Vk672fJoNHp7",
        "outputId": "ed2d01c5-5bd5-4fe1-ba22-a77ced355285",
        "colab": {
          "base_uri": "https://localhost:8080/"
        }
      },
      "execution_count": 8,
      "outputs": [
        {
          "output_type": "stream",
          "name": "stdout",
          "text": [
            "Probabilidad de escoger metra roja o amarilla: 0.85\n",
            "Probabilidad de escoger metra amarilla o azul: 0.69\n",
            "Formas de escoger dos colores: 3.00\n"
          ]
        }
      ]
    },
    {
      "cell_type": "code",
      "source": [
        "# Ejercicio 3\n",
        "n3_r = 10\n",
        "n3_a = 7\n",
        "n3 = n3_r+n3_a\n",
        "\n",
        "p3_r = n3_r/n3\n",
        "print('Probabilidad de escoger metra roja: {:.2f}'.format(p3_r))\n",
        "p3_a = n3_a/n3\n",
        "# Con reemplazo,ambos intentos tienen la misma probabilidad.\n",
        "# La combinación de ambos:\n",
        "p3_aa = p3_a*p3_a\n",
        "print('Probabilidad de escoger metra azul dos veces seguidas, con reemplazo: {:.2f}'.format(p3_aa))\n",
        "\n",
        "# Sin reemplazo, n_total en el segundo intento es 16\n",
        "p3_a2 = n3_a/(n3_a-1)\n",
        "# La combinación de ambos eventos:\n",
        "p3_aa2 = p3_a*p3_a2\n",
        "print('Probabilidad de escoger metra azul dos veces seguidas, sin reemplazo: {:.2f}'.format(p3_aa2))\n"
      ],
      "metadata": {
        "id": "nqUO5w5iPABE",
        "outputId": "de91b333-3e19-459f-9104-895e4bf6ab49",
        "colab": {
          "base_uri": "https://localhost:8080/"
        }
      },
      "execution_count": 9,
      "outputs": [
        {
          "output_type": "stream",
          "name": "stdout",
          "text": [
            "Probabilidad de escoger metra roja: 0.59\n",
            "Probabilidad de escoger metra azul dos veces seguidas, con reemplazo: 0.17\n",
            "Probabilidad de escoger metra azul dos veces seguidas, sin reemplazo: 0.48\n"
          ]
        }
      ]
    }
  ],
  "metadata": {
    "colab": {
      "provenance": [],
      "include_colab_link": true
    },
    "kernelspec": {
      "display_name": "Python 3",
      "language": "python",
      "name": "python3"
    },
    "language_info": {
      "codemirror_mode": {
        "name": "ipython",
        "version": 3
      },
      "file_extension": ".py",
      "mimetype": "text/x-python",
      "name": "python",
      "nbconvert_exporter": "python",
      "pygments_lexer": "ipython3",
      "version": "3.8.2"
    }
  },
  "nbformat": 4,
  "nbformat_minor": 0
}