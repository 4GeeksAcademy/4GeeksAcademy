{
  "nbformat": 4,
  "nbformat_minor": 0,
  "metadata": {
    "colab": {
      "provenance": [],
      "include_colab_link": true
    },
    "kernelspec": {
      "name": "python3",
      "display_name": "Python 3"
    },
    "language_info": {
      "name": "python"
    }
  },
  "cells": [
    {
      "cell_type": "markdown",
      "metadata": {
        "id": "view-in-github",
        "colab_type": "text"
      },
      "source": [
        "<a href=\"https://colab.research.google.com/github/vmmr-d/4GeeksAcademy/blob/master/Victor_Medrano_Conexi%C3%B3n_remota_SQL.ipynb\" target=\"_parent\"><img src=\"https://colab.research.google.com/assets/colab-badge.svg\" alt=\"Open In Colab\"/></a>"
      ]
    },
    {
      "cell_type": "code",
      "execution_count": null,
      "metadata": {
        "colab": {
          "base_uri": "https://localhost:8080/"
        },
        "id": "an8qjQ7vS2ln",
        "outputId": "fe41534c-218a-4549-be81-c6282f15d274"
      },
      "outputs": [
        {
          "output_type": "stream",
          "name": "stdout",
          "text": [
            "Collecting pymysql\n",
            "  Downloading PyMySQL-1.1.1-py3-none-any.whl.metadata (4.4 kB)\n",
            "Downloading PyMySQL-1.1.1-py3-none-any.whl (44 kB)\n",
            "\u001b[?25l   \u001b[90m━━━━━━━━━━━━━━━━━━━━━━━━━━━━━━━━━━━━━━━━\u001b[0m \u001b[32m0.0/45.0 kB\u001b[0m \u001b[31m?\u001b[0m eta \u001b[36m-:--:--\u001b[0m\r\u001b[2K   \u001b[90m━━━━━━━━━━━━━━━━━━━━━━━━━━━━━━━━━━━━━━━━\u001b[0m \u001b[32m45.0/45.0 kB\u001b[0m \u001b[31m1.2 MB/s\u001b[0m eta \u001b[36m0:00:00\u001b[0m\n",
            "\u001b[?25hInstalling collected packages: pymysql\n",
            "Successfully installed pymysql-1.1.1\n"
          ]
        }
      ],
      "source": [
        "!pip install pymysql"
      ]
    },
    {
      "cell_type": "markdown",
      "source": [
        "# Nueva sección"
      ],
      "metadata": {
        "id": "Cvv0VArqQVXe"
      }
    },
    {
      "source": [
        "import pymysql\n",
        "from google.colab import drive, files\n",
        "import os\n",
        "\n",
        "# Creamos el directorio a usar\n",
        "os.makedirs('/SQL', exist_ok=True)\n",
        "\n",
        "# Montamos la unidad\n",
        "drive.mount('/SQL/drive')"
      ],
      "cell_type": "code",
      "metadata": {
        "colab": {
          "base_uri": "https://localhost:8080/"
        },
        "id": "II7DokNLKZ7y",
        "outputId": "710803f2-49b3-49c4-f3bb-bd1b03c49a23"
      },
      "execution_count": null,
      "outputs": [
        {
          "output_type": "stream",
          "name": "stdout",
          "text": [
            "Drive already mounted at /SQL/drive; to attempt to forcibly remount, call drive.mount(\"/SQL/drive\", force_remount=True).\n"
          ]
        }
      ]
    },
    {
      "cell_type": "code",
      "source": [
        "# Se establece la conexión a la base de datos discos\n",
        "#https://www.freesqldatabase.com/account/\n",
        "miConexion = pymysql.connect(host='sql7.freesqldatabase.com', user='sql7752481', password='NzlsfcX4eg', db='sql7752481')\n",
        "cur = miConexion.cursor()"
      ],
      "metadata": {
        "id": "pW-YMHuuTEaJ"
      },
      "execution_count": null,
      "outputs": []
    },
    {
      "cell_type": "code",
      "source": [
        "# Crear la tabla de productoras\n",
        "sql_productoras = \"CREATE TABLE productoras (id INT AUTO_INCREMENT PRIMARY KEY, nombre VARCHAR(100))\"\n",
        "cur.execute(sql_productoras)"
      ],
      "metadata": {
        "colab": {
          "base_uri": "https://localhost:8080/"
        },
        "id": "YNjSgqIGZ_gW",
        "outputId": "4fe85615-4883-4054-98d0-4783ade18940"
      },
      "execution_count": null,
      "outputs": [
        {
          "output_type": "execute_result",
          "data": {
            "text/plain": [
              "0"
            ]
          },
          "metadata": {},
          "execution_count": 4
        }
      ]
    },
    {
      "cell_type": "code",
      "source": [
        "##Hemos creado dentro del Drive una carpeta SQL para guardar las tres consultas: Create , Insert y Drop\n",
        "\n",
        "uploaded = files.upload()\n",
        "!mkdir -p /SQL\n",
        "!mv create.sql /SQL/\n",
        "!mv drop.sql /SQL/\n",
        "!mv insert.sql /SQL/\n",
        "\n",
        "# Ruta del archivo SQL\n",
        "sql_file_path = '/SQL/create.sql'\n",
        "\n",
        "try:\n",
        "    # Leer el contenido del archivo SQL\n",
        "    with open(sql_file_path, 'r') as file:\n",
        "        sql_script = file.read()\n",
        "\n",
        "    # Ejecutar cada sentencia SQL separada por ';'\n",
        "    for statement in sql_script.split(';'):\n",
        "        if statement.strip():  # Ignorar líneas vacías\n",
        "            cur.execute(statement)\n",
        "\n",
        "    miConexion.commit()  # Confirmar los cambios\n",
        "    print(\"Tablas creadas con éxito.\")\n",
        "except Exception as e:\n",
        "    print(\"Error al ejecutar las sentencias SQL:\", e)\n",
        "finally:\n",
        "    cur.close()"
      ],
      "metadata": {
        "colab": {
          "base_uri": "https://localhost:8080/",
          "height": 160
        },
        "id": "VH7_3QUd4RB8",
        "outputId": "abb7d1f0-551d-4451-b863-72b20864de7e"
      },
      "execution_count": null,
      "outputs": [
        {
          "output_type": "display_data",
          "data": {
            "text/plain": [
              "<IPython.core.display.HTML object>"
            ],
            "text/html": [
              "\n",
              "     <input type=\"file\" id=\"files-aa80de9f-9fa4-4d8c-be14-657696da987c\" name=\"files[]\" multiple disabled\n",
              "        style=\"border:none\" />\n",
              "     <output id=\"result-aa80de9f-9fa4-4d8c-be14-657696da987c\">\n",
              "      Upload widget is only available when the cell has been executed in the\n",
              "      current browser session. Please rerun this cell to enable.\n",
              "      </output>\n",
              "      <script>// Copyright 2017 Google LLC\n",
              "//\n",
              "// Licensed under the Apache License, Version 2.0 (the \"License\");\n",
              "// you may not use this file except in compliance with the License.\n",
              "// You may obtain a copy of the License at\n",
              "//\n",
              "//      http://www.apache.org/licenses/LICENSE-2.0\n",
              "//\n",
              "// Unless required by applicable law or agreed to in writing, software\n",
              "// distributed under the License is distributed on an \"AS IS\" BASIS,\n",
              "// WITHOUT WARRANTIES OR CONDITIONS OF ANY KIND, either express or implied.\n",
              "// See the License for the specific language governing permissions and\n",
              "// limitations under the License.\n",
              "\n",
              "/**\n",
              " * @fileoverview Helpers for google.colab Python module.\n",
              " */\n",
              "(function(scope) {\n",
              "function span(text, styleAttributes = {}) {\n",
              "  const element = document.createElement('span');\n",
              "  element.textContent = text;\n",
              "  for (const key of Object.keys(styleAttributes)) {\n",
              "    element.style[key] = styleAttributes[key];\n",
              "  }\n",
              "  return element;\n",
              "}\n",
              "\n",
              "// Max number of bytes which will be uploaded at a time.\n",
              "const MAX_PAYLOAD_SIZE = 100 * 1024;\n",
              "\n",
              "function _uploadFiles(inputId, outputId) {\n",
              "  const steps = uploadFilesStep(inputId, outputId);\n",
              "  const outputElement = document.getElementById(outputId);\n",
              "  // Cache steps on the outputElement to make it available for the next call\n",
              "  // to uploadFilesContinue from Python.\n",
              "  outputElement.steps = steps;\n",
              "\n",
              "  return _uploadFilesContinue(outputId);\n",
              "}\n",
              "\n",
              "// This is roughly an async generator (not supported in the browser yet),\n",
              "// where there are multiple asynchronous steps and the Python side is going\n",
              "// to poll for completion of each step.\n",
              "// This uses a Promise to block the python side on completion of each step,\n",
              "// then passes the result of the previous step as the input to the next step.\n",
              "function _uploadFilesContinue(outputId) {\n",
              "  const outputElement = document.getElementById(outputId);\n",
              "  const steps = outputElement.steps;\n",
              "\n",
              "  const next = steps.next(outputElement.lastPromiseValue);\n",
              "  return Promise.resolve(next.value.promise).then((value) => {\n",
              "    // Cache the last promise value to make it available to the next\n",
              "    // step of the generator.\n",
              "    outputElement.lastPromiseValue = value;\n",
              "    return next.value.response;\n",
              "  });\n",
              "}\n",
              "\n",
              "/**\n",
              " * Generator function which is called between each async step of the upload\n",
              " * process.\n",
              " * @param {string} inputId Element ID of the input file picker element.\n",
              " * @param {string} outputId Element ID of the output display.\n",
              " * @return {!Iterable<!Object>} Iterable of next steps.\n",
              " */\n",
              "function* uploadFilesStep(inputId, outputId) {\n",
              "  const inputElement = document.getElementById(inputId);\n",
              "  inputElement.disabled = false;\n",
              "\n",
              "  const outputElement = document.getElementById(outputId);\n",
              "  outputElement.innerHTML = '';\n",
              "\n",
              "  const pickedPromise = new Promise((resolve) => {\n",
              "    inputElement.addEventListener('change', (e) => {\n",
              "      resolve(e.target.files);\n",
              "    });\n",
              "  });\n",
              "\n",
              "  const cancel = document.createElement('button');\n",
              "  inputElement.parentElement.appendChild(cancel);\n",
              "  cancel.textContent = 'Cancel upload';\n",
              "  const cancelPromise = new Promise((resolve) => {\n",
              "    cancel.onclick = () => {\n",
              "      resolve(null);\n",
              "    };\n",
              "  });\n",
              "\n",
              "  // Wait for the user to pick the files.\n",
              "  const files = yield {\n",
              "    promise: Promise.race([pickedPromise, cancelPromise]),\n",
              "    response: {\n",
              "      action: 'starting',\n",
              "    }\n",
              "  };\n",
              "\n",
              "  cancel.remove();\n",
              "\n",
              "  // Disable the input element since further picks are not allowed.\n",
              "  inputElement.disabled = true;\n",
              "\n",
              "  if (!files) {\n",
              "    return {\n",
              "      response: {\n",
              "        action: 'complete',\n",
              "      }\n",
              "    };\n",
              "  }\n",
              "\n",
              "  for (const file of files) {\n",
              "    const li = document.createElement('li');\n",
              "    li.append(span(file.name, {fontWeight: 'bold'}));\n",
              "    li.append(span(\n",
              "        `(${file.type || 'n/a'}) - ${file.size} bytes, ` +\n",
              "        `last modified: ${\n",
              "            file.lastModifiedDate ? file.lastModifiedDate.toLocaleDateString() :\n",
              "                                    'n/a'} - `));\n",
              "    const percent = span('0% done');\n",
              "    li.appendChild(percent);\n",
              "\n",
              "    outputElement.appendChild(li);\n",
              "\n",
              "    const fileDataPromise = new Promise((resolve) => {\n",
              "      const reader = new FileReader();\n",
              "      reader.onload = (e) => {\n",
              "        resolve(e.target.result);\n",
              "      };\n",
              "      reader.readAsArrayBuffer(file);\n",
              "    });\n",
              "    // Wait for the data to be ready.\n",
              "    let fileData = yield {\n",
              "      promise: fileDataPromise,\n",
              "      response: {\n",
              "        action: 'continue',\n",
              "      }\n",
              "    };\n",
              "\n",
              "    // Use a chunked sending to avoid message size limits. See b/62115660.\n",
              "    let position = 0;\n",
              "    do {\n",
              "      const length = Math.min(fileData.byteLength - position, MAX_PAYLOAD_SIZE);\n",
              "      const chunk = new Uint8Array(fileData, position, length);\n",
              "      position += length;\n",
              "\n",
              "      const base64 = btoa(String.fromCharCode.apply(null, chunk));\n",
              "      yield {\n",
              "        response: {\n",
              "          action: 'append',\n",
              "          file: file.name,\n",
              "          data: base64,\n",
              "        },\n",
              "      };\n",
              "\n",
              "      let percentDone = fileData.byteLength === 0 ?\n",
              "          100 :\n",
              "          Math.round((position / fileData.byteLength) * 100);\n",
              "      percent.textContent = `${percentDone}% done`;\n",
              "\n",
              "    } while (position < fileData.byteLength);\n",
              "  }\n",
              "\n",
              "  // All done.\n",
              "  yield {\n",
              "    response: {\n",
              "      action: 'complete',\n",
              "    }\n",
              "  };\n",
              "}\n",
              "\n",
              "scope.google = scope.google || {};\n",
              "scope.google.colab = scope.google.colab || {};\n",
              "scope.google.colab._files = {\n",
              "  _uploadFiles,\n",
              "  _uploadFilesContinue,\n",
              "};\n",
              "})(self);\n",
              "</script> "
            ]
          },
          "metadata": {}
        },
        {
          "output_type": "stream",
          "name": "stdout",
          "text": [
            "Saving drop.sql to drop.sql\n",
            "Saving insert.sql to insert.sql\n",
            "Saving create.sql to create.sql\n",
            "Tablas creadas con éxito.\n"
          ]
        }
      ]
    },
    {
      "cell_type": "code",
      "source": [
        "miConexion = pymysql.connect(host='sql7.freesqldatabase.com', user='sql7752481', password='NzlsfcX4eg', db='sql7752481')\n",
        "cur = miConexion.cursor()\n",
        "\n",
        "#Vamos a insertar los datos de Insert.sql\n",
        "sql_file_path = '/SQL/insert.sql'\n",
        "\n",
        "try:\n",
        "    # Abrir y leer el archivo SQL\n",
        "    with open(sql_file_path, 'r') as file:\n",
        "        sql_script = file.read()\n",
        "\n",
        "    # Ejecutar cada sentencia SQL\n",
        "    for statement in sql_script.split(';'):\n",
        "        if statement.strip():  # Ignorar líneas vacías\n",
        "            cur.execute(statement)\n",
        "\n",
        "    miConexion.commit()  # Confirmar los cambios\n",
        "    print(\"Datos insertados con éxito.\")\n",
        "except Exception as e:\n",
        "    # Mostrar el error si ocurre\n",
        "    print(\"Error al ejecutar las sentencias SQL:\", e)\n",
        "finally:\n",
        "    # Asegurarse de cerrar el cursor y la conexión\n",
        "    cur.close()"
      ],
      "metadata": {
        "colab": {
          "base_uri": "https://localhost:8080/"
        },
        "id": "IEAFOWdKMPCp",
        "outputId": "f5dd3aa6-4e7d-4a38-cf64-503115224810"
      },
      "execution_count": null,
      "outputs": [
        {
          "output_type": "stream",
          "name": "stdout",
          "text": [
            "Datos insertados con éxito.\n"
          ]
        }
      ]
    },
    {
      "cell_type": "code",
      "source": [
        "miConexion = pymysql.connect(host='sql7.freesqldatabase.com', user='sql7752481', password='NzlsfcX4eg', db='sql7752481')\n",
        "cur = miConexion.cursor()\n",
        "\n",
        "#Vamos a eliminar los datos con drop.sql\n",
        "sql_file_path = '/SQL/drop.sql'\n",
        "\n",
        "try:\n",
        "    # Abrir y leer el archivo SQL\n",
        "    with open(sql_file_path, 'r') as file:\n",
        "        sql_script = file.read()\n",
        "\n",
        "    # Ejecutar cada sentencia SQL\n",
        "    for statement in sql_script.split(';'):\n",
        "        if statement.strip():  # Ignorar líneas vacías\n",
        "            cur.execute(statement)\n",
        "\n",
        "    miConexion.commit()  # Confirmar los cambios\n",
        "    print(\"Datos eliminados con éxito.\")\n",
        "except Exception as e:\n",
        "    # Mostrar el error si ocurre\n",
        "    print(\"Error al ejecutar las sentencias SQL:\", e)\n",
        "finally:\n",
        "    # Asegurarse de cerrar el cursor y la conexión\n",
        "    cur.close()\n",
        "    miConexion.close()"
      ],
      "metadata": {
        "colab": {
          "base_uri": "https://localhost:8080/"
        },
        "id": "eoe8LrVvN0Pt",
        "outputId": "f96462e6-b1f3-43d5-f2d6-c1c9bc602798"
      },
      "execution_count": null,
      "outputs": [
        {
          "output_type": "stream",
          "name": "stdout",
          "text": [
            "Error al ejecutar las sentencias SQL: (1051, \"Unknown table 'book_authors'\")\n"
          ]
        }
      ]
    }
  ]
}