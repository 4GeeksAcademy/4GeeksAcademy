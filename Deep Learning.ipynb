{
  "cells": [
    {
      "cell_type": "markdown",
      "metadata": {
        "id": "view-in-github",
        "colab_type": "text"
      },
      "source": [
        "<a href=\"https://colab.research.google.com/github/emilceinfante/4GeeksAcademy/blob/master/Deep%20Learning.ipynb\" target=\"_parent\"><img src=\"https://colab.research.google.com/assets/colab-badge.svg\" alt=\"Open In Colab\"/></a>"
      ]
    },
    {
      "cell_type": "markdown",
      "metadata": {
        "id": "BdgmgJai79wE"
      },
      "source": [
        "## RNA en Python"
      ]
    },
    {
      "cell_type": "markdown",
      "metadata": {
        "id": "3LujFv-c79wK"
      },
      "source": [
        "A continuación veremos cómo podemos implementar RNA (Redes de Neuronas Artificiales) en Python. Para ello, utilizaremos la librería `keras` sobre `tensorflow` (que es lo más común)."
      ]
    },
    {
      "cell_type": "markdown",
      "metadata": {
        "id": "b9gyz2C479wL"
      },
      "source": [
        "### Clasificación de conjuntos de datos textuales\n",
        "\n",
        "Vamos a utilizar el conjunto de datos de inicio de diabetes de los indios Pima. Este es un conjunto de datos de Machine Learning estándar del repositorio de Machine Learning de UCI. Describe los datos de los registros médicos de los pacientes de los indios Pima y si tuvieron un inicio de diabetes dentro de los cinco años."
      ]
    },
    {
      "cell_type": "markdown",
      "metadata": {
        "id": "7QLpIWyB79wM"
      },
      "source": [
        "#### Paso 1. Lectura del conjunto de datos"
      ]
    },
    {
      "cell_type": "code",
      "execution_count": null,
      "metadata": {
        "id": "F3XOgoQw79wN",
        "outputId": "b62b706e-1803-4b6c-f61b-56a61dd704a4",
        "colab": {
          "base_uri": "https://localhost:8080/",
          "height": 206
        }
      },
      "outputs": [
        {
          "output_type": "execute_result",
          "data": {
            "text/plain": [
              "            0         1         2         3         4         5         6  \\\n",
              "60  -0.547919 -1.154694 -3.572597 -1.288212 -0.692891 -4.060474 -0.507006   \n",
              "618  1.530847 -0.278373  0.666618  0.217261 -0.692891 -0.481351  2.446670   \n",
              "346 -0.844885  0.566649 -1.194501 -0.096379  0.027790 -0.417892  0.550035   \n",
              "294 -1.141852  1.255187 -0.987710 -1.288212 -0.692891 -1.280942 -0.658012   \n",
              "231  0.639947  0.410164  0.563223  1.032726  2.519781  1.803195 -0.706334   \n",
              "\n",
              "            7  \n",
              "60  -1.041549  \n",
              "618  1.425995  \n",
              "346 -0.956462  \n",
              "294  2.702312  \n",
              "231  1.085644  "
            ],
            "text/html": [
              "\n",
              "  <div id=\"df-d9d54e5f-00ad-463a-a49a-46c008ae2bd4\" class=\"colab-df-container\">\n",
              "    <div>\n",
              "<style scoped>\n",
              "    .dataframe tbody tr th:only-of-type {\n",
              "        vertical-align: middle;\n",
              "    }\n",
              "\n",
              "    .dataframe tbody tr th {\n",
              "        vertical-align: top;\n",
              "    }\n",
              "\n",
              "    .dataframe thead th {\n",
              "        text-align: right;\n",
              "    }\n",
              "</style>\n",
              "<table border=\"1\" class=\"dataframe\">\n",
              "  <thead>\n",
              "    <tr style=\"text-align: right;\">\n",
              "      <th></th>\n",
              "      <th>0</th>\n",
              "      <th>1</th>\n",
              "      <th>2</th>\n",
              "      <th>3</th>\n",
              "      <th>4</th>\n",
              "      <th>5</th>\n",
              "      <th>6</th>\n",
              "      <th>7</th>\n",
              "    </tr>\n",
              "  </thead>\n",
              "  <tbody>\n",
              "    <tr>\n",
              "      <th>60</th>\n",
              "      <td>-0.547919</td>\n",
              "      <td>-1.154694</td>\n",
              "      <td>-3.572597</td>\n",
              "      <td>-1.288212</td>\n",
              "      <td>-0.692891</td>\n",
              "      <td>-4.060474</td>\n",
              "      <td>-0.507006</td>\n",
              "      <td>-1.041549</td>\n",
              "    </tr>\n",
              "    <tr>\n",
              "      <th>618</th>\n",
              "      <td>1.530847</td>\n",
              "      <td>-0.278373</td>\n",
              "      <td>0.666618</td>\n",
              "      <td>0.217261</td>\n",
              "      <td>-0.692891</td>\n",
              "      <td>-0.481351</td>\n",
              "      <td>2.446670</td>\n",
              "      <td>1.425995</td>\n",
              "    </tr>\n",
              "    <tr>\n",
              "      <th>346</th>\n",
              "      <td>-0.844885</td>\n",
              "      <td>0.566649</td>\n",
              "      <td>-1.194501</td>\n",
              "      <td>-0.096379</td>\n",
              "      <td>0.027790</td>\n",
              "      <td>-0.417892</td>\n",
              "      <td>0.550035</td>\n",
              "      <td>-0.956462</td>\n",
              "    </tr>\n",
              "    <tr>\n",
              "      <th>294</th>\n",
              "      <td>-1.141852</td>\n",
              "      <td>1.255187</td>\n",
              "      <td>-0.987710</td>\n",
              "      <td>-1.288212</td>\n",
              "      <td>-0.692891</td>\n",
              "      <td>-1.280942</td>\n",
              "      <td>-0.658012</td>\n",
              "      <td>2.702312</td>\n",
              "    </tr>\n",
              "    <tr>\n",
              "      <th>231</th>\n",
              "      <td>0.639947</td>\n",
              "      <td>0.410164</td>\n",
              "      <td>0.563223</td>\n",
              "      <td>1.032726</td>\n",
              "      <td>2.519781</td>\n",
              "      <td>1.803195</td>\n",
              "      <td>-0.706334</td>\n",
              "      <td>1.085644</td>\n",
              "    </tr>\n",
              "  </tbody>\n",
              "</table>\n",
              "</div>\n",
              "    <div class=\"colab-df-buttons\">\n",
              "\n",
              "  <div class=\"colab-df-container\">\n",
              "    <button class=\"colab-df-convert\" onclick=\"convertToInteractive('df-d9d54e5f-00ad-463a-a49a-46c008ae2bd4')\"\n",
              "            title=\"Convert this dataframe to an interactive table.\"\n",
              "            style=\"display:none;\">\n",
              "\n",
              "  <svg xmlns=\"http://www.w3.org/2000/svg\" height=\"24px\" viewBox=\"0 -960 960 960\">\n",
              "    <path d=\"M120-120v-720h720v720H120Zm60-500h600v-160H180v160Zm220 220h160v-160H400v160Zm0 220h160v-160H400v160ZM180-400h160v-160H180v160Zm440 0h160v-160H620v160ZM180-180h160v-160H180v160Zm440 0h160v-160H620v160Z\"/>\n",
              "  </svg>\n",
              "    </button>\n",
              "\n",
              "  <style>\n",
              "    .colab-df-container {\n",
              "      display:flex;\n",
              "      gap: 12px;\n",
              "    }\n",
              "\n",
              "    .colab-df-convert {\n",
              "      background-color: #E8F0FE;\n",
              "      border: none;\n",
              "      border-radius: 50%;\n",
              "      cursor: pointer;\n",
              "      display: none;\n",
              "      fill: #1967D2;\n",
              "      height: 32px;\n",
              "      padding: 0 0 0 0;\n",
              "      width: 32px;\n",
              "    }\n",
              "\n",
              "    .colab-df-convert:hover {\n",
              "      background-color: #E2EBFA;\n",
              "      box-shadow: 0px 1px 2px rgba(60, 64, 67, 0.3), 0px 1px 3px 1px rgba(60, 64, 67, 0.15);\n",
              "      fill: #174EA6;\n",
              "    }\n",
              "\n",
              "    .colab-df-buttons div {\n",
              "      margin-bottom: 4px;\n",
              "    }\n",
              "\n",
              "    [theme=dark] .colab-df-convert {\n",
              "      background-color: #3B4455;\n",
              "      fill: #D2E3FC;\n",
              "    }\n",
              "\n",
              "    [theme=dark] .colab-df-convert:hover {\n",
              "      background-color: #434B5C;\n",
              "      box-shadow: 0px 1px 3px 1px rgba(0, 0, 0, 0.15);\n",
              "      filter: drop-shadow(0px 1px 2px rgba(0, 0, 0, 0.3));\n",
              "      fill: #FFFFFF;\n",
              "    }\n",
              "  </style>\n",
              "\n",
              "    <script>\n",
              "      const buttonEl =\n",
              "        document.querySelector('#df-d9d54e5f-00ad-463a-a49a-46c008ae2bd4 button.colab-df-convert');\n",
              "      buttonEl.style.display =\n",
              "        google.colab.kernel.accessAllowed ? 'block' : 'none';\n",
              "\n",
              "      async function convertToInteractive(key) {\n",
              "        const element = document.querySelector('#df-d9d54e5f-00ad-463a-a49a-46c008ae2bd4');\n",
              "        const dataTable =\n",
              "          await google.colab.kernel.invokeFunction('convertToInteractive',\n",
              "                                                    [key], {});\n",
              "        if (!dataTable) return;\n",
              "\n",
              "        const docLinkHtml = 'Like what you see? Visit the ' +\n",
              "          '<a target=\"_blank\" href=https://colab.research.google.com/notebooks/data_table.ipynb>data table notebook</a>'\n",
              "          + ' to learn more about interactive tables.';\n",
              "        element.innerHTML = '';\n",
              "        dataTable['output_type'] = 'display_data';\n",
              "        await google.colab.output.renderOutput(dataTable, element);\n",
              "        const docLink = document.createElement('div');\n",
              "        docLink.innerHTML = docLinkHtml;\n",
              "        element.appendChild(docLink);\n",
              "      }\n",
              "    </script>\n",
              "  </div>\n",
              "\n",
              "\n",
              "<div id=\"df-ffe03ac6-a058-48c2-a914-b0647c4f8354\">\n",
              "  <button class=\"colab-df-quickchart\" onclick=\"quickchart('df-ffe03ac6-a058-48c2-a914-b0647c4f8354')\"\n",
              "            title=\"Suggest charts\"\n",
              "            style=\"display:none;\">\n",
              "\n",
              "<svg xmlns=\"http://www.w3.org/2000/svg\" height=\"24px\"viewBox=\"0 0 24 24\"\n",
              "     width=\"24px\">\n",
              "    <g>\n",
              "        <path d=\"M19 3H5c-1.1 0-2 .9-2 2v14c0 1.1.9 2 2 2h14c1.1 0 2-.9 2-2V5c0-1.1-.9-2-2-2zM9 17H7v-7h2v7zm4 0h-2V7h2v10zm4 0h-2v-4h2v4z\"/>\n",
              "    </g>\n",
              "</svg>\n",
              "  </button>\n",
              "\n",
              "<style>\n",
              "  .colab-df-quickchart {\n",
              "      --bg-color: #E8F0FE;\n",
              "      --fill-color: #1967D2;\n",
              "      --hover-bg-color: #E2EBFA;\n",
              "      --hover-fill-color: #174EA6;\n",
              "      --disabled-fill-color: #AAA;\n",
              "      --disabled-bg-color: #DDD;\n",
              "  }\n",
              "\n",
              "  [theme=dark] .colab-df-quickchart {\n",
              "      --bg-color: #3B4455;\n",
              "      --fill-color: #D2E3FC;\n",
              "      --hover-bg-color: #434B5C;\n",
              "      --hover-fill-color: #FFFFFF;\n",
              "      --disabled-bg-color: #3B4455;\n",
              "      --disabled-fill-color: #666;\n",
              "  }\n",
              "\n",
              "  .colab-df-quickchart {\n",
              "    background-color: var(--bg-color);\n",
              "    border: none;\n",
              "    border-radius: 50%;\n",
              "    cursor: pointer;\n",
              "    display: none;\n",
              "    fill: var(--fill-color);\n",
              "    height: 32px;\n",
              "    padding: 0;\n",
              "    width: 32px;\n",
              "  }\n",
              "\n",
              "  .colab-df-quickchart:hover {\n",
              "    background-color: var(--hover-bg-color);\n",
              "    box-shadow: 0 1px 2px rgba(60, 64, 67, 0.3), 0 1px 3px 1px rgba(60, 64, 67, 0.15);\n",
              "    fill: var(--button-hover-fill-color);\n",
              "  }\n",
              "\n",
              "  .colab-df-quickchart-complete:disabled,\n",
              "  .colab-df-quickchart-complete:disabled:hover {\n",
              "    background-color: var(--disabled-bg-color);\n",
              "    fill: var(--disabled-fill-color);\n",
              "    box-shadow: none;\n",
              "  }\n",
              "\n",
              "  .colab-df-spinner {\n",
              "    border: 2px solid var(--fill-color);\n",
              "    border-color: transparent;\n",
              "    border-bottom-color: var(--fill-color);\n",
              "    animation:\n",
              "      spin 1s steps(1) infinite;\n",
              "  }\n",
              "\n",
              "  @keyframes spin {\n",
              "    0% {\n",
              "      border-color: transparent;\n",
              "      border-bottom-color: var(--fill-color);\n",
              "      border-left-color: var(--fill-color);\n",
              "    }\n",
              "    20% {\n",
              "      border-color: transparent;\n",
              "      border-left-color: var(--fill-color);\n",
              "      border-top-color: var(--fill-color);\n",
              "    }\n",
              "    30% {\n",
              "      border-color: transparent;\n",
              "      border-left-color: var(--fill-color);\n",
              "      border-top-color: var(--fill-color);\n",
              "      border-right-color: var(--fill-color);\n",
              "    }\n",
              "    40% {\n",
              "      border-color: transparent;\n",
              "      border-right-color: var(--fill-color);\n",
              "      border-top-color: var(--fill-color);\n",
              "    }\n",
              "    60% {\n",
              "      border-color: transparent;\n",
              "      border-right-color: var(--fill-color);\n",
              "    }\n",
              "    80% {\n",
              "      border-color: transparent;\n",
              "      border-right-color: var(--fill-color);\n",
              "      border-bottom-color: var(--fill-color);\n",
              "    }\n",
              "    90% {\n",
              "      border-color: transparent;\n",
              "      border-bottom-color: var(--fill-color);\n",
              "    }\n",
              "  }\n",
              "</style>\n",
              "\n",
              "  <script>\n",
              "    async function quickchart(key) {\n",
              "      const quickchartButtonEl =\n",
              "        document.querySelector('#' + key + ' button');\n",
              "      quickchartButtonEl.disabled = true;  // To prevent multiple clicks.\n",
              "      quickchartButtonEl.classList.add('colab-df-spinner');\n",
              "      try {\n",
              "        const charts = await google.colab.kernel.invokeFunction(\n",
              "            'suggestCharts', [key], {});\n",
              "      } catch (error) {\n",
              "        console.error('Error during call to suggestCharts:', error);\n",
              "      }\n",
              "      quickchartButtonEl.classList.remove('colab-df-spinner');\n",
              "      quickchartButtonEl.classList.add('colab-df-quickchart-complete');\n",
              "    }\n",
              "    (() => {\n",
              "      let quickchartButtonEl =\n",
              "        document.querySelector('#df-ffe03ac6-a058-48c2-a914-b0647c4f8354 button');\n",
              "      quickchartButtonEl.style.display =\n",
              "        google.colab.kernel.accessAllowed ? 'block' : 'none';\n",
              "    })();\n",
              "  </script>\n",
              "</div>\n",
              "\n",
              "    </div>\n",
              "  </div>\n"
            ],
            "application/vnd.google.colaboratory.intrinsic+json": {
              "type": "dataframe",
              "variable_name": "X_train",
              "summary": "{\n  \"name\": \"X_train\",\n  \"rows\": 614,\n  \"fields\": [\n    {\n      \"column\": \"0\",\n      \"properties\": {\n        \"dtype\": \"number\",\n        \"std\": 0.983928339924331,\n        \"min\": -1.1418515161634994,\n        \"max\": 3.906578350084603,\n        \"num_unique_values\": 17,\n        \"samples\": [\n          -0.5479185907225461,\n          1.5308466483207903,\n          0.0460143347184071\n        ],\n        \"semantic_type\": \"\",\n        \"description\": \"\"\n      }\n    },\n    {\n      \"column\": \"1\",\n      \"properties\": {\n        \"dtype\": \"number\",\n        \"std\": 1.0026058263234616,\n        \"min\": -3.78365371377963,\n        \"max\": 2.444478206307916,\n        \"num_unique_values\": 133,\n        \"samples\": [\n          -0.9982077796701244,\n          -0.9669106343430512,\n          -1.874527848828171\n        ],\n        \"semantic_type\": \"\",\n        \"description\": \"\"\n      }\n    },\n    {\n      \"column\": \"2\",\n      \"properties\": {\n        \"dtype\": \"number\",\n        \"std\": 0.9570596922227709,\n        \"min\": -3.572597239872642,\n        \"max\": 2.734528247420465,\n        \"num_unique_values\": 44,\n        \"samples\": [\n          -1.0911052448720753,\n          -0.7809187454970045,\n          -0.5741277459136239\n        ],\n        \"semantic_type\": \"\",\n        \"description\": \"\"\n      }\n    },\n    {\n      \"column\": \"3\",\n      \"properties\": {\n        \"dtype\": \"number\",\n        \"std\": 0.9681432943275635,\n        \"min\": -1.2882122129452358,\n        \"max\": 2.6636556358464394,\n        \"num_unique_values\": 47,\n        \"samples\": [\n          0.0290770699853224,\n          -0.410019357658197,\n          1.3463663529158807\n        ],\n        \"semantic_type\": \"\",\n        \"description\": \"\"\n      }\n    },\n    {\n      \"column\": \"4\",\n      \"properties\": {\n        \"dtype\": \"number\",\n        \"std\": 1.0092549778572082,\n        \"min\": -0.6928905722954675,\n        \"max\": 6.65283937836846,\n        \"num_unique_values\": 167,\n        \"samples\": [\n          1.2173465307140643,\n          0.9829083407992584,\n          -0.2674286720797081\n        ],\n        \"semantic_type\": \"\",\n        \"description\": \"\"\n      }\n    },\n    {\n      \"column\": \"5\",\n      \"properties\": {\n        \"dtype\": \"number\",\n        \"std\": 0.9824342934832844,\n        \"min\": -4.060473872668307,\n        \"max\": 4.455807490825071,\n        \"num_unique_values\": 225,\n        \"samples\": [\n          -1.6363162863385974,\n          -0.0117499457616192,\n          0.2547804694892914\n        ],\n        \"semantic_type\": \"\",\n        \"description\": \"\"\n      }\n    },\n    {\n      \"column\": \"6\",\n      \"properties\": {\n        \"dtype\": \"number\",\n        \"std\": 1.017317156703669,\n        \"min\": -1.1895531764897842,\n        \"max\": 5.88356476587794,\n        \"num_unique_values\": 443,\n        \"samples\": [\n          -0.2049944876717318,\n          -0.3922418456678032,\n          -0.6398915772109943\n        ],\n        \"semantic_type\": \"\",\n        \"description\": \"\"\n      }\n    },\n    {\n      \"column\": \"7\",\n      \"properties\": {\n        \"dtype\": \"number\",\n        \"std\": 0.9788015652111306,\n        \"min\": -1.0415494364835025,\n        \"max\": 4.063715751598595,\n        \"num_unique_values\": 52,\n        \"samples\": [\n          0.7452933793452318,\n          1.0005566387493363,\n          1.6812586638269496\n        ],\n        \"semantic_type\": \"\",\n        \"description\": \"\"\n      }\n    }\n  ]\n}"
            }
          },
          "metadata": {},
          "execution_count": 1
        }
      ],
      "source": [
        "import pandas as pd\n",
        "from sklearn.model_selection import train_test_split\n",
        "\n",
        "total_data = pd.read_csv(\"https://raw.githubusercontent.com/4GeeksAcademy/machine-learning-content/master/assets/clean-pima-indians-diabetes.csv\")\n",
        "\n",
        "X = total_data.drop(\"8\", axis = 1)\n",
        "y = total_data[\"8\"]\n",
        "\n",
        "X_train, X_test, y_train, y_test = train_test_split(X, y, test_size = 0.2, random_state = 42)\n",
        "\n",
        "X_train.head()"
      ]
    },
    {
      "cell_type": "code",
      "source": [
        "y_train.head()"
      ],
      "metadata": {
        "colab": {
          "base_uri": "https://localhost:8080/"
        },
        "id": "xsVx0h6U9f0y",
        "outputId": "30fd90b8-eb83-4b04-ae64-efcfcc22427d"
      },
      "execution_count": null,
      "outputs": [
        {
          "output_type": "execute_result",
          "data": {
            "text/plain": [
              "60     0\n",
              "618    1\n",
              "346    0\n",
              "294    0\n",
              "231    1\n",
              "Name: 8, dtype: int64"
            ]
          },
          "metadata": {},
          "execution_count": 2
        }
      ]
    },
    {
      "cell_type": "markdown",
      "metadata": {
        "id": "TqT3BLMy79wP"
      },
      "source": [
        "El conjunto *train* lo utilizaremos para entrenar el modelo, mientras que con el *test* lo evaluaremos para medir su grado de efectividad. Además, generalmente es una buena práctica normalizar los datos antes de entrenar una red neuronal artificial (RNA). Se pueden aplicar dos tipos: de 0 a 1 o de -1 a 1."
      ]
    },
    {
      "cell_type": "markdown",
      "metadata": {
        "id": "IPJz7b1q79wQ"
      },
      "source": [
        "#### Paso 2: Inicialización y entrenamiento del modelo\n",
        "\n",
        "Los modelos en Keras se definen como una secuencia de capas. Creamos un modelo secuencial y agregamos capas una a una hasta que estemos satisfechos con nuestra arquitectura de red.\n",
        "\n",
        "La capa de entrada siempre tendrá tantas neuronas como variables predictoras. En este caso, tenemos un total de 8 (de la 0 a la 7). A continuación, añadimos dos capas ocultas, una de 12 neuronas y otra de 8. Por último, la cuarta capa, de salida, tendrá una única neurona, ya que el problema es dicotómico. Si fuese de `n` clases, la red tendría `n` salidas.\n",
        "\n",
        "> Nota: Hemos creado una red por defecto con capas ocultas y neuronas en cada capa oculta aleatorias. Normalmente se suele empezar así y a continuación hacer una optimización de hiperparámetros."
      ]
    },
    {
      "cell_type": "code",
      "execution_count": null,
      "metadata": {
        "id": "I0-tL8sL79wQ"
      },
      "outputs": [],
      "source": [
        "from tensorflow.keras.layers import Dense\n",
        "from tensorflow.keras.models import Sequential\n",
        "from tensorflow.keras.utils import set_random_seed\n",
        "\n",
        "set_random_seed(42)\n",
        "\n",
        "model = Sequential()\n",
        "model.add(Dense(12, input_shape = (8,), activation = \"relu\"))\n",
        "model.add(Dense(8, activation = \"relu\"))\n",
        "model.add(Dense(1, activation = \"sigmoid\"))"
      ]
    },
    {
      "cell_type": "markdown",
      "metadata": {
        "id": "OlxNIJJV79wR"
      },
      "source": [
        "A continuación, una vez que el modelo está definido, podemos compilarlo. El backend elige automáticamente la mejor manera de representar la red para entrenar y hacer predicciones para ejecutar en su hardware, como CPU o GPU o incluso distribuido.\n",
        "\n",
        "Al compilar, debemos especificar algunas propiedades adicionales requeridas al entrenar la red. Recordemos que entrenar una red significa encontrar el mejor conjunto de pesos para asignar entradas a salidas en nuestro conjunto de datos."
      ]
    },
    {
      "cell_type": "code",
      "execution_count": null,
      "metadata": {
        "id": "vpMCFmoB79wR",
        "outputId": "1f0ccd43-dec8-40d4-b36f-a399d81cca46",
        "colab": {
          "base_uri": "https://localhost:8080/"
        }
      },
      "outputs": [
        {
          "output_type": "execute_result",
          "data": {
            "text/plain": [
              "<keras.src.engine.sequential.Sequential at 0x7a79a2a30d30>"
            ]
          },
          "metadata": {},
          "execution_count": 4
        }
      ],
      "source": [
        "model.compile(loss = \"binary_crossentropy\", optimizer = \"adam\", metrics = [\"accuracy\"])\n",
        "model"
      ]
    },
    {
      "cell_type": "markdown",
      "metadata": {
        "id": "fIOnNpuZ79wS"
      },
      "source": [
        "Definiremos el optimizador conocido como `adam`. Esta es una versión popular del descenso de gradiente porque se sintoniza automáticamente y brinda buenos resultados en una amplia gama de problemas. Recopilaremos e informaremos la precisión de la clasificación, definida a través del argumento de las métricas.\n",
        "\n",
        "El entrenamiento ocurre en **épocas** (*epoch*) y cada época se divide en **lotes** (*batch*).\n",
        "\n",
        "- **Epoch**: Una pasada por todas las filas del conjunto de datos de entrenamiento.\n",
        "- **Batch**: Una o más muestras consideradas por el modelo dentro de una época antes de que se actualicen los pesos.\n",
        "\n",
        "El proceso de entrenamiento se ejecutará durante un número fijo de iteraciones, que son las épocas. También debemos establecer la cantidad de filas del conjunto de datos que se consideran antes de que se actualicen los pesos del modelo dentro de cada época, lo que se denomina tamaño de batch y se establece mediante el argumento `batch_size` (tamaño_lote).\n",
        "\n",
        "Para este problema, ejecutaremos una pequeña cantidad de epochs (150) y usaremos un tamaño de batch relativamente pequeño de 10:"
      ]
    },
    {
      "cell_type": "code",
      "execution_count": null,
      "metadata": {
        "id": "RfG4ATC379wS",
        "outputId": "8eaca371-3218-45a4-94c1-c75ca051f01c",
        "colab": {
          "base_uri": "https://localhost:8080/"
        }
      },
      "outputs": [
        {
          "output_type": "stream",
          "name": "stdout",
          "text": [
            "Epoch 1/150\n",
            "62/62 [==============================] - 1s 2ms/step - loss: 0.7338 - accuracy: 0.4756\n",
            "Epoch 2/150\n",
            "62/62 [==============================] - 0s 2ms/step - loss: 0.6790 - accuracy: 0.6173\n",
            "Epoch 3/150\n",
            "62/62 [==============================] - 0s 2ms/step - loss: 0.6336 - accuracy: 0.6873\n",
            "Epoch 4/150\n",
            "62/62 [==============================] - 0s 2ms/step - loss: 0.5910 - accuracy: 0.7296\n",
            "Epoch 5/150\n",
            "62/62 [==============================] - 0s 2ms/step - loss: 0.5552 - accuracy: 0.7508\n",
            "Epoch 6/150\n",
            "62/62 [==============================] - 0s 2ms/step - loss: 0.5276 - accuracy: 0.7541\n",
            "Epoch 7/150\n",
            "62/62 [==============================] - 0s 2ms/step - loss: 0.5077 - accuracy: 0.7606\n",
            "Epoch 8/150\n",
            "62/62 [==============================] - 0s 2ms/step - loss: 0.4935 - accuracy: 0.7573\n",
            "Epoch 9/150\n",
            "62/62 [==============================] - 0s 2ms/step - loss: 0.4827 - accuracy: 0.7655\n",
            "Epoch 10/150\n",
            "62/62 [==============================] - 0s 2ms/step - loss: 0.4748 - accuracy: 0.7720\n",
            "Epoch 11/150\n",
            "62/62 [==============================] - 0s 2ms/step - loss: 0.4691 - accuracy: 0.7720\n",
            "Epoch 12/150\n",
            "62/62 [==============================] - 0s 2ms/step - loss: 0.4661 - accuracy: 0.7720\n",
            "Epoch 13/150\n",
            "62/62 [==============================] - 0s 2ms/step - loss: 0.4625 - accuracy: 0.7720\n",
            "Epoch 14/150\n",
            "62/62 [==============================] - 0s 2ms/step - loss: 0.4587 - accuracy: 0.7785\n",
            "Epoch 15/150\n",
            "62/62 [==============================] - 0s 2ms/step - loss: 0.4566 - accuracy: 0.7769\n",
            "Epoch 16/150\n",
            "62/62 [==============================] - 0s 2ms/step - loss: 0.4539 - accuracy: 0.7801\n",
            "Epoch 17/150\n",
            "62/62 [==============================] - 0s 2ms/step - loss: 0.4525 - accuracy: 0.7818\n",
            "Epoch 18/150\n",
            "62/62 [==============================] - 0s 2ms/step - loss: 0.4507 - accuracy: 0.7818\n",
            "Epoch 19/150\n",
            "62/62 [==============================] - 0s 2ms/step - loss: 0.4485 - accuracy: 0.7834\n",
            "Epoch 20/150\n",
            "62/62 [==============================] - 0s 2ms/step - loss: 0.4469 - accuracy: 0.7850\n",
            "Epoch 21/150\n",
            "62/62 [==============================] - 0s 2ms/step - loss: 0.4443 - accuracy: 0.7866\n",
            "Epoch 22/150\n",
            "62/62 [==============================] - 0s 2ms/step - loss: 0.4428 - accuracy: 0.7866\n",
            "Epoch 23/150\n",
            "62/62 [==============================] - 0s 2ms/step - loss: 0.4410 - accuracy: 0.7834\n",
            "Epoch 24/150\n",
            "62/62 [==============================] - 0s 4ms/step - loss: 0.4390 - accuracy: 0.7899\n",
            "Epoch 25/150\n",
            "62/62 [==============================] - 0s 4ms/step - loss: 0.4374 - accuracy: 0.7883\n",
            "Epoch 26/150\n",
            "62/62 [==============================] - 0s 4ms/step - loss: 0.4370 - accuracy: 0.7899\n",
            "Epoch 27/150\n",
            "62/62 [==============================] - 0s 3ms/step - loss: 0.4352 - accuracy: 0.7915\n",
            "Epoch 28/150\n",
            "62/62 [==============================] - 0s 3ms/step - loss: 0.4354 - accuracy: 0.7866\n",
            "Epoch 29/150\n",
            "62/62 [==============================] - 0s 3ms/step - loss: 0.4327 - accuracy: 0.7915\n",
            "Epoch 30/150\n",
            "62/62 [==============================] - 0s 3ms/step - loss: 0.4314 - accuracy: 0.7915\n",
            "Epoch 31/150\n",
            "62/62 [==============================] - 0s 3ms/step - loss: 0.4302 - accuracy: 0.7915\n",
            "Epoch 32/150\n",
            "62/62 [==============================] - 0s 3ms/step - loss: 0.4297 - accuracy: 0.7899\n",
            "Epoch 33/150\n",
            "62/62 [==============================] - 0s 2ms/step - loss: 0.4282 - accuracy: 0.7932\n",
            "Epoch 34/150\n",
            "62/62 [==============================] - 0s 3ms/step - loss: 0.4269 - accuracy: 0.7964\n",
            "Epoch 35/150\n",
            "62/62 [==============================] - 0s 3ms/step - loss: 0.4256 - accuracy: 0.8013\n",
            "Epoch 36/150\n",
            "62/62 [==============================] - 0s 3ms/step - loss: 0.4247 - accuracy: 0.8013\n",
            "Epoch 37/150\n",
            "62/62 [==============================] - 0s 3ms/step - loss: 0.4236 - accuracy: 0.7948\n",
            "Epoch 38/150\n",
            "62/62 [==============================] - 0s 2ms/step - loss: 0.4225 - accuracy: 0.7948\n",
            "Epoch 39/150\n",
            "62/62 [==============================] - 0s 2ms/step - loss: 0.4220 - accuracy: 0.7980\n",
            "Epoch 40/150\n",
            "62/62 [==============================] - 0s 3ms/step - loss: 0.4208 - accuracy: 0.7980\n",
            "Epoch 41/150\n",
            "62/62 [==============================] - 0s 4ms/step - loss: 0.4198 - accuracy: 0.7980\n",
            "Epoch 42/150\n",
            "62/62 [==============================] - 0s 3ms/step - loss: 0.4196 - accuracy: 0.8029\n",
            "Epoch 43/150\n",
            "62/62 [==============================] - 0s 2ms/step - loss: 0.4185 - accuracy: 0.8029\n",
            "Epoch 44/150\n",
            "62/62 [==============================] - 0s 2ms/step - loss: 0.4178 - accuracy: 0.7980\n",
            "Epoch 45/150\n",
            "62/62 [==============================] - 0s 2ms/step - loss: 0.4166 - accuracy: 0.7980\n",
            "Epoch 46/150\n",
            "62/62 [==============================] - 0s 2ms/step - loss: 0.4164 - accuracy: 0.7948\n",
            "Epoch 47/150\n",
            "62/62 [==============================] - 0s 2ms/step - loss: 0.4158 - accuracy: 0.7997\n",
            "Epoch 48/150\n",
            "62/62 [==============================] - 0s 2ms/step - loss: 0.4148 - accuracy: 0.7980\n",
            "Epoch 49/150\n",
            "62/62 [==============================] - 0s 2ms/step - loss: 0.4140 - accuracy: 0.8046\n",
            "Epoch 50/150\n",
            "62/62 [==============================] - 0s 2ms/step - loss: 0.4129 - accuracy: 0.8029\n",
            "Epoch 51/150\n",
            "62/62 [==============================] - 0s 2ms/step - loss: 0.4123 - accuracy: 0.7980\n",
            "Epoch 52/150\n",
            "62/62 [==============================] - 0s 2ms/step - loss: 0.4117 - accuracy: 0.8013\n",
            "Epoch 53/150\n",
            "62/62 [==============================] - 0s 2ms/step - loss: 0.4104 - accuracy: 0.8062\n",
            "Epoch 54/150\n",
            "62/62 [==============================] - 0s 2ms/step - loss: 0.4087 - accuracy: 0.8078\n",
            "Epoch 55/150\n",
            "62/62 [==============================] - 0s 2ms/step - loss: 0.4093 - accuracy: 0.8094\n",
            "Epoch 56/150\n",
            "62/62 [==============================] - 0s 2ms/step - loss: 0.4082 - accuracy: 0.8046\n",
            "Epoch 57/150\n",
            "62/62 [==============================] - 0s 2ms/step - loss: 0.4070 - accuracy: 0.8094\n",
            "Epoch 58/150\n",
            "62/62 [==============================] - 0s 2ms/step - loss: 0.4061 - accuracy: 0.8062\n",
            "Epoch 59/150\n",
            "62/62 [==============================] - 0s 2ms/step - loss: 0.4055 - accuracy: 0.8127\n",
            "Epoch 60/150\n",
            "62/62 [==============================] - 0s 2ms/step - loss: 0.4054 - accuracy: 0.8111\n",
            "Epoch 61/150\n",
            "62/62 [==============================] - 0s 2ms/step - loss: 0.4048 - accuracy: 0.8127\n",
            "Epoch 62/150\n",
            "62/62 [==============================] - 0s 3ms/step - loss: 0.4031 - accuracy: 0.8111\n",
            "Epoch 63/150\n",
            "62/62 [==============================] - 0s 2ms/step - loss: 0.4021 - accuracy: 0.8111\n",
            "Epoch 64/150\n",
            "62/62 [==============================] - 0s 2ms/step - loss: 0.4017 - accuracy: 0.8127\n",
            "Epoch 65/150\n",
            "62/62 [==============================] - 0s 2ms/step - loss: 0.4015 - accuracy: 0.8143\n",
            "Epoch 66/150\n",
            "62/62 [==============================] - 0s 2ms/step - loss: 0.4011 - accuracy: 0.8078\n",
            "Epoch 67/150\n",
            "62/62 [==============================] - 0s 2ms/step - loss: 0.3993 - accuracy: 0.8094\n",
            "Epoch 68/150\n",
            "62/62 [==============================] - 0s 2ms/step - loss: 0.3992 - accuracy: 0.8192\n",
            "Epoch 69/150\n",
            "62/62 [==============================] - 0s 2ms/step - loss: 0.3973 - accuracy: 0.8192\n",
            "Epoch 70/150\n",
            "62/62 [==============================] - 0s 2ms/step - loss: 0.3972 - accuracy: 0.8192\n",
            "Epoch 71/150\n",
            "62/62 [==============================] - 0s 2ms/step - loss: 0.3966 - accuracy: 0.8111\n",
            "Epoch 72/150\n",
            "62/62 [==============================] - 0s 2ms/step - loss: 0.3955 - accuracy: 0.8192\n",
            "Epoch 73/150\n",
            "62/62 [==============================] - 0s 2ms/step - loss: 0.3962 - accuracy: 0.8062\n",
            "Epoch 74/150\n",
            "62/62 [==============================] - 0s 2ms/step - loss: 0.3949 - accuracy: 0.8160\n",
            "Epoch 75/150\n",
            "62/62 [==============================] - 0s 2ms/step - loss: 0.3937 - accuracy: 0.8241\n",
            "Epoch 76/150\n",
            "62/62 [==============================] - 0s 2ms/step - loss: 0.3945 - accuracy: 0.8208\n",
            "Epoch 77/150\n",
            "62/62 [==============================] - 0s 2ms/step - loss: 0.3941 - accuracy: 0.8176\n",
            "Epoch 78/150\n",
            "62/62 [==============================] - 0s 2ms/step - loss: 0.3932 - accuracy: 0.8176\n",
            "Epoch 79/150\n",
            "62/62 [==============================] - 0s 2ms/step - loss: 0.3915 - accuracy: 0.8208\n",
            "Epoch 80/150\n",
            "62/62 [==============================] - 0s 2ms/step - loss: 0.3903 - accuracy: 0.8176\n",
            "Epoch 81/150\n",
            "62/62 [==============================] - 0s 2ms/step - loss: 0.3906 - accuracy: 0.8062\n",
            "Epoch 82/150\n",
            "62/62 [==============================] - 0s 2ms/step - loss: 0.3899 - accuracy: 0.8241\n",
            "Epoch 83/150\n",
            "62/62 [==============================] - 0s 2ms/step - loss: 0.3890 - accuracy: 0.8160\n",
            "Epoch 84/150\n",
            "62/62 [==============================] - 0s 2ms/step - loss: 0.3879 - accuracy: 0.8257\n",
            "Epoch 85/150\n",
            "62/62 [==============================] - 0s 2ms/step - loss: 0.3871 - accuracy: 0.8290\n",
            "Epoch 86/150\n",
            "62/62 [==============================] - 0s 2ms/step - loss: 0.3858 - accuracy: 0.8257\n",
            "Epoch 87/150\n",
            "62/62 [==============================] - 0s 2ms/step - loss: 0.3857 - accuracy: 0.8306\n",
            "Epoch 88/150\n",
            "62/62 [==============================] - 0s 2ms/step - loss: 0.3858 - accuracy: 0.8257\n",
            "Epoch 89/150\n",
            "62/62 [==============================] - 0s 2ms/step - loss: 0.3839 - accuracy: 0.8274\n",
            "Epoch 90/150\n",
            "62/62 [==============================] - 0s 2ms/step - loss: 0.3857 - accuracy: 0.8225\n",
            "Epoch 91/150\n",
            "62/62 [==============================] - 0s 2ms/step - loss: 0.3852 - accuracy: 0.8241\n",
            "Epoch 92/150\n",
            "62/62 [==============================] - 0s 2ms/step - loss: 0.3837 - accuracy: 0.8290\n",
            "Epoch 93/150\n",
            "62/62 [==============================] - 0s 2ms/step - loss: 0.3828 - accuracy: 0.8274\n",
            "Epoch 94/150\n",
            "62/62 [==============================] - 0s 2ms/step - loss: 0.3821 - accuracy: 0.8290\n",
            "Epoch 95/150\n",
            "62/62 [==============================] - 0s 2ms/step - loss: 0.3815 - accuracy: 0.8322\n",
            "Epoch 96/150\n",
            "62/62 [==============================] - 0s 2ms/step - loss: 0.3815 - accuracy: 0.8322\n",
            "Epoch 97/150\n",
            "62/62 [==============================] - 0s 2ms/step - loss: 0.3811 - accuracy: 0.8274\n",
            "Epoch 98/150\n",
            "62/62 [==============================] - 0s 2ms/step - loss: 0.3815 - accuracy: 0.8306\n",
            "Epoch 99/150\n",
            "62/62 [==============================] - 0s 2ms/step - loss: 0.3798 - accuracy: 0.8274\n",
            "Epoch 100/150\n",
            "62/62 [==============================] - 0s 2ms/step - loss: 0.3802 - accuracy: 0.8339\n",
            "Epoch 101/150\n",
            "62/62 [==============================] - 0s 2ms/step - loss: 0.3783 - accuracy: 0.8322\n",
            "Epoch 102/150\n",
            "62/62 [==============================] - 0s 2ms/step - loss: 0.3797 - accuracy: 0.8306\n",
            "Epoch 103/150\n",
            "62/62 [==============================] - 0s 2ms/step - loss: 0.3795 - accuracy: 0.8257\n",
            "Epoch 104/150\n",
            "62/62 [==============================] - 0s 2ms/step - loss: 0.3783 - accuracy: 0.8322\n",
            "Epoch 105/150\n",
            "62/62 [==============================] - 0s 2ms/step - loss: 0.3777 - accuracy: 0.8306\n",
            "Epoch 106/150\n",
            "62/62 [==============================] - 0s 2ms/step - loss: 0.3778 - accuracy: 0.8290\n",
            "Epoch 107/150\n",
            "62/62 [==============================] - 0s 2ms/step - loss: 0.3764 - accuracy: 0.8290\n",
            "Epoch 108/150\n",
            "62/62 [==============================] - 0s 2ms/step - loss: 0.3766 - accuracy: 0.8306\n",
            "Epoch 109/150\n",
            "62/62 [==============================] - 0s 2ms/step - loss: 0.3767 - accuracy: 0.8290\n",
            "Epoch 110/150\n",
            "62/62 [==============================] - 0s 2ms/step - loss: 0.3770 - accuracy: 0.8290\n",
            "Epoch 111/150\n",
            "62/62 [==============================] - 0s 2ms/step - loss: 0.3764 - accuracy: 0.8257\n",
            "Epoch 112/150\n",
            "62/62 [==============================] - 0s 2ms/step - loss: 0.3746 - accuracy: 0.8290\n",
            "Epoch 113/150\n",
            "62/62 [==============================] - 0s 2ms/step - loss: 0.3742 - accuracy: 0.8290\n",
            "Epoch 114/150\n",
            "62/62 [==============================] - 0s 2ms/step - loss: 0.3744 - accuracy: 0.8322\n",
            "Epoch 115/150\n",
            "62/62 [==============================] - 0s 2ms/step - loss: 0.3741 - accuracy: 0.8339\n",
            "Epoch 116/150\n",
            "62/62 [==============================] - 0s 2ms/step - loss: 0.3728 - accuracy: 0.8339\n",
            "Epoch 117/150\n",
            "62/62 [==============================] - 0s 2ms/step - loss: 0.3730 - accuracy: 0.8339\n",
            "Epoch 118/150\n",
            "62/62 [==============================] - 0s 2ms/step - loss: 0.3711 - accuracy: 0.8355\n",
            "Epoch 119/150\n",
            "62/62 [==============================] - 0s 2ms/step - loss: 0.3717 - accuracy: 0.8355\n",
            "Epoch 120/150\n",
            "62/62 [==============================] - 0s 2ms/step - loss: 0.3710 - accuracy: 0.8339\n",
            "Epoch 121/150\n",
            "62/62 [==============================] - 0s 2ms/step - loss: 0.3710 - accuracy: 0.8355\n",
            "Epoch 122/150\n",
            "62/62 [==============================] - 0s 3ms/step - loss: 0.3706 - accuracy: 0.8388\n",
            "Epoch 123/150\n",
            "62/62 [==============================] - 0s 3ms/step - loss: 0.3695 - accuracy: 0.8371\n",
            "Epoch 124/150\n",
            "62/62 [==============================] - 0s 3ms/step - loss: 0.3711 - accuracy: 0.8388\n",
            "Epoch 125/150\n",
            "62/62 [==============================] - 0s 3ms/step - loss: 0.3698 - accuracy: 0.8355\n",
            "Epoch 126/150\n",
            "62/62 [==============================] - 0s 3ms/step - loss: 0.3683 - accuracy: 0.8339\n",
            "Epoch 127/150\n",
            "62/62 [==============================] - 0s 3ms/step - loss: 0.3675 - accuracy: 0.8388\n",
            "Epoch 128/150\n",
            "62/62 [==============================] - 0s 3ms/step - loss: 0.3689 - accuracy: 0.8371\n",
            "Epoch 129/150\n",
            "62/62 [==============================] - 0s 3ms/step - loss: 0.3675 - accuracy: 0.8339\n",
            "Epoch 130/150\n",
            "62/62 [==============================] - 0s 3ms/step - loss: 0.3664 - accuracy: 0.8339\n",
            "Epoch 131/150\n",
            "62/62 [==============================] - 0s 3ms/step - loss: 0.3663 - accuracy: 0.8355\n",
            "Epoch 132/150\n",
            "62/62 [==============================] - 0s 3ms/step - loss: 0.3658 - accuracy: 0.8274\n",
            "Epoch 133/150\n",
            "62/62 [==============================] - 0s 3ms/step - loss: 0.3663 - accuracy: 0.8371\n",
            "Epoch 134/150\n",
            "62/62 [==============================] - 0s 4ms/step - loss: 0.3674 - accuracy: 0.8355\n",
            "Epoch 135/150\n",
            "62/62 [==============================] - 0s 2ms/step - loss: 0.3645 - accuracy: 0.8420\n",
            "Epoch 136/150\n",
            "62/62 [==============================] - 0s 3ms/step - loss: 0.3643 - accuracy: 0.8355\n",
            "Epoch 137/150\n",
            "62/62 [==============================] - 0s 3ms/step - loss: 0.3646 - accuracy: 0.8339\n",
            "Epoch 138/150\n",
            "62/62 [==============================] - 0s 3ms/step - loss: 0.3642 - accuracy: 0.8355\n",
            "Epoch 139/150\n",
            "62/62 [==============================] - 0s 3ms/step - loss: 0.3636 - accuracy: 0.8388\n",
            "Epoch 140/150\n",
            "62/62 [==============================] - 0s 3ms/step - loss: 0.3630 - accuracy: 0.8371\n",
            "Epoch 141/150\n",
            "62/62 [==============================] - 0s 3ms/step - loss: 0.3640 - accuracy: 0.8322\n",
            "Epoch 142/150\n",
            "62/62 [==============================] - 0s 2ms/step - loss: 0.3619 - accuracy: 0.8371\n",
            "Epoch 143/150\n",
            "62/62 [==============================] - 0s 2ms/step - loss: 0.3606 - accuracy: 0.8355\n",
            "Epoch 144/150\n",
            "62/62 [==============================] - 0s 2ms/step - loss: 0.3610 - accuracy: 0.8371\n",
            "Epoch 145/150\n",
            "62/62 [==============================] - 0s 2ms/step - loss: 0.3609 - accuracy: 0.8404\n",
            "Epoch 146/150\n",
            "62/62 [==============================] - 0s 3ms/step - loss: 0.3626 - accuracy: 0.8355\n",
            "Epoch 147/150\n",
            "62/62 [==============================] - 0s 2ms/step - loss: 0.3615 - accuracy: 0.8355\n",
            "Epoch 148/150\n",
            "62/62 [==============================] - 0s 2ms/step - loss: 0.3584 - accuracy: 0.8420\n",
            "Epoch 149/150\n",
            "62/62 [==============================] - 0s 2ms/step - loss: 0.3592 - accuracy: 0.8371\n",
            "Epoch 150/150\n",
            "62/62 [==============================] - 0s 2ms/step - loss: 0.3576 - accuracy: 0.8420\n"
          ]
        },
        {
          "output_type": "execute_result",
          "data": {
            "text/plain": [
              "<keras.src.callbacks.History at 0x7a79a1c74610>"
            ]
          },
          "metadata": {},
          "execution_count": 5
        }
      ],
      "source": [
        "# Ajustar el modelo de keras en el conjunto de datos\n",
        "model.fit(X_train, y_train, epochs = 150, batch_size = 10)"
      ]
    },
    {
      "cell_type": "code",
      "execution_count": null,
      "metadata": {
        "id": "PLtMoNVi79wS",
        "outputId": "20c5e7c2-e230-43b8-ea9b-19f636af0887",
        "colab": {
          "base_uri": "https://localhost:8080/"
        }
      },
      "outputs": [
        {
          "output_type": "stream",
          "name": "stdout",
          "text": [
            "20/20 [==============================] - 0s 2ms/step - loss: 0.3535 - accuracy: 0.8420\n",
            "Accuracy: 0.8420195579528809\n"
          ]
        }
      ],
      "source": [
        "_, accuracy = model.evaluate(X_train, y_train)\n",
        "\n",
        "print(f\"Accuracy: {accuracy}\")"
      ]
    },
    {
      "cell_type": "markdown",
      "metadata": {
        "id": "lN6kY5da79wT"
      },
      "source": [
        "El tiempo de entrenamiento de un modelo dependerá, en primer lugar, del tamaño del conjunto de datos (instancias y características), y también de la tipología de modelo y su configuración.\n",
        "\n",
        "El accuracy del conjunto de entrenamiento es de un `84,20%`.\n",
        "\n",
        "#### Paso 3: Predicción del modelo"
      ]
    },
    {
      "cell_type": "code",
      "execution_count": null,
      "metadata": {
        "id": "53jhY68C79wT",
        "outputId": "5b2d7e84-3d18-4c1b-a6ea-2c98a1c999e1",
        "colab": {
          "base_uri": "https://localhost:8080/"
        }
      },
      "outputs": [
        {
          "output_type": "stream",
          "name": "stdout",
          "text": [
            "5/5 [==============================] - 0s 3ms/step\n"
          ]
        },
        {
          "output_type": "execute_result",
          "data": {
            "text/plain": [
              "array([[2.6933828e-01],\n",
              "       [5.7993677e-02],\n",
              "       [7.6992765e-02],\n",
              "       [4.8524171e-01],\n",
              "       [3.1675655e-01],\n",
              "       [6.4265615e-01],\n",
              "       [7.3388155e-04],\n",
              "       [2.8476578e-01],\n",
              "       [8.7694836e-01],\n",
              "       [4.1469657e-01],\n",
              "       [1.6080236e-01],\n",
              "       [8.2213789e-01],\n",
              "       [2.1518065e-01],\n",
              "       [5.3527534e-01],\n",
              "       [1.2730686e-01]], dtype=float32)"
            ]
          },
          "metadata": {},
          "execution_count": 7
        }
      ],
      "source": [
        "y_pred = model.predict(X_test)\n",
        "y_pred[:15]"
      ]
    },
    {
      "cell_type": "markdown",
      "metadata": {
        "id": "u8_LCk-y79wT"
      },
      "source": [
        "Como vemos, el modelo no devuelve las clases `0` y `1` directamente, sino que requiere de un preprocesamiento previo:"
      ]
    },
    {
      "cell_type": "code",
      "source": [
        "round(8.8684982e-01)"
      ],
      "metadata": {
        "colab": {
          "base_uri": "https://localhost:8080/"
        },
        "id": "_Hq3VO0-Iwr6",
        "outputId": "fa75beae-df8a-45aa-b075-ac311a98902e"
      },
      "execution_count": null,
      "outputs": [
        {
          "output_type": "execute_result",
          "data": {
            "text/plain": [
              "1"
            ]
          },
          "metadata": {},
          "execution_count": 8
        }
      ]
    },
    {
      "cell_type": "code",
      "source": [
        "8.8684982e-01"
      ],
      "metadata": {
        "colab": {
          "base_uri": "https://localhost:8080/"
        },
        "id": "oVRUoDzhI5_N",
        "outputId": "a652575d-770e-4bdd-c274-bf0cbfafe637"
      },
      "execution_count": null,
      "outputs": [
        {
          "output_type": "execute_result",
          "data": {
            "text/plain": [
              "0.88684982"
            ]
          },
          "metadata": {},
          "execution_count": 9
        }
      ]
    },
    {
      "cell_type": "code",
      "execution_count": null,
      "metadata": {
        "id": "Zb5Jwg3J79wT",
        "outputId": "da989cd7-469b-4088-9bd2-3aede5b5d716",
        "colab": {
          "base_uri": "https://localhost:8080/"
        }
      },
      "outputs": [
        {
          "output_type": "execute_result",
          "data": {
            "text/plain": [
              "[0, 0, 0, 0, 0, 1, 0, 0, 1, 0, 0, 1, 0, 1, 0]"
            ]
          },
          "metadata": {},
          "execution_count": 10
        }
      ],
      "source": [
        "y_pred_round = [round(x[0]) for x in y_pred]\n",
        "y_pred_round[:15]"
      ]
    },
    {
      "cell_type": "markdown",
      "metadata": {
        "id": "pTMsqk6279wU"
      },
      "source": [
        "Con los datos en crudo es muy complicado saber si el modelo está acertando o no. Para ello, debemos compararlo con la realidad. Existe una gran cantidad de métricas para medir la efectividad de un modelo a la hora de predecir, entre ellas la **precisión** (*accuracy*), que es la fracción de predicciones que el modelo realizó correctamente."
      ]
    },
    {
      "cell_type": "code",
      "execution_count": null,
      "metadata": {
        "id": "fYDCjO0q79wU",
        "outputId": "0052e3a5-8cb8-439e-c6d1-cde600cbcfb1",
        "colab": {
          "base_uri": "https://localhost:8080/"
        }
      },
      "outputs": [
        {
          "output_type": "execute_result",
          "data": {
            "text/plain": [
              "0.7272727272727273"
            ]
          },
          "metadata": {},
          "execution_count": 11
        }
      ],
      "source": [
        "from sklearn.metrics import accuracy_score\n",
        "\n",
        "accuracy_score(y_test, y_pred_round)"
      ]
    },
    {
      "cell_type": "markdown",
      "metadata": {
        "id": "GH2Wimsj79wU"
      },
      "source": [
        "#### Paso 4: Guardado del modelo\n",
        "\n",
        "Una vez tenemos el modelo que estábamos buscando (presumiblemente tras la optimización de hiperparámetros), para poder utilizarlo a futuro es necesario almacenarlo en nuestro directorio."
      ]
    },
    {
      "cell_type": "code",
      "execution_count": null,
      "metadata": {
        "id": "af1-sdPT79wU"
      },
      "outputs": [],
      "source": [
        "model.save(\"keras_8-12-8-1_42.keras\")"
      ]
    },
    {
      "cell_type": "markdown",
      "metadata": {
        "id": "aHzPXxRq79wV"
      },
      "source": [
        "Añadir un nombre explicativo al modelo es vital, ya que en el caso de perder el código que lo ha generado sabremos qué arquitectura tiene (en este caso decimos `8-12-8-1` porque tiene 8 neuronas en la capa de entrada, 12 y 8 en las dos capas ocultas y una neurona en la capa de salida) y además la semilla para replicar los componentes aleatorios del modelo, que en este caso lo hacemos añadiendo un número al nombre del archivo, el `42`."
      ]
    },
    {
      "cell_type": "markdown",
      "metadata": {
        "id": "rX4lc_dL79wV"
      },
      "source": [
        "### Clasificación de conjuntos de imágenes\n",
        "\n",
        "A continuación se muestra un ejemplo simple de cómo entrenar una red neuronal para clasificar imágenes del dataset MNIST. MNIST es un conjunto de datos de imágenes de dígitos escritos a mano, desde 0 hasta 9."
      ]
    },
    {
      "cell_type": "markdown",
      "metadata": {
        "id": "faSeSAl279wV"
      },
      "source": [
        "#### Paso 1. Lectura del conjunto de datos"
      ]
    },
    {
      "cell_type": "code",
      "execution_count": null,
      "metadata": {
        "id": "7gkSIJ6D79wV"
      },
      "outputs": [],
      "source": [
        "from tensorflow.keras.datasets import mnist\n",
        "\n",
        "(X_train, y_train), (X_test, y_test) = mnist.load_data()\n",
        "\n",
        "# Normalizar los datos (transformamos los valores de los píxeles de 0-255 a 0-1)\n",
        "X_train, X_test = X_train / 255.0, X_test / 255.0"
      ]
    },
    {
      "cell_type": "markdown",
      "metadata": {
        "id": "SH2wtjSG79wW"
      },
      "source": [
        "Los valores de los píxeles de las imágenes se normalizan para que estén en el rango de 0 a 1 en lugar de 0 a 255."
      ]
    },
    {
      "cell_type": "code",
      "source": [
        "## Importar liberia matplot...\n",
        "import matplotlib.pyplot as plt\n",
        "\n",
        "plt.figure(figsize=(10, 10))\n",
        "for i in range(25):\n",
        "    plt.subplot(5, 5, i + 1)\n",
        "    plt.imshow(X_train[i], cmap='gray')\n",
        "    plt.title(y_train[i])\n",
        "    plt.xticks([])\n",
        "    plt.yticks([])\n",
        "plt.show()"
      ],
      "metadata": {
        "colab": {
          "base_uri": "https://localhost:8080/",
          "height": 829
        },
        "id": "AeQf63MvSubV",
        "outputId": "2868e4ba-b87b-4525-87e8-95d7e3175c72"
      },
      "execution_count": null,
      "outputs": [
        {
          "output_type": "display_data",
          "data": {
            "text/plain": [
              "<Figure size 1000x1000 with 25 Axes>"
            ],
            "image/png": "[encoded data removed]"
          },
          "metadata": {}
        }
      ]
    },
    {
      "cell_type": "markdown",
      "metadata": {
        "id": "T3KLajOv79wW"
      },
      "source": [
        "#### Paso 2: Inicialización y entrenamiento del modelo\n",
        "\n",
        "Se define la arquitectura de la red neuronal. En este caso, estamos utilizando un modelo secuencial simple con una capa de aplanamiento que transforma las imágenes 2D en vectores 1D, una capa densa con 128 neuronas y una capa de salida con 10 neuronas.\n",
        "\n",
        "A continuación se proporciona una forma alternativa a la anterior para crear una RNA. Ambas son válidas:"
      ]
    },
    {
      "cell_type": "code",
      "execution_count": null,
      "metadata": {
        "id": "moZ-Vp7779wW"
      },
      "outputs": [],
      "source": [
        "from tensorflow.keras.layers import Dense, Flatten\n",
        "from tensorflow.keras.models import Sequential\n",
        "from tensorflow.keras.utils import set_random_seed\n",
        "\n",
        "set_random_seed(42)\n",
        "\n",
        "model = Sequential([\n",
        "  # Capa que aplana la imagen de entrada de 28x28 píxeles a un vector de 784 elementos\n",
        "  Flatten(input_shape = (28, 28)),\n",
        "  # Capa oculta densa con 128 neuronas y función de activación ReLU\n",
        "  Dense(128, activation = \"relu\"),\n",
        "  # Capa de salida con 10 neuronas (una para cada dígito del 0 al 9)\n",
        "  Dense(10)\n",
        "])"
      ]
    },
    {
      "cell_type": "markdown",
      "metadata": {
        "id": "K5AOy7hi79wW"
      },
      "source": [
        "También añadimos el compilador de la red para definir el optimizador y la función de pérdida, como hicimos anteriormente:"
      ]
    },
    {
      "cell_type": "code",
      "execution_count": null,
      "metadata": {
        "id": "nzN_wTCk79wX"
      },
      "outputs": [],
      "source": [
        "from tensorflow.keras.losses import SparseCategoricalCrossentropy\n",
        "\n",
        "model.compile(optimizer = \"adam\", loss = SparseCategoricalCrossentropy(from_logits = True), metrics = [\"accuracy\"])"
      ]
    },
    {
      "cell_type": "markdown",
      "metadata": {
        "id": "GXuJNoxK79wX"
      },
      "source": [
        "Se entrena el modelo en el conjunto de entrenamiento durante un cierto número de épocas. Cuando se trabaja con imágenes es menos común utilizar el parámetro del `batch_size`:"
      ]
    },
    {
      "cell_type": "code",
      "execution_count": null,
      "metadata": {
        "id": "mzrYOka579wX",
        "outputId": "41a0bd51-4b2b-47cf-9794-5fd58c067de6",
        "colab": {
          "base_uri": "https://localhost:8080/"
        }
      },
      "outputs": [
        {
          "output_type": "stream",
          "name": "stdout",
          "text": [
            "Epoch 1/5\n",
            "1875/1875 [==============================] - 7s 4ms/step - loss: 0.2530 - accuracy: 0.9276\n",
            "Epoch 2/5\n",
            "1875/1875 [==============================] - 7s 4ms/step - loss: 0.1110 - accuracy: 0.9675\n",
            "Epoch 3/5\n",
            "1875/1875 [==============================] - 7s 4ms/step - loss: 0.0761 - accuracy: 0.9760\n",
            "Epoch 4/5\n",
            "1875/1875 [==============================] - 6s 3ms/step - loss: 0.0566 - accuracy: 0.9829\n",
            "Epoch 5/5\n",
            "1875/1875 [==============================] - 7s 4ms/step - loss: 0.0434 - accuracy: 0.9864\n"
          ]
        },
        {
          "output_type": "execute_result",
          "data": {
            "text/plain": [
              "<keras.src.callbacks.History at 0x7a79916983d0>"
            ]
          },
          "metadata": {},
          "execution_count": 24
        }
      ],
      "source": [
        "model.fit(X_train, y_train, epochs = 5)"
      ]
    },
    {
      "cell_type": "code",
      "execution_count": null,
      "metadata": {
        "id": "fQg-iVcZ79wX",
        "outputId": "ff3ce44e-3021-4ca8-c498-17b3c1f17b03",
        "colab": {
          "base_uri": "https://localhost:8080/"
        }
      },
      "outputs": [
        {
          "output_type": "stream",
          "name": "stdout",
          "text": [
            "1875/1875 [==============================] - 3s 2ms/step - loss: 0.0445 - accuracy: 0.9856\n",
            "Accuracy: 0.9855666756629944\n"
          ]
        }
      ],
      "source": [
        "_, accuracy = model.evaluate(X_train, y_train)\n",
        "\n",
        "print(f\"Accuracy: {accuracy}\")"
      ]
    },
    {
      "cell_type": "markdown",
      "metadata": {
        "id": "qiVEWqFq79wY"
      },
      "source": [
        "El tiempo de entrenamiento de un modelo dependerá, en primer lugar, del tamaño del conjunto de datos (instancias y características), y también de la tipología de modelo y su configuración.\n",
        "\n",
        "#### Paso 3: Predicción del modelo"
      ]
    },
    {
      "cell_type": "code",
      "execution_count": null,
      "metadata": {
        "id": "HW18H39m79wY",
        "outputId": "a3fd4773-e49e-48e0-9624-36626fb2aafc",
        "colab": {
          "base_uri": "https://localhost:8080/"
        }
      },
      "outputs": [
        {
          "output_type": "stream",
          "name": "stdout",
          "text": [
            "313/313 - 1s - loss: 0.0848 - accuracy: 0.9742 - 562ms/epoch - 2ms/step\n",
            "\n",
            "Test accuracy: 0.9742000102996826\n"
          ]
        }
      ],
      "source": [
        "test_loss, test_acc = model.evaluate(X_test,  y_test, verbose=2)\n",
        "\n",
        "print('\\nTest accuracy:', test_acc)"
      ]
    },
    {
      "cell_type": "code",
      "source": [
        "y_pred = model.predict(X_test)\n",
        "y_pred[:5]"
      ],
      "metadata": {
        "colab": {
          "base_uri": "https://localhost:8080/"
        },
        "id": "KENpqrjKa2Ix",
        "outputId": "61c4e722-d2ee-4c4f-af9a-a976bb1f2c5c"
      },
      "execution_count": null,
      "outputs": [
        {
          "output_type": "stream",
          "name": "stdout",
          "text": [
            "313/313 [==============================] - 1s 1ms/step\n"
          ]
        },
        {
          "output_type": "execute_result",
          "data": {
            "text/plain": [
              "array([[ -7.250096  , -11.270219  ,  -0.2829588 ,   0.7783994 ,\n",
              "        -14.667619  ,  -2.7967975 , -15.333657  ,  11.517436  ,\n",
              "         -3.2836301 ,  -2.4018035 ],\n",
              "       [ -5.157448  ,   2.6499038 ,  14.9263    ,  -0.56172967,\n",
              "        -23.658098  ,  -2.5947423 ,  -3.5422313 , -13.337622  ,\n",
              "         -2.4322865 , -12.6581335 ],\n",
              "       [ -6.569376  ,   4.610853  ,  -2.0725067 ,  -6.4740553 ,\n",
              "         -4.124379  ,  -6.7256823 ,  -5.9443965 ,  -0.96518826,\n",
              "         -1.7405214 ,  -6.3972516 ],\n",
              "       [  7.7571826 ,  -8.442889  ,  -0.2444451 , -11.833886  ,\n",
              "        -10.960689  ,  -3.8290703 ,  -3.2302015 ,  -2.691067  ,\n",
              "        -11.709285  ,  -3.983117  ],\n",
              "       [ -5.1470575 , -12.162407  ,  -4.0350437 ,  -8.137067  ,\n",
              "          9.28965   ,  -7.0715623 ,  -4.355254  ,  -0.85851634,\n",
              "         -4.1321235 ,   2.9564862 ]], dtype=float32)"
            ]
          },
          "metadata": {},
          "execution_count": 28
        }
      ]
    },
    {
      "cell_type": "markdown",
      "metadata": {
        "id": "w5vV-sKU79wZ"
      },
      "source": [
        "#### Paso 4: Guardado del modelo\n",
        "\n",
        "Una vez tenemos el modelo que estábamos buscando (presumiblemente tras la optimización de hiperparámetros), para poder utilizarlo a futuro es necesario almacenarlo en nuestro directorio."
      ]
    },
    {
      "cell_type": "code",
      "execution_count": null,
      "metadata": {
        "id": "Y_YGXCVk79wZ"
      },
      "outputs": [],
      "source": [
        "model.save(\"keras_28x28-128-10_42.keras\")"
      ]
    },
    {
      "cell_type": "markdown",
      "metadata": {
        "id": "3cmLJ-GX79wZ"
      },
      "source": [
        "Añadir un nombre explicativo al modelo es vital, ya que en el caso de perder el código que lo ha generado sabremos qué arquitectura tiene (en este caso ponemos `28x28-128-10` porque tiene una capa de entrada de 28 x 28 píxeles, 128 neuronas en la única capa oculta que tiene y 10 neuronas en la capa de salida) y además la semilla para replicar los componentes aleatorios del modelo, que en este caso lo hacemos añadiendo un número al nombre del archivo, el `42`."
      ]
    }
  ],
  "metadata": {
    "kernelspec": {
      "display_name": "Python 3.8.13 64-bit ('3.8.13')",
      "language": "python",
      "name": "python3"
    },
    "language_info": {
      "codemirror_mode": {
        "name": "ipython",
        "version": 3
      },
      "file_extension": ".py",
      "mimetype": "text/x-python",
      "name": "python",
      "nbconvert_exporter": "python",
      "pygments_lexer": "ipython3",
      "version": "3.11.4"
    },
    "orig_nbformat": 4,
    "vscode": {
      "interpreter": {
        "hash": "110cc1dee26208153f2972f08a2ad52b6a56238dc66d48e87fb757ef2996db56"
      }
    },
    "colab": {
      "provenance": [],
      "include_colab_link": true
    }
  },
  "nbformat": 4,
  "nbformat_minor": 0
}