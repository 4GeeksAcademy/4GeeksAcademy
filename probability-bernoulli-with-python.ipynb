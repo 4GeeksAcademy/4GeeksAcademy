{
  "cells": [
    {
      "cell_type": "markdown",
      "metadata": {
        "id": "nh__WW5eAGue"
      },
      "source": [
        "# Introduction to Probability\n",
        "\n",
        "*The probability of an event is a number between 0 and 1, where, roughly speaking, 0 indicates the impossibility of the event and 1 indicates certainty. The higher the probability of an event, the more likely it is that the event will occur. A simple example is the tossing of a fair (unbiased) coin. Since the coin is fair, the two outcomes (\"heads\" and \"tails\") are both equally probable; the probability of \"heads\" equals the probability of \"tails\"; and since no other outcomes are possible, the probability of either \"heads\" or \"tails\" is 1/2 (which could also be written as 0.5 or 50%).* --- [Source](https://en.wikipedia.org/wiki/Probability)"
      ]
    },
    {
      "cell_type": "code",
      "execution_count": null,
      "metadata": {
        "id": "EuF3SZnUAGue"
      },
      "outputs": [],
      "source": [
        "import matplotlib.pyplot as plt\n",
        "import numpy as np\n",
        "import pandas as pd"
      ]
    },
    {
      "cell_type": "markdown",
      "metadata": {
        "id": "LlAJdHFgAGue"
      },
      "source": [
        "## Example: Tossing Coins\n",
        "\n",
        "Consider the example of tossing a fair coin as the ground for our vocabulary and symbols. We will say the probability of getting a head is the total number of ways for this event to happen divided by the number of all possible outcomes.\n",
        "\n",
        "**EXAMPLE I**: A Fair Coin\n",
        "\n",
        "With one fair coin, we have either heads or tails. The outcome of interest is either heads or tails. We would say the probability of each is $\\frac{1}{2}$:\n",
        "\n",
        "$$P(\\text{head}) = \\frac{1}{2} \\quad P(\\text{tails}) = \\frac{1}{2}$$\n",
        "\n",
        "Note that these probabilities sum to 1."
      ]
    },
    {
      "cell_type": "markdown",
      "metadata": {
        "id": "n-h85_v3AGue"
      },
      "source": [
        "**EXAMPLE II**: An Unfair Coin\n",
        "\n",
        "An example of an unfair coin would be anything that does not have equal probability.  For example:\n",
        "\n",
        "$$P(\\text{head}) = \\frac{6}{10} \\quad P(\\text{tails}) = \\frac{4}{10}$$"
      ]
    },
    {
      "cell_type": "code",
      "execution_count": null,
      "metadata": {
        "colab": {
          "base_uri": "https://localhost:8080/",
          "height": 333
        },
        "id": "qpjlVffZAGue",
        "outputId": "a0ce31d8-365d-4cb9-c67d-9aa812661ae3"
      },
      "outputs": [
        {
          "data": {
            "image/png": "[encoded data removed]",
            "text/plain": [
              "<Figure size 1440x360 with 2 Axes>"
            ]
          },
          "metadata": {
            "needs_background": "light",
            "tags": []
          },
          "output_type": "display_data"
        }
      ],
      "source": [
        "import scipy.stats as stats\n",
        "fig, ax = plt.subplots(1, 2, figsize = (20, 5))\n",
        "fair_coin = stats.bernoulli(.5).pmf([0, 1])\n",
        "ax[0].bar(['heads', 'tails'], fair_coin, color=['gray', 'white'], edgecolor = 'black')\n",
        "ax[0].set_title('Probabilities for a Fair Coin');\n",
        "\n",
        "unfair_coin = stats.bernoulli(.4).pmf([0, 1])\n",
        "ax[1].bar(['heads', 'tails'], unfair_coin, color = ['gray', 'white'], edgecolor = 'black')\n",
        "ax[1].set_title('Probabilities for an Unfair Coin');"
      ]
    },
    {
      "cell_type": "markdown",
      "metadata": {
        "id": "Bj3lEIqSAGuf"
      },
      "source": [
        "### Probability Mass Function\n",
        "\n",
        "We can describe this kind of event as a function. Specifically, a situation in which there are two possible outcomes with a probability attached to each. This is called a *Bernoulli* distribution, and the functional form is:\n",
        "\n",
        "$$f(k;p)=pk+(1-p)(1-k)\\quad {\\text{for }}k\\in \\{0,1\\}$$"
      ]
    },
    {
      "cell_type": "markdown",
      "metadata": {
        "id": "tyEv6UmsAGuf"
      },
      "source": [
        "In our example of an unfair coin, if we consider heads as 0 and tails as 1 ($k$), we would have:\n",
        "\n",
        "$$f(0, .4) = .4*0 + (1 - .4)(1 - 0)$$"
      ]
    },
    {
      "cell_type": "markdown",
      "metadata": {
        "id": "THV-KaywAGuf"
      },
      "source": [
        "Which equals 0.6. Similarly, the probability of a tails ($k = 0$):\n",
        "\n",
        "$$f(1, .4) = .4 * 1 + (1 - 1)(1 - 1)$$\n",
        "\n",
        "Which equals 0.4"
      ]
    },
    {
      "cell_type": "code",
      "execution_count": null,
      "metadata": {
        "id": "19KM3ng6AGug"
      },
      "outputs": [],
      "source": [
        "def bernoulli(k, p):\n",
        "    return p*k + (1-p)*(1 - k)"
      ]
    },
    {
      "cell_type": "code",
      "execution_count": null,
      "metadata": {
        "colab": {
          "base_uri": "https://localhost:8080/"
        },
        "id": "qTUJ-D5yAGug",
        "outputId": "131e3fc5-2539-4e25-f381-ffc61d098f03"
      },
      "outputs": [
        {
          "data": {
            "text/plain": [
              "0.6"
            ]
          },
          "execution_count": 24,
          "metadata": {
            "tags": []
          },
          "output_type": "execute_result"
        }
      ],
      "source": [
        "bernoulli(0, 0.4)"
      ]
    },
    {
      "cell_type": "code",
      "execution_count": null,
      "metadata": {
        "colab": {
          "base_uri": "https://localhost:8080/"
        },
        "id": "MymmHDp6AGug",
        "outputId": "6bd809e7-bee1-4361-8f31-7a176e583de3"
      },
      "outputs": [
        {
          "data": {
            "text/plain": [
              "0.4"
            ]
          },
          "execution_count": 25,
          "metadata": {
            "tags": []
          },
          "output_type": "execute_result"
        }
      ],
      "source": [
        "bernoulli(1, 0.4)"
      ]
    },
    {
      "cell_type": "code",
      "source": [
        "1 # Exercise 1\n",
        "probability_red = 8/11\n",
        "\n",
        "\n",
        "def bernoulli(k, p):\n",
        "    return p*k + (1-p)*(1-k)\n",
        "\n",
        "print(f' The probability of choosing a red ball is {bernoulli(1, 8/11)}')\n",
        "print(f' The probability of choosing a blue ball is {bernoulli(1, 3/11)}')"
      ],
      "metadata": {
        "colab": {
          "base_uri": "https://localhost:8080/"
        },
        "id": "64ApM0e9d5y3",
        "outputId": "dd16ff95-e492-4959-a0ff-26fc0cb12d19"
      },
      "execution_count": 5,
      "outputs": [
        {
          "output_type": "stream",
          "name": "stdout",
          "text": [
            " The probability of choosing a red ball is 0.7272727272727273\n",
            " The probability of choosing a blue ball is 0.2727272727272727\n"
          ]
        }
      ]
    },
    {
      "cell_type": "code",
      "source": [
        "#exercise 2\n",
        "import numpy as np\n",
        "import math\n",
        "probability_red = 3/13\n",
        "\n",
        "def bornoulli(k,p):\n",
        "    return p*k + (1-p)*(1-k)\n",
        "\n",
        "\n",
        "def combinations(n,r):\n",
        "    return math.factorial(n)/(math.factorial(r)* math.factorial(n-r))\n",
        "\n",
        "print(f'The probability of selecting a red is {bernoulli(1, 4/13)}')\n",
        "print(f'The probability of selecting a yellow is {bernoulli(1, 7/13)}')\n",
        "print(f'The probability of selecting a red is {bernoulli(1, 2/13)}')\n",
        "print('*********************************************************')\n",
        "print(f'The probability of selecting red or yellow is {bernoulli(1, 4/13) + bernoulli(1, 7/13) }')\n",
        "print(f'The probability of selecting blue or yellow is {bernoulli(1, 2/13) + bernoulli(1, 7/13) }')\n",
        "print(f'The number of diferent combinations is {combinations(3, 2)}')\n"
      ],
      "metadata": {
        "id": "pklIM_BAhpVS",
        "outputId": "8e4a04f5-8fcb-4814-8c2d-cb57309aa2bf",
        "colab": {
          "base_uri": "https://localhost:8080/"
        }
      },
      "execution_count": 14,
      "outputs": [
        {
          "output_type": "stream",
          "name": "stdout",
          "text": [
            "The probability of selecting a red is 0.3076923076923077\n",
            "The probability of selecting a yellow is 0.5384615384615384\n",
            "The probability of selecting a red is 0.15384615384615385\n",
            "*********************************************************\n",
            "The probability of selecting red or yellow is 0.8461538461538461\n",
            "The probability of selecting blue or yellow is 0.6923076923076923\n",
            "The number of diferent combinations is 3.0\n"
          ]
        }
      ]
    },
    {
      "cell_type": "code",
      "source": [
        "#Exercise 3\n",
        "\n",
        "prob_red = 10/17\n",
        "prob_blue = 7/17\n",
        "\n",
        "\n",
        "def bernoulli(k,p):\n",
        "    return p*k + (1-p)*(1-k)\n",
        "\n",
        "print(f'The probability of selecting a red is {bernoulli(1,10/17)}')\n",
        "print(f'The probability of selecting a blue a second time returning the marble is {bernoulli(2, 7/17)}')\n",
        "print(f'The probability of selecting a blue a second time not returning the marble is {bernoulli(2 , 6/16)}')\n"
      ],
      "metadata": {
        "id": "51upPdvmlmO7",
        "outputId": "41706924-2870-4f31-c872-2ff64f53a085",
        "colab": {
          "base_uri": "https://localhost:8080/"
        }
      },
      "execution_count": 21,
      "outputs": [
        {
          "output_type": "stream",
          "name": "stdout",
          "text": [
            "The probability of selecting a red is 0.5882352941176471\n",
            "The probability of selecting a blue a second time returning the marble is 0.23529411764705876\n",
            "The probability of selecting a blue a second time not returning the marble is 0.125\n"
          ]
        }
      ]
    },
    {
      "cell_type": "markdown",
      "metadata": {
        "id": "gqwMxdVTAGug"
      },
      "source": [
        "### PROBLEMS\n",
        "\n",
        "1. Suppose a bag contains 8 Red Marbles and 3 Blue Marbles.\n",
        " - What is the probability of choosing a red ball from a random draw?\n",
        " - And the probability of a blue ball?\n",
        "2. Suppose a bag contains 4 Red Marbles, 7 Yellow Marbles, and 2 Blue Marbles.\n",
        " - What is the probability of selecting a red *or* yellow marble?\n",
        " - What is the probability of selecting a yellow *or* blue marble?\n",
        " - How many different combinations of two colors of marbles can be selected from the bag?\n",
        "3. Suppose a bag contains 10 Red and 7 Blue marbles.\n",
        " - Suppose you select one marble from the bag, what is the probability this is red?\n",
        " - Suppose you select a blue marble, place the marble back in the bag, and select another marble. What is the probability the second marble is blue?\n",
        " - Suppose you select a blue marble, do not replace the marble and select another marble. What is the probability the second marble is blue?"
      ]
    }
  ],
  "metadata": {
    "colab": {
      "provenance": []
    },
    "kernelspec": {
      "display_name": "Python 3",
      "language": "python",
      "name": "python3"
    },
    "language_info": {
      "codemirror_mode": {
        "name": "ipython",
        "version": 3
      },
      "file_extension": ".py",
      "mimetype": "text/x-python",
      "name": "python",
      "nbconvert_exporter": "python",
      "pygments_lexer": "ipython3",
      "version": "3.8.2"
    }
  },
  "nbformat": 4,
  "nbformat_minor": 0
}